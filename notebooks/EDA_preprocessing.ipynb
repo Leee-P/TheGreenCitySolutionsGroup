{
 "cells": [
  {
   "cell_type": "code",
   "execution_count": null,
   "metadata": {},
   "outputs": [],
   "source": [
    "import pandas as pd\n",
    "import json\n",
    "from utils import span"
   ]
  },
  {
   "cell_type": "code",
   "execution_count": null,
   "metadata": {},
   "outputs": [],
   "source": [
    "def rename_cols(s):\n",
    "    new_name = (s\n",
    "        .lower()\n",
    "        .replace(' ', '_')\n",
    "        .replace('[', '')\n",
    "        .replace(']', '')\n",
    "        .replace('/', '_')\n",
    "        .replace('relative_humidity_%', 'hum')\n",
    "        .replace('_kw', '_kW')\n",
    "        .replace('_w', '_W')\n",
    "        .replace('prediction', 'pred')\n",
    "        .replace('temperature_c', 'temp')\n",
    "        .replace('radiation_', '')\n",
    "        .replace('drybulb_', '')\n",
    "        .replace('_status', '')\n",
    "        .replace('6h_pred', 'pred_6h')\n",
    "        .replace('12h_pred', 'pred_12h')\n",
    "        .replace('24h_pred', 'pred_24h')\n",
    "        .replace('average_unmet_cooling_setpoint_difference_c', 'avg_unmet_cooling_temp') #do we even need this column?\n",
    "    )\n",
    "    return new_name"
   ]
  },
  {
   "cell_type": "code",
   "execution_count": null,
   "metadata": {},
   "outputs": [],
   "source": [
    "building_nr = 4\n",
    "\n",
    "#1. load json for this building\n",
    "with open(\"../data/citylearn_challenge_2021/schema.json\") as schema_file:\n",
    "    schema = json.load(schema_file)\n",
    "\n",
    "building_properties = schema['buildings'][f'Building_{building_nr}']\n",
    "pv_nominal_power_kW = building_properties['pv']['attributes']['nominal_power']\n",
    "\n",
    "weather = pd.read_csv(\"../data/citylearn_challenge_2021/weather.csv\")\n",
    "building = pd.read_csv(\"../data/citylearn_challenge_2021/Building_5.csv\")\n",
    "building = pd.concat([building, weather], axis=1)\n",
    "assert len(building) == len(weather)\n",
    "\n",
    "building = (building\n",
    ".drop(columns=[\"Heating Load [kWh]\"])\n",
    ".assign(\n",
    "        datetime = span('2008-01-02', '2011-12-31'),\n",
    "        holiday = lambda x: x[\"Day Type\"] == 8)\n",
    ".assign(workday = lambda x: (x.datetime.dt.weekday >= 1) & (x.datetime.dt.weekday <= 5) & (x[\"Day Type\"] != 8) )\n",
    ".drop(columns=[\"Month\", \"Hour\", \"Day Type\"])\n",
    ".set_index(\"datetime\")\n",
    ".rename(columns=rename_cols)\n",
    ".assign(solar_generation_kW = lambda x: x.solar_generation_W_kW * pv_nominal_power_kW/1000)\n",
    ")"
   ]
  },
  {
   "cell_type": "code",
   "execution_count": null,
   "metadata": {},
   "outputs": [],
   "source": [
    "building.to_csv(f\"../data/preprocessed/Building_{building_nr}.csv\")"
   ]
  }
 ],
 "metadata": {
  "kernelspec": {
   "display_name": "Python 3.9.8 ('.venv': venv)",
   "language": "python",
   "name": "python3"
  },
  "language_info": {
   "codemirror_mode": {
    "name": "ipython",
    "version": 3
   },
   "file_extension": ".py",
   "mimetype": "text/x-python",
   "name": "python",
   "nbconvert_exporter": "python",
   "pygments_lexer": "ipython3",
   "version": "3.9.8"
  },
  "orig_nbformat": 4,
  "vscode": {
   "interpreter": {
    "hash": "adec6c5f7a7e6b374924807d676c9e580fd19dbf1c8cad640c4c5a1bb48bcada"
   }
  }
 },
 "nbformat": 4,
 "nbformat_minor": 2
}
