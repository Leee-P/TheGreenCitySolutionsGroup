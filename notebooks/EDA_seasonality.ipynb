{
 "cells": [
  {
   "cell_type": "code",
   "execution_count": null,
   "metadata": {},
   "outputs": [],
   "source": [
    "import pandas as pd\n",
    "import numpy as np\n",
    "from scipy.optimize import minimize\n",
    "from scipy.optimize import curve_fit\n",
    "import matplotlib.pyplot as plt\n",
    "from sklearn.metrics import mean_absolute_error, mean_squared_error\n",
    "from sklearn.linear_model import LinearRegression\n",
    "from statsmodels.graphics.tsaplots import plot_acf, plot_pacf\n",
    "from green_city.utils import span\n",
    "from scipy.interpolate import CubicSpline\n",
    "import itertools"
   ]
  },
  {
   "cell_type": "code",
   "execution_count": null,
   "metadata": {},
   "outputs": [],
   "source": [
    "b4 = pd.read_csv(\"../data/preprocessed/Building_4.csv\").astype({'datetime': 'datetime64'}).set_index('datetime')"
   ]
  },
  {
   "cell_type": "markdown",
   "metadata": {},
   "source": [
    "## some aggregation on solar cell power generation"
   ]
  },
  {
   "cell_type": "code",
   "execution_count": null,
   "metadata": {},
   "outputs": [],
   "source": [
    "fig, (ax1, ax2) = plt.subplots(1, 2)\n",
    "fig.suptitle(\"Solar generation -vs- direct solar radiation [first day]\")\n",
    "b4.loc[span('2008-01-02'), 'solar_generation_W_kW'].plot(ax=ax1) #7 = Solar Generation [W/kW]\n",
    "ax1.set_title(\"Solar generation [W/kW]\")\n",
    "b4.loc[span('2008-01-02'), 'direct_solar_W_m2'].plot(ax=ax2);\n",
    "ax2.set_title(\"Direct solar radiation [W/m2]\")"
   ]
  },
  {
   "cell_type": "code",
   "execution_count": null,
   "metadata": {},
   "outputs": [],
   "source": [
    "fig, ax = plt.subplots()\n",
    "fig.suptitle(\"Solar generation -vs- direct solar radiation [first two months]\")\n",
    "ax.plot(\"solar_generation_W_kW\", data = b4.loc[span('2008-01-02', '2008-02-02'), :], label=\"Solar generation [W/kW]\")\n",
    "ax.plot(\"direct_solar_W_m2\",     data = b4.loc[span('2008-01-02', '2008-02-02'), :], label=\"Direct solar radiation [W/m2]\")\n",
    "plt.legend()"
   ]
  },
  {
   "cell_type": "code",
   "execution_count": null,
   "metadata": {},
   "outputs": [],
   "source": [
    "is_winter = np.logical_or(b4.index.month < 4, b4.index.month > 9)\n",
    "winterdays = b4[is_winter]\n",
    "summerdays = b4[np.logical_not(is_winter)]\n",
    "print(\"winter daily avg solar generation: \", winterdays.agg(\"mean\")[\"solar_generation_kW\"])\n",
    "print(\"summer daily avg solar generation: \", summerdays.agg(\"mean\")[\"solar_generation_kW\"])\n",
    "#how does one query for properties of the datetime index?\n",
    "#b5.query(\"datetime.dt.hour < 5\")"
   ]
  },
  {
   "cell_type": "markdown",
   "metadata": {},
   "source": [
    "# Trends and Seasonalities"
   ]
  },
  {
   "cell_type": "code",
   "execution_count": null,
   "metadata": {},
   "outputs": [],
   "source": [
    "import seaborn as sns\n",
    "# Define plotting parameters and custom color palette \n",
    "cmaps_hex = ['#193251','#FF5A36','#1E4485', '#99D04A','#FF5A36', '#DB6668']\n",
    "#sns.set_palette(palette=cmaps_hex)\n",
    "sns_c = sns.color_palette(palette=cmaps_hex)\n",
    "\n",
    "plt.rcParams['figure.figsize'] = [15, 5]\n",
    "plt.rcParams['figure.dpi'] = 100"
   ]
  },
  {
   "cell_type": "code",
   "execution_count": null,
   "metadata": {},
   "outputs": [],
   "source": [
    "def get_first_n(series, n = None):\n",
    "    if not n:\n",
    "        return series\n",
    "    return series[:n]\n",
    "    \n",
    "def plot_decomposition(decomposition, first_n = None):\n",
    "    fig, ax = plt.subplots(4, 1, figsize=(12, 12), constrained_layout=True)\n",
    "    observed = get_first_n(decomposition.observed, first_n)\n",
    "    observed.plot(c=sns_c[0], ax=ax[0])\n",
    "    ax[0].set(title='Actual temperature')\n",
    "    trend = get_first_n(decomposition.trend, first_n)\n",
    "    trend.plot(c=sns_c[1], ax=ax[1])\n",
    "    ax[1].set(title='trend')\n",
    "    seasonal = get_first_n(decomposition.seasonal, first_n)\n",
    "    seasonal.plot(c=sns_c[2], ax=ax[2])\n",
    "    ax[2].set(title='seasonal')\n",
    "    resid = get_first_n(decomposition.resid, first_n)\n",
    "    resid.plot(c=sns_c[3], ax=ax[3])\n",
    "    ax[3].set(title='residual')\n",
    "    fig.set_size_inches(20, 10);"
   ]
  },
  {
   "cell_type": "code",
   "execution_count": null,
   "metadata": {},
   "outputs": [],
   "source": [
    "from statsmodels.tsa.seasonal import seasonal_decompose\n",
    "\n",
    "orig_data = b4.outdoor_temp\n",
    "decomposition_dailyseason = seasonal_decompose(x=orig_data,\n",
    "                                   model='additive',\n",
    "                                   period=24,)\n",
    "plot_decomposition(decomposition_dailyseason, 500)"
   ]
  },
  {
   "cell_type": "code",
   "execution_count": null,
   "metadata": {},
   "outputs": [],
   "source": [
    "#decomposing multiple seasonalities (doesn't currently work well for me)\n",
    "\n",
    "##this requires the development version of statsmodels\n",
    "##and it produces weird results.\n",
    "#\n",
    "##https://www.statsmodels.org/dev/examples/notebooks/generated/mstl_decomposition.html\n",
    "##https://www.statsmodels.org/dev/_modules/statsmodels/tsa/stl/mstl.html\n",
    "##https://towardsdatascience.com/multi-seasonal-time-series-decomposition-using-mstl-in-python-136630e67530\n",
    "##from statsmodels.tsa.seasonal import DecomposeResult\n",
    "#from statsmodels.tsa.stl.mstl import MSTL\n",
    "#\n",
    "#mstl_model = MSTL(b5.loc[span(\"2008-01-02\", \"2010-05-05\"), \"outdoor_drybulb_temp_C\"], periods=(24 * 365, 24))\n",
    "#res = mstl_model.fit()\n",
    "#ax = res.plot()"
   ]
  },
  {
   "cell_type": "markdown",
   "metadata": {},
   "source": [
    "# De-seasoning piece by piece"
   ]
  },
  {
   "cell_type": "code",
   "execution_count": null,
   "metadata": {},
   "outputs": [],
   "source": [
    "b4s = (pd.read_csv(\"../data/preprocessed/Building_4.csv\")\n",
    "        .astype({'datetime': 'datetime64'})\n",
    "        [[\"datetime\", \"net_load_kWh\"]]\n",
    "        .rename(columns={\"net_load_kWh\": \"actual\"})\n",
    "        .assign(dayofyear = lambda x: x.datetime.dt.dayofyear)\n",
    ")\n",
    "\n",
    "b4s.head()"
   ]
  },
  {
   "cell_type": "markdown",
   "metadata": {},
   "source": [
    "## De-trending and de-seasoning yearly seasons\n",
    "- fitting trigonometric functions to detect seasonality"
   ]
  },
  {
   "cell_type": "code",
   "execution_count": null,
   "metadata": {},
   "outputs": [],
   "source": [
    "fig, (ax1, ax2) = plt.subplots(1, 2, figsize=(24,4))\n",
    "b4s.set_index(\"datetime\").rolling(24*7, center=True).mean()[\"actual\"].plot(ax=ax1, title=\"smoothed average consumption over observation time\")\n",
    "b4s.set_index(\"datetime\").actual.rolling(24*28*3, win_type = 'hamming', center=True, min_periods=1).mean().plot(color=\"cyan\", ax=ax1)\n",
    "\n",
    "b4s.groupby(\"dayofyear\").mean()[\"actual\"].plot(ax=ax2, title=\"mean consumption per day of year\");\n",
    "\n",
    "#plt.figure()\n"
   ]
  },
  {
   "cell_type": "code",
   "execution_count": null,
   "metadata": {},
   "outputs": [],
   "source": [
    "def harmonic_approx(x, season_length, coef, intercept=0):\n",
    "    sum = np.zeros(x.shape) + intercept\n",
    "\n",
    "    for (i, (c, trig_fun)) in enumerate(zip(coef, itertools.cycle([np.sin, np.cos]))):\n",
    "        d = i//2+1\n",
    "        sum += c * trig_fun(x * d * 2*np.pi / season_length)\n",
    "    \n",
    "    return sum\n",
    "\n",
    "\n",
    "def fit_tri(ydata, harmonic_degree, x=None):\n",
    "\n",
    "    if x is None:\n",
    "        x = ydata.index #assuming that ydata is a Series\n",
    "\n",
    "    harmonics = range(1, harmonic_degree+1)\n",
    "\n",
    "    basis = []\n",
    "    for multiplier in harmonics:\n",
    "        basis.append(pd.Series( np.sin(x*multiplier*2*np.pi/season_length), name = f'beta_{multiplier}_sin'))\n",
    "        basis.append(pd.Series( np.cos(x*multiplier*2*np.pi/season_length), name = f'beta_{multiplier}_cos'))\n",
    "\n",
    "    trig_basis = pd.concat(basis, axis=1)\n",
    "\n",
    "    lr = LinearRegression()\n",
    "    model = lr.fit(trig_basis, ydata)\n",
    "\n",
    "    approximation_result = harmonic_approx(x, season_length, model.coef_, model.intercept_)\n",
    "\n",
    "    return (model, approximation_result)\n",
    "\n",
    "\n",
    "season_length = 365*24\n",
    "\n",
    "##############################################\n",
    "#Approach 2: periodic-boundary-smoothing for the mean year\n",
    "##############################################\n",
    "shifts = len(b4s)//season_length # =4\n",
    "\n",
    "net_load = b4s[\"actual\"]\n",
    "avg_net_load = (sum([net_load.shift(-i*24*365) for i in range(shifts)])/shifts)[:season_length]\n",
    "#avg_net_load = pd.concat([net_load.shift(-i*24*365)[:season_length] for i in range(shifts)], axis=1).agg('mean', axis=1)\n",
    "\n",
    "#make three copies such that using the rolling average will produce a periodic window when cutting out the middle third afterwards\n",
    "y_data = pd.concat([avg_net_load]*3, axis=0).rolling(24*7, center=True).mean()[season_length:2*season_length]\n",
    "##############################################\n",
    "\n",
    "plt.plot(y_data, label=\"real\", color=\"lightgray\")\n",
    "for degree in range(1, 8):\n",
    "    model, y_season = fit_tri(y_data, degree)\n",
    "    print(f\"trig. mse for d={degree}:\", mean_squared_error(y_season, y_data))\n",
    "    if degree in [1,4,6]:\n",
    "        plt.plot(y_season, label=str(degree))\n",
    "plt.legend();"
   ]
  },
  {
   "cell_type": "code",
   "execution_count": null,
   "metadata": {},
   "outputs": [],
   "source": [
    "model, _ = fit_tri(y_data, 4)\n",
    "b4s[\"season_Y\"] = harmonic_approx(b4s.index, season_length, model.coef_, model.intercept_)\n",
    "b4s.head()"
   ]
  },
  {
   "cell_type": "markdown",
   "metadata": {},
   "source": [
    "### De-trending"
   ]
  },
  {
   "cell_type": "code",
   "execution_count": null,
   "metadata": {},
   "outputs": [],
   "source": [
    "plt.plot(b4s.season_Y, color=\"gray\")\n",
    "plt.plot(b4s.actual.rolling(24*7, center=True).mean(), color=\"cyan\")\n",
    "\n",
    "plt.plot(b4s.actual.rolling(24*7, center=True).mean() - b4s.season_Y, color=\"orange\")\n",
    "plt.plot(b4s.actual.rolling(24*28*3, win_type = 'hamming', center=True, min_periods=1).mean(), color=\"red\")\n",
    "\n",
    "#(b4s.actual.rolling(24*28*3, win_type = 'hamming', center=True, min_periods=1).mean() - b4s.season_Y).rolling(24*4, center=True, min_periods=1).mean().plot(color=\"blue\")\n",
    "\n",
    "trend = (b4s.actual.rolling(24*28*3, win_type = 'hamming', center=True, min_periods=1).mean() - b4s.season_Y).rolling(24*150).mean()#.plot(color=\"black\")\n",
    "trend.plot(color=\"green\")\n",
    "trend.rolling(24*100).mean().plot(color=\"black\")\n",
    "\n",
    "b4s[\"trend\"] = trend"
   ]
  },
  {
   "cell_type": "code",
   "execution_count": null,
   "metadata": {},
   "outputs": [],
   "source": [
    "decomp = pd.DataFrame({\"data\": b4s[\"actual\"], \"season\": b4s[\"season_Y\"], \"trend\": trend, \"datetime\": b4s[\"datetime\"]})\n",
    "decomp[\"deseasoned_year\"] = decomp.data - decomp.season - decomp.trend"
   ]
  },
  {
   "cell_type": "markdown",
   "metadata": {},
   "source": [
    "### Dealing with weekly seasonality\n",
    "- after substracting the weekday-avg deviations, look if over the year the weekday-adjustments are actually changing (same will hold when deseasoning hours)"
   ]
  },
  {
   "cell_type": "code",
   "execution_count": null,
   "metadata": {},
   "outputs": [],
   "source": [
    "plot_week_acf = False\n",
    "if plot_week_acf:\n",
    "    decomp[\"weekerror\"] = (decomp.data.rolling(24*7, center=True, min_periods=1).mean() - decomp.season - decomp.trend)\n",
    "    decomp['week_tot'] = [i//(24*7) for i in range(len(decomp))]\n",
    "    plot_acf(decomp.groupby(\"week_tot\").mean().weekerror, lags=70);\n",
    "\n",
    "decomp[\"weekday\"] = decomp.datetime.dt.weekday\n",
    "decomp[\"hour\"] = decomp.datetime.dt.hour\n",
    "decomp['day_tot'] = [i//(24) for i in range(len(decomp))]\n",
    "\n",
    "weekday_correction = decomp.groupby(\"weekday\").mean()[\"deseasoned_year\"].to_numpy()\n",
    "decomp[\"week_season\"] = list(map(lambda x: weekday_correction[x], decomp.weekday))\n",
    "decomp[\"deseasoned_week\"] = decomp.data - decomp.season - decomp.trend - decomp.week_season\n",
    "decomp.groupby(\"day_tot\").mean()[\"deseasoned_week\"].iloc[600:800].plot()"
   ]
  },
  {
   "cell_type": "markdown",
   "metadata": {},
   "source": [
    "### Day deseasoning"
   ]
  },
  {
   "cell_type": "code",
   "execution_count": null,
   "metadata": {},
   "outputs": [],
   "source": [
    "#decomp.groupby(\"hour\").mean()[\"deseasoned_week\"].plot()\n",
    "hour_correction = decomp.groupby(\"hour\").mean()[\"deseasoned_week\"].to_numpy()\n",
    "decomp[\"day_season\"] =  list(map(lambda x: hour_correction[x], decomp.hour))\n",
    "decomp[\"fully_deseasoned\"] =  decomp.data - decomp.season - decomp.trend - decomp.week_season - decomp.day_season\n",
    "decomp.set_index(\"datetime\").iloc[50*24:120*24].plot(y = \"fully_deseasoned\")\n",
    "decomp.set_index(\"datetime\").iloc[120*24:220*24].plot(y = \"fully_deseasoned\")\n",
    "\n",
    "plot_acf(decomp.fully_deseasoned, lags=70);"
   ]
  },
  {
   "cell_type": "markdown",
   "metadata": {},
   "source": [
    "### Fitting splines"
   ]
  },
  {
   "cell_type": "code",
   "execution_count": null,
   "metadata": {},
   "outputs": [],
   "source": [
    "smooth_data = year_avg.rolling(24*4, center=True, min_periods=1).mean()\n",
    "smooth_data"
   ]
  },
  {
   "cell_type": "code",
   "execution_count": null,
   "metadata": {},
   "outputs": [],
   "source": [
    "np.mean([2,3.1,1])"
   ]
  }
 ],
 "metadata": {
  "kernelspec": {
   "display_name": "Python 3.9.8 ('.venv': venv)",
   "language": "python",
   "name": "python3"
  },
  "language_info": {
   "codemirror_mode": {
    "name": "ipython",
    "version": 3
   },
   "file_extension": ".py",
   "mimetype": "text/x-python",
   "name": "python",
   "nbconvert_exporter": "python",
   "pygments_lexer": "ipython3",
   "version": "3.9.8"
  },
  "orig_nbformat": 4,
  "vscode": {
   "interpreter": {
    "hash": "adec6c5f7a7e6b374924807d676c9e580fd19dbf1c8cad640c4c5a1bb48bcada"
   }
  }
 },
 "nbformat": 4,
 "nbformat_minor": 2
}
