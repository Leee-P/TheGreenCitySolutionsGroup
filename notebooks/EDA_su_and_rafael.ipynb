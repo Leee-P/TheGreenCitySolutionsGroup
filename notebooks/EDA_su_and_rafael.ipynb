{
 "cells": [
  {
   "cell_type": "code",
   "execution_count": null,
   "metadata": {},
   "outputs": [],
   "source": [
    "import pandas as pd\n",
    "import numpy as np\n",
    "import matplotlib.pyplot as plt"
   ]
  },
  {
   "cell_type": "code",
   "execution_count": null,
   "metadata": {},
   "outputs": [],
   "source": [
    "weather = pd.read_csv(\"../data/citylearn_challenge_2021/weather.csv\")\n",
    "#carbon = pd.read_csv(\"../data/citylearn_challenge_2021/carbon_intensity.csv\")\n",
    "b5 = pd.read_csv(\"../data/citylearn_challenge_2021/Building_5.csv\")\n",
    "\n",
    "for df in [weather, b5]:\n",
    "        df[\"datetime\"] = pd.date_range(start='2008-01-02 01:00:00', end='2012-01-01', freq='h')\n",
    "\n",
    "weather = weather.set_index(\"datetime\")\n",
    "\n",
    "b5 = (b5.drop(columns=[\"Heating Load [kWh]\"])\n",
    ".assign(holiday = b5[\"Day Type\"] == 8,)\n",
    "        #datetime = pd.date_range(start='2008-01-02 01:00:00', end='2012-01-01', freq='h'))\n",
    ".assign(workday = (b5.datetime.dt.weekday >= 1) & (b5.datetime.dt.weekday <= 5) & (b5[\"Day Type\"] != 8) )\n",
    ".drop(columns=[\"Month\", \"Hour\", \"Day Type\"])\n",
    ".set_index(\"datetime\")\n",
    ")"
   ]
  },
  {
   "cell_type": "code",
   "execution_count": null,
   "metadata": {},
   "outputs": [],
   "source": [
    "#combine both datasets\n",
    "df = pd.concat([b5, weather], axis=1)\n",
    "df.columns"
   ]
  },
  {
   "cell_type": "code",
   "execution_count": null,
   "metadata": {},
   "outputs": [],
   "source": [
    "df.iloc[0:24, [7]].plot() #7 = Solar Generation [W/kW]\n",
    "df.iloc[0:24, [13]].plot() #3 = Solar Generation [W/kW]"
   ]
  },
  {
   "cell_type": "code",
   "execution_count": null,
   "metadata": {},
   "outputs": [],
   "source": [
    "fig, ax = plt.subplots()\n",
    "ax.plot(\"Solar Generation [W/kW]\", data=df.iloc[0:24, :])\n",
    "ax.plot(\"Direct Solar Radiation [W/m2]\", data=df.iloc[0:24, :])"
   ]
  },
  {
   "cell_type": "markdown",
   "metadata": {},
   "source": [
    "# Trends and Seasonalities"
   ]
  },
  {
   "cell_type": "code",
   "execution_count": null,
   "metadata": {},
   "outputs": [],
   "source": [
    "import seaborn as sns\n",
    "# Define plotting parameters and custom color palette \n",
    "cmaps_hex = ['#193251','#FF5A36','#1E4485', '#99D04A','#FF5A36', '#DB6668']\n",
    "#sns.set_palette(palette=cmaps_hex)\n",
    "sns_c = sns.color_palette(palette=cmaps_hex)\n",
    "\n",
    "plt.rcParams['figure.figsize'] = [15, 5]\n",
    "plt.rcParams['figure.dpi'] = 100"
   ]
  },
  {
   "cell_type": "code",
   "execution_count": null,
   "metadata": {},
   "outputs": [],
   "source": [
    "from statsmodels.tsa.seasonal import seasonal_decompose\n",
    "\n",
    "decomposition = seasonal_decompose(x=df[\"Outdoor Drybulb Temperature [C]\"], \n",
    "                                   model='additive',\n",
    "                                   period=356*24)"
   ]
  },
  {
   "cell_type": "code",
   "execution_count": null,
   "metadata": {},
   "outputs": [],
   "source": [
    "fig, ax = plt.subplots(4, 1, figsize=(12, 12), constrained_layout=True)\n",
    "decomposition.observed.plot(c=sns_c[0], ax=ax[0])\n",
    "ax[0].set(title='Actual temperature')\n",
    "decomposition.trend.plot(c=sns_c[1], ax=ax[1])\n",
    "ax[1].set(title='trend')\n",
    "decomposition.seasonal.plot(c=sns_c[2], ax=ax[2])\n",
    "ax[2].set(title='seasonal')\n",
    "decomposition.resid.plot(c=sns_c[3], ax=ax[3])\n",
    "ax[3].set(title='residual')\n",
    "fig.set_size_inches(20, 10);"
   ]
  },
  {
   "cell_type": "code",
   "execution_count": null,
   "metadata": {},
   "outputs": [],
   "source": [
    "#decomposing daily trend\n",
    "decomposition = seasonal_decompose(x=df[\"Outdoor Drybulb Temperature [C]\"].head(24*30), \n",
    "                                   model='additive',\n",
    "                                   period=24)"
   ]
  },
  {
   "cell_type": "code",
   "execution_count": null,
   "metadata": {},
   "outputs": [],
   "source": [
    "fig, ax = plt.subplots(4, 1, figsize=(12, 12), constrained_layout=True)\n",
    "decomposition.observed.plot(c=sns_c[0], ax=ax[0])\n",
    "ax[0].set(title='Actual temperature')\n",
    "decomposition.trend.plot(c=sns_c[1], ax=ax[1])\n",
    "ax[1].set(title='trend')\n",
    "decomposition.seasonal.plot(c=sns_c[2], ax=ax[2])\n",
    "ax[2].set(title='seasonal')\n",
    "decomposition.resid.plot(c=sns_c[3], ax=ax[3])\n",
    "ax[3].set(title='residual')\n",
    "fig.set_size_inches(20, 10);"
   ]
  }
 ],
 "metadata": {
  "kernelspec": {
   "display_name": "Python 3.9.8 64-bit ('3.9.8')",
   "language": "python",
   "name": "python3"
  },
  "language_info": {
   "codemirror_mode": {
    "name": "ipython",
    "version": 3
   },
   "file_extension": ".py",
   "mimetype": "text/x-python",
   "name": "python",
   "nbconvert_exporter": "python",
   "pygments_lexer": "ipython3",
   "version": "3.9.8"
  },
  "orig_nbformat": 4,
  "vscode": {
   "interpreter": {
    "hash": "3f6d3aaa2d779f556cc53495262fbf6c91d941ead9e744799a21b1c930aa6043"
   }
  }
 },
 "nbformat": 4,
 "nbformat_minor": 2
}
