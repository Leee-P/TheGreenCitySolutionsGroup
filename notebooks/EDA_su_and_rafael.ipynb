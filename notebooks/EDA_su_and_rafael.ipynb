{
 "cells": [
  {
   "cell_type": "code",
   "execution_count": null,
   "metadata": {},
   "outputs": [],
   "source": [
    "import pandas as pd\n",
    "import numpy as np\n",
    "import matplotlib.pyplot as plt\n",
    "import re"
   ]
  },
  {
   "cell_type": "code",
   "execution_count": null,
   "metadata": {},
   "outputs": [],
   "source": [
    "def rename_cols(s):\n",
    "    new_name = (s\n",
    "        .lower()\n",
    "        .replace(' ', '_')\n",
    "        .replace('[', '')\n",
    "        .replace(']', '')\n",
    "        .replace('/', '_')\n",
    "        .replace('%','perc')\n",
    "        .replace('_kw', '_kW')\n",
    "        .replace('_w', '_W')\n",
    "        .replace('prediction', 'pred')\n",
    "        .replace('relative', 'rel')\n",
    "        .replace('temperature', 'temp')\n",
    "        .replace('humidity', 'hum')\n",
    "    )\n",
    "    return re.sub(r'_c$', '_C', new_name)"
   ]
  },
  {
   "cell_type": "code",
   "execution_count": null,
   "metadata": {},
   "outputs": [],
   "source": [
    "#write\n",
    "# span('2008-01-02 00:00', '2011-12-31 23:00')\n",
    "#or even shorter\n",
    "# span('2008-01-02', '2011-12-31')\n",
    "#instead of\n",
    "# pd.date_range('2008-01-02 00:00', '2011-12-31 23:00', freq='H')\n",
    "\n",
    "def span(start, end=None, freq='H'):\n",
    "    if not end:\n",
    "        end = start\n",
    "    pattern = re.compile(\"^....-..-..$\") #matches patterns like YYYY-MM-DD\n",
    "    if pattern.match(start):\n",
    "        start += \" 00:00\"\n",
    "    if pattern.match(end):\n",
    "        end += \" 23:00\"\n",
    "    return pd.date_range(start=start, end=end, freq=freq)\n",
    "\n",
    "assert len(span(\"2008-01-01\", \"2008-01-01\")) == 24\n",
    "assert len(span(\"2008-01-01\")) == 24"
   ]
  },
  {
   "cell_type": "code",
   "execution_count": null,
   "metadata": {},
   "outputs": [],
   "source": [
    "weather = pd.read_csv(\"../data/citylearn_challenge_2021/weather.csv\")\n",
    "b5 = pd.read_csv(\"../data/citylearn_challenge_2021/Building_5.csv\")\n",
    "b5 = pd.concat([b5, weather], axis=1)\n",
    "assert len(b5) == len(weather)\n",
    "\n",
    "b5 = (b5\n",
    ".drop(columns=[\"Heating Load [kWh]\"])\n",
    ".assign(\n",
    "        datetime = span('2008-01-02', '2011-12-31'),\n",
    "        holiday = lambda x: x[\"Day Type\"] == 8)\n",
    ".assign(workday = lambda x: (x.datetime.dt.weekday >= 1) & (x.datetime.dt.weekday <= 5) & (x[\"Day Type\"] != 8) )\n",
    ".drop(columns=[\"Month\", \"Hour\", \"Day Type\"])\n",
    ".set_index(\"datetime\")\n",
    ".rename(columns=rename_cols)\n",
    ")\n",
    "b5.columns"
   ]
  },
  {
   "cell_type": "code",
   "execution_count": null,
   "metadata": {},
   "outputs": [],
   "source": [
    "fig, (ax1, ax2) = plt.subplots(1, 2)\n",
    "fig.suptitle(\"Solar generation -vs- direct solar radiation [first day]\")\n",
    "b5.loc[span('2008-01-02'), 'solar_generation_W_kW'].plot(ax=ax1) #7 = Solar Generation [W/kW]\n",
    "ax1.set_title(\"Solar generation [W/kW]\")\n",
    "b5.loc[span('2008-01-02'), 'direct_solar_radiation_W_m2'].plot(ax=ax2);\n",
    "ax2.set_title(\"Direct solar radiation [W/m2]\")"
   ]
  },
  {
   "cell_type": "code",
   "execution_count": null,
   "metadata": {},
   "outputs": [],
   "source": [
    "fig, ax = plt.subplots()\n",
    "fig.suptitle(\"Solar generation -vs- direct solar radiation [first two months]\")\n",
    "ax.plot('solar_generation_W_kW', data=b5.loc[span('2008-01-02', '2008-02-28'), :], label=\"Solar generation [W/kW]\")\n",
    "ax.plot('direct_solar_radiation_W_m2', data=b5.loc[span('2008-01-02', '2008-02-28'), :], label=\"Direct solar radiation [W/m2]\")\n",
    "plt.legend()"
   ]
  },
  {
   "cell_type": "markdown",
   "metadata": {},
   "source": [
    "# Trends and Seasonalities"
   ]
  },
  {
   "cell_type": "code",
   "execution_count": null,
   "metadata": {},
   "outputs": [],
   "source": [
    "import seaborn as sns\n",
    "# Define plotting parameters and custom color palette \n",
    "cmaps_hex = ['#193251','#FF5A36','#1E4485', '#99D04A','#FF5A36', '#DB6668']\n",
    "#sns.set_palette(palette=cmaps_hex)\n",
    "sns_c = sns.color_palette(palette=cmaps_hex)\n",
    "\n",
    "plt.rcParams['figure.figsize'] = [15, 5]\n",
    "plt.rcParams['figure.dpi'] = 100"
   ]
  },
  {
   "cell_type": "code",
   "execution_count": null,
   "metadata": {},
   "outputs": [],
   "source": [
    "def plot_decomposition(decomposition):\n",
    "    fig, ax = plt.subplots(4, 1, figsize=(12, 12), constrained_layout=True)\n",
    "    decomposition.observed.plot(c=sns_c[0], ax=ax[0])\n",
    "    ax[0].set(title='Actual temperature')\n",
    "    decomposition.trend.plot(c=sns_c[1], ax=ax[1])\n",
    "    ax[1].set(title='trend')\n",
    "    decomposition.seasonal.plot(c=sns_c[2], ax=ax[2])\n",
    "    ax[2].set(title='seasonal')\n",
    "    decomposition.resid.plot(c=sns_c[3], ax=ax[3])\n",
    "    ax[3].set(title='residual')\n",
    "    fig.set_size_inches(20, 10);"
   ]
  },
  {
   "cell_type": "code",
   "execution_count": null,
   "metadata": {},
   "outputs": [],
   "source": [
    "from statsmodels.tsa.seasonal import seasonal_decompose\n",
    "\n",
    "decomposition_yearlyseason = seasonal_decompose(x=b5.outdoor_drybulb_temp_C, \n",
    "                                   model='additive',\n",
    "                                   period=356*24)\n",
    "plot_decomposition(decomposition_yearlyseason)"
   ]
  },
  {
   "cell_type": "code",
   "execution_count": null,
   "metadata": {},
   "outputs": [],
   "source": [
    "#decomposing daily trend\n",
    "decomposition_dailyseason = seasonal_decompose(x=b5.outdoor_drybulb_temp_C.head(24*30), \n",
    "                                   model='additive',\n",
    "                                   period=24)\n",
    "plot_decomposition(decomposition_dailyseason)"
   ]
  },
  {
   "cell_type": "code",
   "execution_count": null,
   "metadata": {},
   "outputs": [],
   "source": [
    "#decomposing multiple seasonalities\n",
    "#this requires the development version of statsmodels\n",
    "\n",
    "#https://www.statsmodels.org/dev/examples/notebooks/generated/mstl_decomposition.html\n",
    "#https://www.statsmodels.org/dev/_modules/statsmodels/tsa/stl/mstl.html\n",
    "#https://towardsdatascience.com/multi-seasonal-time-series-decomposition-using-mstl-in-python-136630e67530\n",
    "#from statsmodels.tsa.seasonal import DecomposeResult\n",
    "#from statsmodels.tsa.stl.mstl import MSTL\n",
    "#\n",
    "#mstl_model = MSTL(b5.outdoor_drybulb_temp_C, periods=[24, 24 * 365])\n",
    "#res = mstl_model.fit()\n",
    "#ax = res.plot()"
   ]
  }
 ],
 "metadata": {
  "kernelspec": {
   "display_name": "Python 3.9.8 ('.venv': venv)",
   "language": "python",
   "name": "python3"
  },
  "language_info": {
   "codemirror_mode": {
    "name": "ipython",
    "version": 3
   },
   "file_extension": ".py",
   "mimetype": "text/x-python",
   "name": "python",
   "nbconvert_exporter": "python",
   "pygments_lexer": "ipython3",
   "version": "3.9.8"
  },
  "orig_nbformat": 4,
  "vscode": {
   "interpreter": {
    "hash": "adec6c5f7a7e6b374924807d676c9e580fd19dbf1c8cad640c4c5a1bb48bcada"
   }
  }
 },
 "nbformat": 4,
 "nbformat_minor": 2
}
