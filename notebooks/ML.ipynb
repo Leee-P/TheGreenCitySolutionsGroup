{
 "cells": [
  {
   "cell_type": "markdown",
   "metadata": {},
   "source": [
    "# Time Series Forecasting using Machine Learning models"
   ]
  },
  {
   "cell_type": "code",
   "execution_count": 99,
   "metadata": {},
   "outputs": [],
   "source": [
    "import pandas as pd\n",
    "import numpy as np\n",
    "import matplotlib.pyplot as plt\n",
    "import seaborn as sns\n",
    "\n",
    "from sklearn.preprocessing import StandardScaler\n",
    "from sklearn.metrics import r2_score\n",
    "from sklearn.metrics import mean_absolute_error, mean_squared_error\n",
    "from sklearn.model_selection import TimeSeriesSplit\n",
    "from sklearn.model_selection import GridSearchCV, RandomizedSearchCV\n",
    "\n",
    "from sklearn.linear_model import Ridge, Lasso\n",
    "from sklearn.ensemble import RandomForestRegressor\n",
    "import xgboost as xgb\n",
    "\n",
    "from green_city.utils import index2datetime\n",
    "from green_city.regression import plot_ts, error_metrics, train_test_time_split\n",
    "from green_city.regression import seasons, time_of_day, forecast_dates\n",
    "\n",
    "import warnings\n",
    "warnings.filterwarnings('ignore')\n",
    "\n",
    "RSEED = 42"
   ]
  },
  {
   "cell_type": "code",
   "execution_count": 184,
   "metadata": {},
   "outputs": [],
   "source": [
    "building_nr = \"all\"\n",
    "column_to_predict = \"net_load_kWh\"\n",
    "\n",
    "#document wide parameters that don't change in experiments\n",
    "#for logging to mlflow server\n",
    "global_params = {\n",
    "    \"building_nr\": building_nr,\n",
    "    \"predicted_feature\": column_to_predict,\n",
    "    \"resolution\": \"daily\",\n",
    "}"
   ]
  },
  {
   "cell_type": "code",
   "execution_count": 112,
   "metadata": {},
   "outputs": [],
   "source": [
    "# Set write_date to True for logging to mlflow and SQL database\n",
    "write_data = False\n",
    "\n",
    "if write_data:\n",
    "    \n",
    "    # ## MLFLOW ##\n",
    "    import mlflow\n",
    "    from green_city.mlflow_config import get_mlflow_config\n",
    "\n",
    "    flow_conf = get_mlflow_config()\n",
    "    tracking_uri = flow_conf[\"TRACKING_URI\"]\n",
    "    mlflow.set_tracking_uri(flow_conf[\"TRACKING_URI\"])\n",
    "    mlflow.set_experiment(flow_conf[\"EXPERIMENT_NAME\"]);\n",
    "    \n",
    "\n",
    "    # ## DB CONNECTION ##\n",
    "    from sqlalchemy import create_engine\n",
    "    from decouple import Config, RepositoryEnv\n",
    "\n",
    "    config = Config(RepositoryEnv(\"../.db_credentials\"))\n",
    "    db_connection_credentials = {\n",
    "        \"database\": config('POSTGRES_DB'),\n",
    "        \"user\": config('POSTGRES_USER'),\n",
    "        \"password\": config('POSTGRES_PASSWORD'),\n",
    "        \"host\": config('POSTGRES_HOST'),\n",
    "        \"port\": config('POSTGRES_PORT'),\n",
    "    }\n",
    "    DB_STRING = \"postgresql://{user}:{password}@{host}:{port}/{database}\".format(**db_connection_credentials)\n",
    "    db = create_engine(DB_STRING)"
   ]
  },
  {
   "cell_type": "code",
   "execution_count": 185,
   "metadata": {},
   "outputs": [],
   "source": [
    "# Load data\n",
    "if building_nr == 'all':\n",
    "    df = pd.read_csv(f\"../data/preprocessed/Agg_buildings.csv\").astype({'datetime': 'datetime64'}).set_index('datetime')\n",
    "else:\n",
    "    df = pd.read_csv(f\"../data/preprocessed/Building_{building_nr}.csv\").astype({'datetime': 'datetime64'}).set_index('datetime')\n",
    "df.fillna(0.0, inplace=True)"
   ]
  },
  {
   "cell_type": "code",
   "execution_count": 186,
   "metadata": {},
   "outputs": [],
   "source": [
    "# Add additional columns for time\n",
    "df['hour'] = df.index.hour.astype('category')\n",
    "df['month'] = df.index.month.astype('category')\n",
    "df['year'] = df.index.year.astype('category')\n",
    "df['holiday'] = df['holiday'].astype('category')\n",
    "df['workday'] = df['workday'].astype('category')\n",
    "\n",
    "df['season'] = df['month'].apply(seasons).astype('category')\n",
    "df['time_of_day'] = df['hour'].apply(time_of_day).astype('category')\n",
    "df['day_of_week'] = df.index.day_of_week.astype('category')\n",
    "\n",
    "# Creating lag variables\n",
    "for i in range(24):\n",
    "    df['net_load_kW_lag'+str(i+1)] = df['net_load_kW'].shift(i+1)\n",
    "df['net_load_kW_lag168'] = df['net_load_kW'].shift(24*7)\n",
    "\n",
    "# Exogenous variables for yearly, weekly and hourly seasonality\n",
    "df['year_sin365'] = np.sin(2 * np.pi * df.index.dayofyear / 365)\n",
    "df['year_cos365'] = np.cos(2 * np.pi * df.index.dayofyear / 365)\n",
    "df['year_sin365_2'] = np.sin(4 * np.pi * df.index.dayofyear / 365)\n",
    "df['year_cos365_2'] = np.cos(4 * np.pi * df.index.dayofyear / 365)\n",
    "df['week_sin365'] = np.sin(2 * np.pi * df.index.dayofweek/7)\n",
    "df['week_cos365'] = np.cos(2 * np.pi * df.index.dayofweek/7)\n",
    "df['week_sin365_2'] = np.sin(4 * np.pi * df.index.dayofweek/7)\n",
    "df['week_cos365_2'] = np.cos(4 * np.pi * df.index.dayofweek/7)\n",
    "df['hour_sin365'] = np.sin(2 * np.pi * df.index.hour/24)\n",
    "df['hour_cos365'] = np.cos(2 * np.pi * df.index.hour/24) \n",
    "df['hour_sin365_2'] = np.sin(4 * np.pi * df.index.hour/24)\n",
    "df['hour_cos365_2'] = np.cos(4 * np.pi * df.index.hour/24) \n",
    "\n",
    "# Shift predicted weather values by 24hr\n",
    "df['pred_24h_diffuse_solar_W_m2_shift'] = df['pred_24h_diffuse_solar_W_m2'].shift(periods=24)\n",
    "df['pred_24h_direct_solar_W_m2_shift'] = df['pred_24h_direct_solar_W_m2'].shift(periods=24)\n",
    "df['pred_24h_outdoor_temp_shift'] = df['pred_24h_outdoor_temp'].shift(periods=24)\n",
    "df['pred_24h_outdoor_hum_shift'] = df['pred_24h_outdoor_hum'].shift(periods=24)\n",
    "df = df.dropna()"
   ]
  },
  {
   "cell_type": "markdown",
   "metadata": {},
   "source": [
    "## Lasso Regression"
   ]
  },
  {
   "cell_type": "code",
   "execution_count": null,
   "metadata": {},
   "outputs": [],
   "source": [
    "# Include weather features for random forest regression\n",
    "features = ['outdoor_temp', 'outdoor_hum', \n",
    "            'diffuse_solar_W_m2', 'direct_solar_W_m2', \n",
    "            'hour', 'month', 'holiday', 'workday', 'day_of_week',\n",
    "            'net_load_kW_lag24', 'net_load_kW_lag168',\n",
    "            'year_sin365','year_cos365', 'year_sin365_2', 'year_cos365_2', \n",
    "            'week_sin365','week_cos365', 'week_sin365_2', 'week_cos365_2',\n",
    "            'hour_sin365','hour_cos365','hour_sin365_2','hour_cos365_2']\n",
    "dummy_features = ['hour', 'month', 'holiday', 'workday', 'day_of_week']\n",
    "target = 'net_load_kW'\n",
    "\n",
    "# Do train-test split\n",
    "X_train, y_train, X_test, y_test, df_train, df_test = train_test_time_split(\n",
    "                                                        df, features, target, \n",
    "                                                        dummy_features)\n",
    "\n",
    "# Scaling features\n",
    "scaled_features = X_train.columns[X_train.dtypes == 'float64'].to_list()\n",
    "scaler = StandardScaler()\n",
    "X_train_scaled = X_train.copy()\n",
    "X_test_scaled = X_test.copy()\n",
    "X_train_scaled[scaled_features] = scaler.fit_transform(X_train_scaled[scaled_features])\n",
    "X_test_scaled[scaled_features] = scaler.transform(X_test_scaled[scaled_features])\n",
    "\n",
    "# Create the model\n",
    "model_lasso = Lasso(alpha=0.01)\n",
    "\n",
    "# Fit on training data\n",
    "model_lasso.fit(X_train_scaled, y_train)\n",
    "\n",
    "# Predict train and test data\n",
    "y_pred_train = model_lasso.predict(X_train_scaled)\n",
    "y_pred_test = model_lasso.predict(X_test_scaled)\n",
    "df_test['lasso'] = y_pred_test\n",
    "\n",
    "# Calculate and print error metrics\n",
    "_ = error_metrics(y_train, y_pred_train, y_test, y_pred_test, title=\"Lasso Regression\")                                                        "
   ]
  },
  {
   "cell_type": "code",
   "execution_count": null,
   "metadata": {},
   "outputs": [],
   "source": [
    "plot_ts(df_test['net_load_kW'].iloc[0:24*4], df_test['lasso'].iloc[0:24*4])"
   ]
  },
  {
   "cell_type": "code",
   "execution_count": null,
   "metadata": {},
   "outputs": [],
   "source": [
    "# Time series split for cross validation\n",
    "tscv = TimeSeriesSplit(n_splits=3)\n",
    "\n",
    "param_grid = {\"alpha\": np.linspace(0.05, 1.0, 96)}\n",
    "\n",
    "# Do a randomized search\n",
    "lasso_gscv = GridSearchCV(\n",
    "                estimator=Lasso(random_state=RSEED),\n",
    "                param_grid=param_grid,\n",
    "                cv=tscv, verbose=2, n_jobs=-1)\n",
    "\n",
    "# Fit train data\n",
    "model_lasso = lasso_gscv.fit(X_train_scaled, y_train)"
   ]
  },
  {
   "cell_type": "code",
   "execution_count": null,
   "metadata": {},
   "outputs": [],
   "source": [
    "print(\"Best model:\", lasso_gscv.best_params_)\n",
    "\n",
    "best_model = lasso_gscv.best_estimator_\n",
    "best_params = lasso_gscv.best_params_\n",
    "\n",
    "y_pred_train = best_model.predict(X_train_scaled)\n",
    "y_pred_test = best_model.predict(X_test_scaled)\n",
    "\n",
    "df_train['lasso'] = y_pred_train\n",
    "df_test['lasso'] = y_pred_test\n",
    "\n",
    "_ = error_metrics(y_train, y_pred_train, y_test, y_pred_test, title=\"Lasso regression\")"
   ]
  },
  {
   "cell_type": "code",
   "execution_count": null,
   "metadata": {},
   "outputs": [],
   "source": [
    "# Using predicted weather to forecast net energy usage\n",
    "features = ['pred_24h_outdoor_temp_shift', 'pred_24h_outdoor_hum_shift',\n",
    "            'pred_24h_diffuse_solar_W_m2_shift','pred_24h_direct_solar_W_m2_shift', \n",
    "            'hour', 'month', 'holiday', 'workday', 'day_of_week',\n",
    "            'net_load_kW_lag24', 'net_load_kW_lag168', \n",
    "            'year_sin365','year_cos365', 'year_sin365_2', 'year_cos365_2', \n",
    "            'week_sin365','week_cos365', 'week_sin365_2', 'week_cos365_2',\n",
    "            'hour_sin365','hour_cos365','hour_sin365_2','hour_cos365_2']\n",
    "dummy_features = ['hour', 'month', 'holiday', 'workday', 'day_of_week']\n",
    "target = 'net_load_kW'\n",
    "\n",
    "# Do train-test split\n",
    "X_train, y_train, X_test, y_test, df_train, df_test = train_test_time_split(\n",
    "                                                        df, features, target, \n",
    "                                                        dummy_features)\n",
    "\n",
    "# Scaling features\n",
    "scaled_features = X_train.columns[X_train.dtypes == 'float64'].to_list()\n",
    "X_train_scaled = X_train.copy()\n",
    "X_test_scaled = X_test.copy()\n",
    "X_train_scaled[scaled_features] = scaler.transform(X_train_scaled[scaled_features])\n",
    "X_test_scaled[scaled_features] = scaler.transform(X_test_scaled[scaled_features])\n",
    "\n",
    "# Predict train and test data\n",
    "y_pred_train = best_model.predict(X_train_scaled)\n",
    "y_pred_test = best_model.predict(X_test_scaled)\n",
    "df_test['lasso'] = y_pred_test\n",
    "\n",
    "# Calculate and print error metrics\n",
    "_ = error_metrics(y_train, y_pred_train, y_test, y_pred_test, title=\"Lasso Regression\")                                                               "
   ]
  },
  {
   "cell_type": "code",
   "execution_count": null,
   "metadata": {},
   "outputs": [],
   "source": [
    "# # Using predicted weather to forecast net energy usage\n",
    "# train_features = ['outdoor_temp', 'outdoor_hum', \n",
    "#                 'diffuse_solar_W_m2', 'direct_solar_W_m2', \n",
    "#                 'hour', 'month', 'holiday', 'day_of_week',\n",
    "#                 'net_load_kW_lag24', 'net_load_kW_lag168', \n",
    "#                 'year_sin365','year_cos365', 'year_sin365_2', 'year_cos365_2', \n",
    "#                 'week_sin365','week_cos365', 'week_sin365_2', 'week_cos365_2',\n",
    "#                 'hour_sin365','hour_cos365','hour_sin365_2','hour_cos365_2']\n",
    "# dummy_features = ['hour', 'month', 'holiday', 'workday']\n",
    "# target = 'net_load_kW'\n",
    "\n",
    "# # Using predicted weather to forecast net energy usage\n",
    "# pred_features = ['pred_24h_outdoor_temp_shift', 'pred_24h_outdoor_hum_shift',\n",
    "#                 'pred_24h_diffuse_solar_W_m2_shift','pred_24h_direct_solar_W_m2_shift', \n",
    "#                 'hour', 'month', 'holiday', 'day_of_week',\n",
    "#                 'net_load_kW_lag24', 'net_load_kW_lag168', \n",
    "#                 'year_sin365','year_cos365', 'year_sin365_2', 'year_cos365_2', \n",
    "#                 'week_sin365','week_cos365', 'week_sin365_2', 'week_cos365_2',\n",
    "#                 'hour_sin365','hour_cos365','hour_sin365_2','hour_cos365_2']\n",
    "\n",
    "\n",
    "# # Randomly chosen list of indices to forecast\n",
    "# pred_indices = [32135, 33311, 26478, 33357, 30387, 30794, 31800, 28783]\n",
    "\n",
    "# mae_list = []\n",
    "# mse_list = []\n",
    "# r2_list = []\n",
    "# forecasts = pd.DataFrame(columns=['prediction','run_id','id'])\n",
    "\n",
    "# fig, ax = plt.subplots(4,2,figsize=(14,16))\n",
    "# i = 1\n",
    "# for index in pred_indices:\n",
    "    \n",
    "#     day = index2datetime(index)\n",
    "\n",
    "#     # Train test splot\n",
    "#     X_train = df[train_features].loc[:day]\n",
    "#     y_train = df[[target]].loc[:day]\n",
    "#     X_test = df[pred_features].loc[day+pd.DateOffset(hours=1):day+pd.DateOffset(hours=24)]\n",
    "#     y_test = df[[target]].loc[day+pd.DateOffset(hours=1):day+pd.DateOffset(hours=24)]\n",
    "\n",
    "#     model = Lasso(alpha=0.62, random_state=RSEED)\n",
    "\n",
    "#     # rf = RandomForestRegressor(max_depth=9, min_samples_leaf=10, min_samples_split=7, \n",
    "#     #                         n_estimators=200, random_state=RSEED)\n",
    "\n",
    "#     # Fit on training data\n",
    "#     model.fit(X_train, y_train)\n",
    "\n",
    "#     # Predict train and test data\n",
    "#     y_pred_train = model.predict(X_train)\n",
    "#     y_pred_test = model.predict(X_test)\n",
    "#     X_test['lasso'] = y_pred_test\n",
    "\n",
    "#     # Print error metrics\n",
    "#     mae = mean_absolute_error(y_test, y_pred_test)\n",
    "#     mse = mean_squared_error(y_test, y_pred_test)\n",
    "#     r2 = r2_score(y_test, y_pred_test)\n",
    "#     print(f\"Day: {day}, mae: {mae:.3f}, mse: {mse:.3f}, rmse: {np.sqrt(mse):.3f}, r2: {r2:.3f}\")\n",
    "#     mae_list.append(mae)\n",
    "#     mse_list.append(mse)\n",
    "#     r2_list.append(r2)\n",
    "\n",
    "#     # # Calculate and print error metrics\n",
    "#     #_ = error_metrics(y_train, y_pred_train, y_test, y_pred_test, title=\"Lasso\")       \n",
    "\n",
    "#     # Plot actual vs predicted net energy usage for each of the chosen days\n",
    "#     plt.subplot(4, 2, i)\n",
    "#     y_test['net_load_kW'].plot()\n",
    "#     X_test['lasso'].plot()\n",
    "#     plt.title(day)\n",
    "#     i = i + 1\n",
    "\n",
    "#     if write_data:\n",
    "#         # Starting the MLFlow run\n",
    "#         r = mlflow.start_run(run_name=\"random_forest\")\n",
    "#         print(\"run-uuid:\", r.info.run_uuid)\n",
    "#         for k, v in global_params.items():\n",
    "#             mlflow.log_param(k, v)\n",
    "#             mlflow.log_param(\"model\", \"random_forest\")\n",
    "#             mlflow.log_param(\"datetime\", day)\n",
    "#             mlflow.log_param(\"feature\", \"net_load_kW\")\n",
    "#             mlflow.log_metric(\"mse\", mse)\n",
    "#             mlflow.log_metric(\"mae\", mae)\n",
    "#             mlflow.log_metric(\"r2_score\", r2)\n",
    "#         mlflow.end_run()\n",
    "\n",
    "#         # DataFrame for writing to SQL database\n",
    "#         day_forecast = pd.DataFrame(columns=['prediction','run_id','id'])\n",
    "#         day_forecast['prediction'] = y_pred_test\n",
    "#         day_forecast['run_id'] = r.info.run_uuid\n",
    "#         day_forecast['id'] = np.arange(index+1,index+25)\n",
    "#         forecasts = pd.concat([forecasts, day_forecast], axis=0)\n",
    "\n",
    "# # Write to SQL DB\n",
    "# if write_data:\n",
    "#     forecasts = forecasts.set_index('id')\n",
    "#     forecasts.to_sql(\"forecast\", con=db, if_exists=\"append\")\n",
    "\n",
    "# print(f\"Avg mae: {np.mean(mae_list):.3f}, Avg mse: {np.mean(mse_list):.3f}, Avg rmse: {np.sqrt(np.mean(mse_list)):.3f}, Avg r2: {np.mean(r2):.3f}\")"
   ]
  },
  {
   "cell_type": "markdown",
   "metadata": {},
   "source": [
    "## Random forest regression"
   ]
  },
  {
   "cell_type": "markdown",
   "metadata": {},
   "source": [
    "We first train the model based on the measured weather data. We then use the trained model to forecast the net energy usage based on the 24h predicted weather data."
   ]
  },
  {
   "cell_type": "markdown",
   "metadata": {},
   "source": [
    "### Random forest regression with 24h lagged values and Fourier terms for daily, weekly and yearly seasonality"
   ]
  },
  {
   "cell_type": "code",
   "execution_count": 187,
   "metadata": {},
   "outputs": [
    {
     "name": "stdout",
     "output_type": "stream",
     "text": [
      "----------------------------------------\n",
      "Random Forest Regressor\n",
      "----------------------------------------\n",
      "R2 (train): 0.968\n",
      "R2 (test) : 0.912\n",
      "MAE (test): 30.531\n",
      "MSE (test): 2145.877\n",
      "RMSE(test): 46.324\n"
     ]
    }
   ],
   "source": [
    "# Include weather features for random forest regression\n",
    "features = ['outdoor_temp', 'outdoor_hum', \n",
    "            'diffuse_solar_W_m2', 'direct_solar_W_m2', \n",
    "            'month', 'hour', 'holiday', 'day_of_week',\n",
    "            'net_load_kW_lag24', 'net_load_kW_lag168',\n",
    "            'year_sin365','year_cos365', 'year_sin365_2', 'year_cos365_2', \n",
    "            'week_sin365','week_cos365', 'week_sin365_2', 'week_cos365_2',\n",
    "            'hour_sin365','hour_cos365','hour_sin365_2','hour_cos365_2']\n",
    "dummy_features = ['month', 'hour', 'holiday', 'day_of_week']\n",
    "target = 'net_load_kW'\n",
    "\n",
    "# Do train-test split\n",
    "X_train, y_train, X_test, y_test, df_train, df_test = train_test_time_split(\n",
    "                                                        df, features, target, \n",
    "                                                        dummy_features)\n",
    "\n",
    "# Create the model\n",
    "#rf = RandomForestRegressor(random_state=RSEED)\n",
    "rf = RandomForestRegressor(max_depth=10, min_samples_leaf=50, \n",
    "                            min_samples_split=5, n_estimators=150, random_state=RSEED)\n",
    "\n",
    "\n",
    "# Fit on training data\n",
    "rf.fit(X_train, y_train)\n",
    "\n",
    "# Predict train and test data\n",
    "y_pred_train = rf.predict(X_train)\n",
    "y_pred_test = rf.predict(X_test)\n",
    "df_test['random_forest'] = y_pred_test\n",
    "\n",
    "# Calculate and print error metrics\n",
    "_ = error_metrics(y_train, y_pred_train, y_test, y_pred_test, title=\"Random Forest Regressor\")                                                        "
   ]
  },
  {
   "cell_type": "code",
   "execution_count": 188,
   "metadata": {},
   "outputs": [
    {
     "name": "stdout",
     "output_type": "stream",
     "text": [
      "----------------------------------------\n",
      "Random forest\n",
      "----------------------------------------\n",
      "R2 (train): 0.958\n",
      "R2 (test) : 0.903\n",
      "MAE (test): 32.302\n",
      "MSE (test): 2353.39\n",
      "RMSE(test): 48.512\n"
     ]
    }
   ],
   "source": [
    "# Using predicted weather to forecast net energy usage\n",
    "features = ['pred_24h_outdoor_temp_shift', 'pred_24h_outdoor_hum_shift',\n",
    "            'pred_24h_diffuse_solar_W_m2_shift','pred_24h_direct_solar_W_m2_shift', \n",
    "            'hour', 'month', 'holiday', 'day_of_week',\n",
    "            'net_load_kW_lag24', 'net_load_kW_lag168', \n",
    "            'year_sin365','year_cos365', 'year_sin365_2', 'year_cos365_2', \n",
    "            'week_sin365','week_cos365', 'week_sin365_2', 'week_cos365_2',\n",
    "            'hour_sin365','hour_cos365','hour_sin365_2','hour_cos365_2']\n",
    "dummy_features = ['hour', 'month', 'holiday', 'day_of_week']\n",
    "target = 'net_load_kW'\n",
    "\n",
    "# Do train-test split\n",
    "X_train, y_train, X_test, y_test, df_train, df_test = train_test_time_split(\n",
    "                                                        df, features, target, \n",
    "                                                        dummy_features)\n",
    "\n",
    "# Predict \n",
    "y_pred_train = rf.predict(X_train)\n",
    "y_pred_test = rf.predict(X_test)\n",
    "\n",
    "df_train['random_forest'] = y_pred_train\n",
    "df_test['random_forest'] = y_pred_test\n",
    "\n",
    "_ = error_metrics(y_train, y_pred_train, y_test, y_pred_test, title=\"Random forest\")\n",
    "\n",
    "# forecasts = df_test[['net_load_kW','random_forest','outdoor_temp','outdoor_hum']]\n",
    "# forecasts[\"datetime\"] = forecasts.index\n",
    "# filename = '../data/models/random_forest_building_'+str(building_nr)+'.pkl'\n",
    "# forecasts.to_pickle(filename)"
   ]
  },
  {
   "cell_type": "code",
   "execution_count": 106,
   "metadata": {},
   "outputs": [
    {
     "data": {
      "text/plain": [
       "<AxesSubplot:>"
      ]
     },
     "execution_count": 106,
     "metadata": {},
     "output_type": "execute_result"
    },
    {
     "data": {
      "image/png": "[encoded data removed]",
      "text/plain": [
       "<Figure size 432x288 with 1 Axes>"
      ]
     },
     "metadata": {
      "needs_background": "light"
     },
     "output_type": "display_data"
    }
   ],
   "source": [
    "feat_importances = pd.Series(rf.feature_importances_, index=X_train.columns)\n",
    "feat_importances.nlargest(5).plot(kind='barh')"
   ]
  },
  {
   "cell_type": "code",
   "execution_count": 107,
   "metadata": {},
   "outputs": [
    {
     "data": {
      "image/png": "[encoded data removed]",
      "text/plain": [
       "<Figure size 864x288 with 1 Axes>"
      ]
     },
     "metadata": {
      "needs_background": "light"
     },
     "output_type": "display_data"
    }
   ],
   "source": [
    "plot_ts(df_test['net_load_kW'].iloc[0:24*4], df_test['random_forest'].iloc[0:24*4])"
   ]
  },
  {
   "cell_type": "markdown",
   "metadata": {},
   "source": [
    "### Run random search with cross validation to narrow down optimal hyperparameters"
   ]
  },
  {
   "cell_type": "code",
   "execution_count": null,
   "metadata": {},
   "outputs": [],
   "source": [
    "# Time series split for cross validation\n",
    "tscv = TimeSeriesSplit(n_splits=3)\n",
    "\n",
    "param_grid = {\"min_samples_split\": [5, 6, 7, 8, 9],\n",
    "                \"min_samples_leaf\": [50, 100],\n",
    "                \"max_depth\": [6, 7, 8, 9],\n",
    "                \"n_estimators\": [100, 150, 200]\n",
    "            }\n",
    "\n",
    "# Do a randomized search\n",
    "rscv = RandomizedSearchCV(\n",
    "                estimator=RandomForestRegressor(random_state=RSEED),\n",
    "                param_distributions=param_grid,\n",
    "                cv=tscv, n_iter=20, scoring='r2', verbose=2, n_jobs=-1)\n",
    "\n",
    "# Fit train data\n",
    "rf_search = rscv.fit(X_train, y_train)"
   ]
  },
  {
   "cell_type": "code",
   "execution_count": null,
   "metadata": {},
   "outputs": [],
   "source": [
    "print(\"Best model:\", rf_search.best_params_)\n",
    "\n",
    "rf_model = rf_search.best_estimator_\n",
    "rf_params = rf_search.best_params_\n",
    "\n",
    "y_pred_train = rf_model.predict(X_train)\n",
    "y_pred_test = rf_model.predict(X_test)\n",
    "\n",
    "df_train['random_forest'] = y_pred_train\n",
    "df_test['random_forest'] = y_pred_test\n",
    "\n",
    "_ = error_metrics(y_train, y_pred_train, y_test, y_pred_test, title=\"Random forest\")"
   ]
  },
  {
   "cell_type": "markdown",
   "metadata": {},
   "source": [
    "### Grid search to find the optimal hyperparameters"
   ]
  },
  {
   "cell_type": "code",
   "execution_count": null,
   "metadata": {},
   "outputs": [],
   "source": [
    "tscv = TimeSeriesSplit(n_splits=3)\n",
    "\n",
    "estimator = RandomForestRegressor(random_state=RSEED)\n",
    "\n",
    "param_grid = {\"min_samples_split\": [5, 6, 7],\n",
    "                \"max_depth\": [8, 9, 10],\n",
    "                \"min_samples_leaf\": [50],\n",
    "                \"n_estimators\": [100, 150, 200]\n",
    "            }\n",
    "\n",
    "gsc = GridSearchCV(\n",
    "        estimator=estimator,\n",
    "        param_grid=param_grid,\n",
    "        cv=tscv, scoring='r2', verbose=2, n_jobs=-1)\n",
    "\n",
    "grid_search = gsc.fit(X_train, y_train)"
   ]
  },
  {
   "cell_type": "code",
   "execution_count": null,
   "metadata": {},
   "outputs": [],
   "source": [
    "print(grid_search.best_params_)\n",
    "\n",
    "best_model = grid_search.best_estimator_\n",
    "best_params = grid_search.best_params_\n",
    "\n",
    "y_pred_train = best_model.predict(X_train)\n",
    "y_pred_test = best_model.predict(X_test)\n",
    "\n",
    "df_train['random_forest'] = y_pred_train\n",
    "df_test['random_forest'] = y_pred_test\n",
    "\n",
    "_ = error_metrics(y_train, y_pred_train, y_test, y_pred_test, title=\"Random Forest Regressor\")"
   ]
  },
  {
   "cell_type": "code",
   "execution_count": null,
   "metadata": {},
   "outputs": [],
   "source": [
    "# Using predicted weather to forecast net energy usage\n",
    "features = ['pred_24h_outdoor_temp_shift', 'pred_24h_outdoor_hum_shift',\n",
    "            'pred_24h_diffuse_solar_W_m2_shift','pred_24h_direct_solar_W_m2_shift', \n",
    "            'hour', 'month', 'holiday', 'day_of_week',\n",
    "            'net_load_kW_lag24', 'net_load_kW_lag168', \n",
    "            'year_sin365','year_cos365', 'year_sin365_2', 'year_cos365_2', \n",
    "            'week_sin365','week_cos365', 'week_sin365_2', 'week_cos365_2',\n",
    "            'hour_sin365','hour_cos365','hour_sin365_2','hour_cos365_2']\n",
    "dummy_features = ['hour', 'month', 'holiday', 'day_of_week']\n",
    "target = 'net_load_kW'\n",
    "\n",
    "# Do train-test split\n",
    "X_train, y_train, X_test, y_test, df_train, df_test = train_test_time_split(\n",
    "                                                        df, features, target, \n",
    "                                                        dummy_features)\n",
    "\n",
    "# Predict \n",
    "y_pred_train = best_model.predict(X_train)\n",
    "y_pred_test = best_model.predict(X_test)\n",
    "\n",
    "df_train['random_forest'] = y_pred_train\n",
    "df_test['random_forest'] = y_pred_test\n",
    "\n",
    "_ = error_metrics(y_train, y_pred_train, y_test, y_pred_test, title=\"Random forest\")                                                                                                                "
   ]
  },
  {
   "cell_type": "code",
   "execution_count": null,
   "metadata": {},
   "outputs": [],
   "source": [
    "# Using predicted weather to forecast net energy usage\n",
    "train_features = ['outdoor_temp', 'outdoor_hum', \n",
    "                'diffuse_solar_W_m2', 'direct_solar_W_m2', \n",
    "                'hour', 'month', 'holiday', 'day_of_week',\n",
    "                'net_load_kW_lag24', 'net_load_kW_lag168', \n",
    "                'year_sin365','year_cos365', 'year_sin365_2', 'year_cos365_2', \n",
    "                'week_sin365','week_cos365', 'week_sin365_2', 'week_cos365_2',\n",
    "                'hour_sin365','hour_cos365','hour_sin365_2','hour_cos365_2']\n",
    "dummy_features = ['hour', 'month', 'holiday', 'workday']\n",
    "target = 'net_load_kW'\n",
    "\n",
    "# Using predicted weather to forecast net energy usage\n",
    "pred_features = ['pred_24h_outdoor_temp_shift', 'pred_24h_outdoor_hum_shift',\n",
    "                'pred_24h_diffuse_solar_W_m2_shift','pred_24h_direct_solar_W_m2_shift', \n",
    "                'hour', 'month', 'holiday', 'day_of_week',\n",
    "                'net_load_kW_lag24', 'net_load_kW_lag168', \n",
    "                'year_sin365','year_cos365', 'year_sin365_2', 'year_cos365_2', \n",
    "                'week_sin365','week_cos365', 'week_sin365_2', 'week_cos365_2',\n",
    "                'hour_sin365','hour_cos365','hour_sin365_2','hour_cos365_2']\n",
    "\n",
    "\n",
    "# Randomly chosen list of indices to forecast\n",
    "pred_indices = [32135, 33311, 26478, 33357, 30387, 30794, 31800, 28783]\n",
    "\n",
    "mae_list = []\n",
    "mse_list = []\n",
    "r2_list = []\n",
    "forecasts = pd.DataFrame(columns=['prediction','run_id','id'])\n",
    "\n",
    "fig, ax = plt.subplots(4,2,figsize=(14,16))\n",
    "i = 1\n",
    "for index in pred_indices:\n",
    "    \n",
    "    day = index2datetime(index)\n",
    "\n",
    "    # Train test splot\n",
    "    X_train = df[train_features].loc[:day]\n",
    "    y_train = df[[target]].loc[:day]\n",
    "    X_test = df[pred_features].loc[day+pd.DateOffset(hours=1):day+pd.DateOffset(hours=24)]\n",
    "    y_test = df[[target]].loc[day+pd.DateOffset(hours=1):day+pd.DateOffset(hours=24)]\n",
    "\n",
    "    #rf = RandomForestRegressor(random_state=RSEED)\n",
    "    rf = RandomForestRegressor(max_depth=10, min_samples_leaf=50, \n",
    "                                min_samples_split=5, n_estimators=150, random_state=RSEED)\n",
    "\n",
    "    # Fit on training data\n",
    "    rf.fit(X_train, y_train)\n",
    "\n",
    "    # Predict train and test data\n",
    "    y_pred_train = rf.predict(X_train)\n",
    "    y_pred_test = rf.predict(X_test)\n",
    "    X_test['random_forest'] = y_pred_test\n",
    "\n",
    "    # Print error metrics\n",
    "    mae = mean_absolute_error(y_test, y_pred_test)\n",
    "    mse = mean_squared_error(y_test, y_pred_test)\n",
    "    r2 = r2_score(y_test, y_pred_test)\n",
    "    print(f\"Day: {day}, mae: {mae:.3f}, mse: {mse:.3f}, rmse: {np.sqrt(mse):.3f}, r2: {r2:.3f}\")\n",
    "    mae_list.append(mae)\n",
    "    mse_list.append(mse)\n",
    "    r2_list.append(r2)\n",
    "\n",
    "    # Calculate and print error metrics\n",
    "    #_ = error_metrics(y_train, y_pred_train, y_test, y_pred_test, title=\"Random Forest Regressor\")       \n",
    "\n",
    "    # Plot actual vs predicted net energy usage for each of the chosen days\n",
    "    plt.subplot(4, 2, i)\n",
    "    y_test['net_load_kW'].plot()\n",
    "    X_test['random_forest'].plot()\n",
    "    plt.title(day)\n",
    "    i = i + 1\n",
    "\n",
    "    if write_data:\n",
    "        # Starting the MLFlow run\n",
    "        r = mlflow.start_run(run_name=\"random_forest\")\n",
    "        print(\"run-uuid:\", r.info.run_uuid)\n",
    "        for k, v in global_params.items():\n",
    "            mlflow.log_param(k, v)\n",
    "            mlflow.log_param(\"model\", \"random_forest\")\n",
    "            mlflow.log_param(\"datetime\", day)\n",
    "            mlflow.log_param(\"feature\", \"net_load_kW\")\n",
    "            mlflow.log_metric(\"mse\", mse)\n",
    "            mlflow.log_metric(\"mae\", mae)\n",
    "            mlflow.log_metric(\"r2_score\", r2)\n",
    "        mlflow.end_run()\n",
    "\n",
    "        # DataFrame for writing to SQL database\n",
    "        day_forecast = pd.DataFrame(columns=['prediction','run_id','id'])\n",
    "        day_forecast['prediction'] = y_pred_test\n",
    "        day_forecast['run_id'] = r.info.run_uuid\n",
    "        day_forecast['id'] = np.arange(index+1,index+25)\n",
    "        forecasts = pd.concat([forecasts, day_forecast], axis=0)\n",
    "\n",
    "# Write to SQL DB\n",
    "if write_data:\n",
    "    forecasts = forecasts.set_index('id')\n",
    "    forecasts.to_sql(\"forecast\", con=db, if_exists=\"append\")\n",
    "\n",
    "print(f\"Avg mae: {np.mean(mae_list):.3f}, Avg mse: {np.mean(mse_list):.3f}, Avg rmse: {np.sqrt(np.mean(mse_list)):.3f}, Avg r2: {np.mean(r2):.3f}\")"
   ]
  },
  {
   "cell_type": "markdown",
   "metadata": {},
   "source": [
    "## XGBoost"
   ]
  },
  {
   "cell_type": "markdown",
   "metadata": {},
   "source": [
    "### XGBoost including weather"
   ]
  },
  {
   "cell_type": "code",
   "execution_count": 189,
   "metadata": {},
   "outputs": [
    {
     "name": "stdout",
     "output_type": "stream",
     "text": [
      "----------------------------------------\n",
      "XGBRegressor\n",
      "----------------------------------------\n",
      "R2 (train): 0.994\n",
      "R2 (test) : 0.923\n",
      "MAE (test): 26.987\n",
      "MSE (test): 1866.651\n",
      "RMSE(test): 43.205\n"
     ]
    }
   ],
   "source": [
    "# Include weather features \n",
    "features = ['outdoor_temp', 'outdoor_hum', \n",
    "            'diffuse_solar_W_m2', 'direct_solar_W_m2', \n",
    "            'month', 'hour', 'holiday', 'day_of_week',\n",
    "            'net_load_kW_lag24', 'net_load_kW_lag168',\n",
    "            'year_sin365','year_cos365', 'year_sin365_2', 'year_cos365_2', \n",
    "            'week_sin365','week_cos365', 'week_sin365_2', 'week_cos365_2',\n",
    "            'hour_sin365','hour_cos365','hour_sin365_2','hour_cos365_2']\n",
    "dummy_features = ['month', 'hour', 'holiday', 'day_of_week']\n",
    "target = 'net_load_kW'\n",
    "\n",
    "# Do train-test split\n",
    "X_train, y_train, X_test, y_test, df_train, df_test = train_test_time_split(\n",
    "                                                        df, features, target, \n",
    "                                                        dummy_features)\n",
    "\n",
    "# Fit training data\n",
    "xg_reg = xgb.XGBRegressor(objective ='reg:squarederror', random_state=RSEED)\n",
    "xg_reg.fit(X_train, y_train)  \n",
    "\n",
    "# Predict on train and test data\n",
    "y_pred_train = xg_reg.predict(X_train)\n",
    "y_pred_test = xg_reg.predict(X_test)\n",
    "df_train['xgboost'] = y_pred_train\n",
    "df_test['xgboost'] = y_pred_test\n",
    "\n",
    "_ = error_metrics(y_train, y_pred_train, y_test, y_pred_test, title=\"XGBRegressor\")"
   ]
  },
  {
   "cell_type": "code",
   "execution_count": 190,
   "metadata": {},
   "outputs": [
    {
     "name": "stdout",
     "output_type": "stream",
     "text": [
      "Fitting 3 folds for each of 20 candidates, totalling 60 fits\n",
      "[CV] END max_depth=8, min_samples_leaf=100, min_samples_split=10, n_estimators=100; total time=   2.5s\n",
      "[CV] END max_depth=8, min_samples_leaf=50, min_samples_split=7, n_estimators=150; total time=   4.3s\n",
      "[CV] END max_depth=8, min_samples_leaf=100, min_samples_split=10, n_estimators=100; total time=   6.0s\n",
      "[CV] END max_depth=6, min_samples_leaf=50, min_samples_split=7, n_estimators=150; total time=   3.7s\n",
      "[CV] END max_depth=8, min_samples_leaf=50, min_samples_split=7, n_estimators=300; total time=   8.8s\n",
      "[CV] END max_depth=8, min_samples_leaf=100, min_samples_split=10, n_estimators=100; total time=   9.1s\n",
      "[CV] END max_depth=8, min_samples_leaf=50, min_samples_split=7, n_estimators=150; total time=   9.4s\n",
      "[CV] END max_depth=6, min_samples_leaf=50, min_samples_split=7, n_estimators=150; total time=   7.8s\n",
      "[CV] END max_depth=8, min_samples_leaf=50, min_samples_split=7, n_estimators=150; total time=  15.6s\n",
      "[CV] END max_depth=7, min_samples_leaf=50, min_samples_split=5, n_estimators=250; total time=   7.2s\n",
      "[CV] END max_depth=7, min_samples_leaf=50, min_samples_split=6, n_estimators=100; total time=   2.9s\n",
      "[CV] END max_depth=8, min_samples_leaf=50, min_samples_split=7, n_estimators=300; total time=  19.1s\n",
      "[CV] END max_depth=7, min_samples_leaf=100, min_samples_split=8, n_estimators=150; total time=   3.6s\n",
      "[CV] END max_depth=6, min_samples_leaf=50, min_samples_split=7, n_estimators=150; total time=  12.9s\n",
      "[CV] END max_depth=7, min_samples_leaf=50, min_samples_split=6, n_estimators=100; total time=   6.1s\n",
      "[CV] END max_depth=7, min_samples_leaf=50, min_samples_split=5, n_estimators=250; total time=  14.8s\n",
      "[CV] END max_depth=7, min_samples_leaf=50, min_samples_split=6, n_estimators=100; total time=   9.0s\n",
      "[CV] END max_depth=7, min_samples_leaf=100, min_samples_split=8, n_estimators=150; total time=   8.2s\n",
      "[CV] END max_depth=8, min_samples_leaf=80, min_samples_split=8, n_estimators=300; total time=   7.6s\n",
      "[CV] END max_depth=5, min_samples_leaf=80, min_samples_split=5, n_estimators=300; total time=   6.5s\n",
      "[CV] END max_depth=8, min_samples_leaf=50, min_samples_split=7, n_estimators=300; total time=  30.0s\n",
      "[CV] END max_depth=7, min_samples_leaf=50, min_samples_split=5, n_estimators=250; total time=  23.4s\n",
      "[CV] END max_depth=7, min_samples_leaf=100, min_samples_split=8, n_estimators=150; total time=  13.3s\n",
      "[CV] END max_depth=6, min_samples_leaf=50, min_samples_split=10, n_estimators=250; total time=   6.4s\n",
      "[CV] END max_depth=7, min_samples_leaf=50, min_samples_split=6, n_estimators=200; total time=   5.5s\n",
      "[CV] END max_depth=8, min_samples_leaf=80, min_samples_split=8, n_estimators=300; total time=  18.1s\n",
      "[CV] END max_depth=5, min_samples_leaf=80, min_samples_split=5, n_estimators=300; total time=  13.5s\n",
      "[CV] END max_depth=6, min_samples_leaf=50, min_samples_split=10, n_estimators=250; total time=  14.1s\n",
      "[CV] END max_depth=8, min_samples_leaf=50, min_samples_split=8, n_estimators=300; total time=   9.4s\n",
      "[CV] END max_depth=5, min_samples_leaf=80, min_samples_split=5, n_estimators=300; total time=  22.3s\n",
      "[CV] END max_depth=7, min_samples_leaf=50, min_samples_split=6, n_estimators=200; total time=  13.2s\n",
      "[CV] END max_depth=6, min_samples_leaf=50, min_samples_split=10, n_estimators=250; total time=  21.5s\n",
      "[CV] END max_depth=8, min_samples_leaf=80, min_samples_split=8, n_estimators=300; total time=  30.4s\n",
      "[CV] END max_depth=5, min_samples_leaf=50, min_samples_split=8, n_estimators=300; total time=   7.2s\n",
      "[CV] END max_depth=9, min_samples_leaf=50, min_samples_split=6, n_estimators=100; total time=   3.2s\n",
      "[CV] END max_depth=7, min_samples_leaf=50, min_samples_split=6, n_estimators=200; total time=  20.6s\n",
      "[CV] END max_depth=6, min_samples_leaf=80, min_samples_split=7, n_estimators=150; total time=   3.8s\n",
      "[CV] END max_depth=9, min_samples_leaf=50, min_samples_split=6, n_estimators=100; total time=   7.2s\n",
      "[CV] END max_depth=8, min_samples_leaf=50, min_samples_split=8, n_estimators=300; total time=  20.6s\n",
      "[CV] END max_depth=5, min_samples_leaf=50, min_samples_split=8, n_estimators=300; total time=  15.0s\n",
      "[CV] END max_depth=5, min_samples_leaf=80, min_samples_split=6, n_estimators=250; total time=   5.9s\n",
      "[CV] END max_depth=6, min_samples_leaf=80, min_samples_split=7, n_estimators=150; total time=   8.5s\n",
      "[CV] END max_depth=9, min_samples_leaf=50, min_samples_split=6, n_estimators=100; total time=  12.0s\n",
      "[CV] END max_depth=8, min_samples_leaf=100, min_samples_split=7, n_estimators=200; total time=   5.5s\n",
      "[CV] END max_depth=5, min_samples_leaf=80, min_samples_split=6, n_estimators=250; total time=  12.3s\n",
      "[CV] END max_depth=5, min_samples_leaf=50, min_samples_split=8, n_estimators=300; total time=  22.9s\n",
      "[CV] END max_depth=6, min_samples_leaf=80, min_samples_split=7, n_estimators=150; total time=  13.4s\n",
      "[CV] END max_depth=7, min_samples_leaf=50, min_samples_split=10, n_estimators=200; total time=   6.0s\n",
      "[CV] END max_depth=8, min_samples_leaf=50, min_samples_split=8, n_estimators=300; total time=  34.0s\n",
      "[CV] END max_depth=8, min_samples_leaf=100, min_samples_split=7, n_estimators=200; total time=  12.8s\n",
      "[CV] END max_depth=9, min_samples_leaf=100, min_samples_split=5, n_estimators=250; total time=   6.7s\n",
      "[CV] END max_depth=5, min_samples_leaf=80, min_samples_split=6, n_estimators=250; total time=  19.6s\n",
      "[CV] END max_depth=7, min_samples_leaf=50, min_samples_split=10, n_estimators=200; total time=  13.4s\n",
      "[CV] END max_depth=6, min_samples_leaf=100, min_samples_split=6, n_estimators=300; total time=   7.6s\n",
      "[CV] END max_depth=8, min_samples_leaf=100, min_samples_split=7, n_estimators=200; total time=  21.2s\n",
      "[CV] END max_depth=7, min_samples_leaf=50, min_samples_split=10, n_estimators=200; total time=  19.4s\n",
      "[CV] END max_depth=9, min_samples_leaf=100, min_samples_split=5, n_estimators=250; total time=  14.9s\n",
      "[CV] END max_depth=6, min_samples_leaf=100, min_samples_split=6, n_estimators=300; total time=  14.7s\n",
      "[CV] END max_depth=9, min_samples_leaf=100, min_samples_split=5, n_estimators=250; total time=  21.0s\n",
      "[CV] END max_depth=6, min_samples_leaf=100, min_samples_split=6, n_estimators=300; total time=  18.8s\n"
     ]
    }
   ],
   "source": [
    "# Time series split for cross validation\n",
    "tscv = TimeSeriesSplit(n_splits=3)\n",
    "\n",
    "param_grid = {\"min_samples_split\": [5, 6, 7, 8, 10],\n",
    "                \"min_samples_leaf\": [50, 80, 100],\n",
    "                \"max_depth\": [5, 6, 7, 8, 9],\n",
    "                \"n_estimators\": [100, 150, 200, 250, 300]\n",
    "            }\n",
    "\n",
    "# Do a randomized search\n",
    "rscv = RandomizedSearchCV(\n",
    "                estimator=RandomForestRegressor(random_state=RSEED),\n",
    "                param_distributions=param_grid,\n",
    "                cv=tscv, n_iter=20, verbose=2, n_jobs=-1)\n",
    "\n",
    "# Fit train data\n",
    "rf_search = rscv.fit(X_train, y_train)"
   ]
  },
  {
   "cell_type": "code",
   "execution_count": 191,
   "metadata": {},
   "outputs": [
    {
     "name": "stdout",
     "output_type": "stream",
     "text": [
      "Fitting 3 folds for each of 48 candidates, totalling 144 fits\n",
      "[CV] END ..learning_rate=0.01, max_depth=4, n_estimators=100; total time=   2.1s\n",
      "[CV] END ..learning_rate=0.01, max_depth=4, n_estimators=150; total time=   2.9s\n"
     ]
    },
    {
     "ename": "KeyboardInterrupt",
     "evalue": "",
     "output_type": "error",
     "traceback": [
      "\u001b[0;31m---------------------------------------------------------------------------\u001b[0m",
      "\u001b[0;31mKeyboardInterrupt\u001b[0m                         Traceback (most recent call last)",
      "\u001b[1;32m/Users/slwong/neuefische/TheGreenCitySolutionsGroup/notebooks/ML.ipynb Cell 33\u001b[0m in \u001b[0;36m<cell line: 10>\u001b[0;34m()\u001b[0m\n\u001b[1;32m      <a href='vscode-notebook-cell:/Users/slwong/neuefische/TheGreenCitySolutionsGroup/notebooks/ML.ipynb#ch0000032?line=0'>1</a>\u001b[0m \u001b[39m# Grid search cross validation\u001b[39;00m\n\u001b[1;32m      <a href='vscode-notebook-cell:/Users/slwong/neuefische/TheGreenCitySolutionsGroup/notebooks/ML.ipynb#ch0000032?line=1'>2</a>\u001b[0m gsc \u001b[39m=\u001b[39m GridSearchCV(\n\u001b[1;32m      <a href='vscode-notebook-cell:/Users/slwong/neuefische/TheGreenCitySolutionsGroup/notebooks/ML.ipynb#ch0000032?line=2'>3</a>\u001b[0m         estimator\u001b[39m=\u001b[39mxgb\u001b[39m.\u001b[39mXGBRegressor(),\n\u001b[1;32m      <a href='vscode-notebook-cell:/Users/slwong/neuefische/TheGreenCitySolutionsGroup/notebooks/ML.ipynb#ch0000032?line=3'>4</a>\u001b[0m         param_grid\u001b[39m=\u001b[39m{\u001b[39m\"\u001b[39m\u001b[39mlearning_rate\u001b[39m\u001b[39m\"\u001b[39m: [\u001b[39m0.01\u001b[39m, \u001b[39m0.05\u001b[39m, \u001b[39m0.10\u001b[39m, \u001b[39m0.15\u001b[39m],\n\u001b[0;32m   (...)\u001b[0m\n\u001b[1;32m      <a href='vscode-notebook-cell:/Users/slwong/neuefische/TheGreenCitySolutionsGroup/notebooks/ML.ipynb#ch0000032?line=6'>7</a>\u001b[0m                     },\n\u001b[1;32m      <a href='vscode-notebook-cell:/Users/slwong/neuefische/TheGreenCitySolutionsGroup/notebooks/ML.ipynb#ch0000032?line=7'>8</a>\u001b[0m         cv\u001b[39m=\u001b[39mtscv, scoring\u001b[39m=\u001b[39m\u001b[39m'\u001b[39m\u001b[39mr2\u001b[39m\u001b[39m'\u001b[39m, verbose\u001b[39m=\u001b[39m\u001b[39m2\u001b[39m, n_jobs\u001b[39m=\u001b[39m\u001b[39m-\u001b[39m\u001b[39m1\u001b[39m)\n\u001b[0;32m---> <a href='vscode-notebook-cell:/Users/slwong/neuefische/TheGreenCitySolutionsGroup/notebooks/ML.ipynb#ch0000032?line=9'>10</a>\u001b[0m grid_search \u001b[39m=\u001b[39m gsc\u001b[39m.\u001b[39;49mfit(X_train, y_train)\n",
      "File \u001b[0;32m~/neuefische/TheGreenCitySolutionsGroup/.venv/lib/python3.9/site-packages/sklearn/model_selection/_search.py:891\u001b[0m, in \u001b[0;36mBaseSearchCV.fit\u001b[0;34m(self, X, y, groups, **fit_params)\u001b[0m\n\u001b[1;32m    885\u001b[0m     results \u001b[39m=\u001b[39m \u001b[39mself\u001b[39m\u001b[39m.\u001b[39m_format_results(\n\u001b[1;32m    886\u001b[0m         all_candidate_params, n_splits, all_out, all_more_results\n\u001b[1;32m    887\u001b[0m     )\n\u001b[1;32m    889\u001b[0m     \u001b[39mreturn\u001b[39;00m results\n\u001b[0;32m--> 891\u001b[0m \u001b[39mself\u001b[39;49m\u001b[39m.\u001b[39;49m_run_search(evaluate_candidates)\n\u001b[1;32m    893\u001b[0m \u001b[39m# multimetric is determined here because in the case of a callable\u001b[39;00m\n\u001b[1;32m    894\u001b[0m \u001b[39m# self.scoring the return type is only known after calling\u001b[39;00m\n\u001b[1;32m    895\u001b[0m first_test_score \u001b[39m=\u001b[39m all_out[\u001b[39m0\u001b[39m][\u001b[39m\"\u001b[39m\u001b[39mtest_scores\u001b[39m\u001b[39m\"\u001b[39m]\n",
      "File \u001b[0;32m~/neuefische/TheGreenCitySolutionsGroup/.venv/lib/python3.9/site-packages/sklearn/model_selection/_search.py:1392\u001b[0m, in \u001b[0;36mGridSearchCV._run_search\u001b[0;34m(self, evaluate_candidates)\u001b[0m\n\u001b[1;32m   1390\u001b[0m \u001b[39mdef\u001b[39;00m \u001b[39m_run_search\u001b[39m(\u001b[39mself\u001b[39m, evaluate_candidates):\n\u001b[1;32m   1391\u001b[0m     \u001b[39m\"\"\"Search all candidates in param_grid\"\"\"\u001b[39;00m\n\u001b[0;32m-> 1392\u001b[0m     evaluate_candidates(ParameterGrid(\u001b[39mself\u001b[39;49m\u001b[39m.\u001b[39;49mparam_grid))\n",
      "File \u001b[0;32m~/neuefische/TheGreenCitySolutionsGroup/.venv/lib/python3.9/site-packages/sklearn/model_selection/_search.py:838\u001b[0m, in \u001b[0;36mBaseSearchCV.fit.<locals>.evaluate_candidates\u001b[0;34m(candidate_params, cv, more_results)\u001b[0m\n\u001b[1;32m    830\u001b[0m \u001b[39mif\u001b[39;00m \u001b[39mself\u001b[39m\u001b[39m.\u001b[39mverbose \u001b[39m>\u001b[39m \u001b[39m0\u001b[39m:\n\u001b[1;32m    831\u001b[0m     \u001b[39mprint\u001b[39m(\n\u001b[1;32m    832\u001b[0m         \u001b[39m\"\u001b[39m\u001b[39mFitting \u001b[39m\u001b[39m{0}\u001b[39;00m\u001b[39m folds for each of \u001b[39m\u001b[39m{1}\u001b[39;00m\u001b[39m candidates,\u001b[39m\u001b[39m\"\u001b[39m\n\u001b[1;32m    833\u001b[0m         \u001b[39m\"\u001b[39m\u001b[39m totalling \u001b[39m\u001b[39m{2}\u001b[39;00m\u001b[39m fits\u001b[39m\u001b[39m\"\u001b[39m\u001b[39m.\u001b[39mformat(\n\u001b[1;32m    834\u001b[0m             n_splits, n_candidates, n_candidates \u001b[39m*\u001b[39m n_splits\n\u001b[1;32m    835\u001b[0m         )\n\u001b[1;32m    836\u001b[0m     )\n\u001b[0;32m--> 838\u001b[0m out \u001b[39m=\u001b[39m parallel(\n\u001b[1;32m    839\u001b[0m     delayed(_fit_and_score)(\n\u001b[1;32m    840\u001b[0m         clone(base_estimator),\n\u001b[1;32m    841\u001b[0m         X,\n\u001b[1;32m    842\u001b[0m         y,\n\u001b[1;32m    843\u001b[0m         train\u001b[39m=\u001b[39;49mtrain,\n\u001b[1;32m    844\u001b[0m         test\u001b[39m=\u001b[39;49mtest,\n\u001b[1;32m    845\u001b[0m         parameters\u001b[39m=\u001b[39;49mparameters,\n\u001b[1;32m    846\u001b[0m         split_progress\u001b[39m=\u001b[39;49m(split_idx, n_splits),\n\u001b[1;32m    847\u001b[0m         candidate_progress\u001b[39m=\u001b[39;49m(cand_idx, n_candidates),\n\u001b[1;32m    848\u001b[0m         \u001b[39m*\u001b[39;49m\u001b[39m*\u001b[39;49mfit_and_score_kwargs,\n\u001b[1;32m    849\u001b[0m     )\n\u001b[1;32m    850\u001b[0m     \u001b[39mfor\u001b[39;49;00m (cand_idx, parameters), (split_idx, (train, test)) \u001b[39min\u001b[39;49;00m product(\n\u001b[1;32m    851\u001b[0m         \u001b[39menumerate\u001b[39;49m(candidate_params), \u001b[39menumerate\u001b[39;49m(cv\u001b[39m.\u001b[39;49msplit(X, y, groups))\n\u001b[1;32m    852\u001b[0m     )\n\u001b[1;32m    853\u001b[0m )\n\u001b[1;32m    855\u001b[0m \u001b[39mif\u001b[39;00m \u001b[39mlen\u001b[39m(out) \u001b[39m<\u001b[39m \u001b[39m1\u001b[39m:\n\u001b[1;32m    856\u001b[0m     \u001b[39mraise\u001b[39;00m \u001b[39mValueError\u001b[39;00m(\n\u001b[1;32m    857\u001b[0m         \u001b[39m\"\u001b[39m\u001b[39mNo fits were performed. \u001b[39m\u001b[39m\"\u001b[39m\n\u001b[1;32m    858\u001b[0m         \u001b[39m\"\u001b[39m\u001b[39mWas the CV iterator empty? \u001b[39m\u001b[39m\"\u001b[39m\n\u001b[1;32m    859\u001b[0m         \u001b[39m\"\u001b[39m\u001b[39mWere there no candidates?\u001b[39m\u001b[39m\"\u001b[39m\n\u001b[1;32m    860\u001b[0m     )\n",
      "File \u001b[0;32m~/neuefische/TheGreenCitySolutionsGroup/.venv/lib/python3.9/site-packages/joblib/parallel.py:1056\u001b[0m, in \u001b[0;36mParallel.__call__\u001b[0;34m(self, iterable)\u001b[0m\n\u001b[1;32m   1053\u001b[0m     \u001b[39mself\u001b[39m\u001b[39m.\u001b[39m_iterating \u001b[39m=\u001b[39m \u001b[39mFalse\u001b[39;00m\n\u001b[1;32m   1055\u001b[0m \u001b[39mwith\u001b[39;00m \u001b[39mself\u001b[39m\u001b[39m.\u001b[39m_backend\u001b[39m.\u001b[39mretrieval_context():\n\u001b[0;32m-> 1056\u001b[0m     \u001b[39mself\u001b[39;49m\u001b[39m.\u001b[39;49mretrieve()\n\u001b[1;32m   1057\u001b[0m \u001b[39m# Make sure that we get a last message telling us we are done\u001b[39;00m\n\u001b[1;32m   1058\u001b[0m elapsed_time \u001b[39m=\u001b[39m time\u001b[39m.\u001b[39mtime() \u001b[39m-\u001b[39m \u001b[39mself\u001b[39m\u001b[39m.\u001b[39m_start_time\n",
      "File \u001b[0;32m~/neuefische/TheGreenCitySolutionsGroup/.venv/lib/python3.9/site-packages/joblib/parallel.py:935\u001b[0m, in \u001b[0;36mParallel.retrieve\u001b[0;34m(self)\u001b[0m\n\u001b[1;32m    933\u001b[0m \u001b[39mtry\u001b[39;00m:\n\u001b[1;32m    934\u001b[0m     \u001b[39mif\u001b[39;00m \u001b[39mgetattr\u001b[39m(\u001b[39mself\u001b[39m\u001b[39m.\u001b[39m_backend, \u001b[39m'\u001b[39m\u001b[39msupports_timeout\u001b[39m\u001b[39m'\u001b[39m, \u001b[39mFalse\u001b[39;00m):\n\u001b[0;32m--> 935\u001b[0m         \u001b[39mself\u001b[39m\u001b[39m.\u001b[39m_output\u001b[39m.\u001b[39mextend(job\u001b[39m.\u001b[39;49mget(timeout\u001b[39m=\u001b[39;49m\u001b[39mself\u001b[39;49m\u001b[39m.\u001b[39;49mtimeout))\n\u001b[1;32m    936\u001b[0m     \u001b[39melse\u001b[39;00m:\n\u001b[1;32m    937\u001b[0m         \u001b[39mself\u001b[39m\u001b[39m.\u001b[39m_output\u001b[39m.\u001b[39mextend(job\u001b[39m.\u001b[39mget())\n",
      "File \u001b[0;32m~/neuefische/TheGreenCitySolutionsGroup/.venv/lib/python3.9/site-packages/joblib/_parallel_backends.py:542\u001b[0m, in \u001b[0;36mLokyBackend.wrap_future_result\u001b[0;34m(future, timeout)\u001b[0m\n\u001b[1;32m    539\u001b[0m \u001b[39m\"\"\"Wrapper for Future.result to implement the same behaviour as\u001b[39;00m\n\u001b[1;32m    540\u001b[0m \u001b[39mAsyncResults.get from multiprocessing.\"\"\"\u001b[39;00m\n\u001b[1;32m    541\u001b[0m \u001b[39mtry\u001b[39;00m:\n\u001b[0;32m--> 542\u001b[0m     \u001b[39mreturn\u001b[39;00m future\u001b[39m.\u001b[39;49mresult(timeout\u001b[39m=\u001b[39;49mtimeout)\n\u001b[1;32m    543\u001b[0m \u001b[39mexcept\u001b[39;00m CfTimeoutError \u001b[39mas\u001b[39;00m e:\n\u001b[1;32m    544\u001b[0m     \u001b[39mraise\u001b[39;00m \u001b[39mTimeoutError\u001b[39;00m \u001b[39mfrom\u001b[39;00m \u001b[39me\u001b[39;00m\n",
      "File \u001b[0;32m~/.pyenv/versions/3.9.8/lib/python3.9/concurrent/futures/_base.py:440\u001b[0m, in \u001b[0;36mFuture.result\u001b[0;34m(self, timeout)\u001b[0m\n\u001b[1;32m    437\u001b[0m \u001b[39melif\u001b[39;00m \u001b[39mself\u001b[39m\u001b[39m.\u001b[39m_state \u001b[39m==\u001b[39m FINISHED:\n\u001b[1;32m    438\u001b[0m     \u001b[39mreturn\u001b[39;00m \u001b[39mself\u001b[39m\u001b[39m.\u001b[39m__get_result()\n\u001b[0;32m--> 440\u001b[0m \u001b[39mself\u001b[39;49m\u001b[39m.\u001b[39;49m_condition\u001b[39m.\u001b[39;49mwait(timeout)\n\u001b[1;32m    442\u001b[0m \u001b[39mif\u001b[39;00m \u001b[39mself\u001b[39m\u001b[39m.\u001b[39m_state \u001b[39min\u001b[39;00m [CANCELLED, CANCELLED_AND_NOTIFIED]:\n\u001b[1;32m    443\u001b[0m     \u001b[39mraise\u001b[39;00m CancelledError()\n",
      "File \u001b[0;32m~/.pyenv/versions/3.9.8/lib/python3.9/threading.py:312\u001b[0m, in \u001b[0;36mCondition.wait\u001b[0;34m(self, timeout)\u001b[0m\n\u001b[1;32m    310\u001b[0m \u001b[39mtry\u001b[39;00m:    \u001b[39m# restore state no matter what (e.g., KeyboardInterrupt)\u001b[39;00m\n\u001b[1;32m    311\u001b[0m     \u001b[39mif\u001b[39;00m timeout \u001b[39mis\u001b[39;00m \u001b[39mNone\u001b[39;00m:\n\u001b[0;32m--> 312\u001b[0m         waiter\u001b[39m.\u001b[39;49macquire()\n\u001b[1;32m    313\u001b[0m         gotit \u001b[39m=\u001b[39m \u001b[39mTrue\u001b[39;00m\n\u001b[1;32m    314\u001b[0m     \u001b[39melse\u001b[39;00m:\n",
      "\u001b[0;31mKeyboardInterrupt\u001b[0m: "
     ]
    }
   ],
   "source": [
    "# Grid search cross validation\n",
    "gsc = GridSearchCV(\n",
    "        estimator=xgb.XGBRegressor(),\n",
    "        param_grid={\"learning_rate\": [0.01, 0.05, 0.10, 0.15],\n",
    "                    \"max_depth\": [ 4, 5, 6, 7 ],\n",
    "                    \"n_estimators\": [100, 150, 200],\n",
    "                    },\n",
    "        cv=tscv, scoring='r2', verbose=2, n_jobs=-1)\n",
    "\n",
    "grid_search = gsc.fit(X_train, y_train)"
   ]
  },
  {
   "cell_type": "code",
   "execution_count": null,
   "metadata": {},
   "outputs": [],
   "source": [
    "print(grid_search.best_params_)\n",
    "\n",
    "best_model = grid_search.best_estimator_\n",
    "best_params = grid_search.best_params_\n",
    "\n",
    "# Predict on train and test data\n",
    "y_pred_train = best_model.predict(X_train)\n",
    "y_pred_test = best_model.predict(X_test)\n",
    "df_train['xgboost'] = y_pred_train\n",
    "df_test['xgboost'] = y_pred_test\n",
    "\n",
    "_ = error_metrics(y_train, y_pred_train, y_test, y_pred_test, title=\"XGBRegressor\")"
   ]
  },
  {
   "cell_type": "code",
   "execution_count": null,
   "metadata": {},
   "outputs": [],
   "source": [
    "plot_ts(df_train['net_load_kW'], df_train['xgboost'])"
   ]
  },
  {
   "cell_type": "code",
   "execution_count": null,
   "metadata": {},
   "outputs": [],
   "source": [
    "plot_ts(df_test['net_load_kW'], df_test['xgboost'])"
   ]
  },
  {
   "cell_type": "code",
   "execution_count": null,
   "metadata": {},
   "outputs": [],
   "source": [
    "plot_ts(df_test['net_load_kW'].iloc[0:24*4], df_test['xgboost'].iloc[0:24*4])"
   ]
  },
  {
   "cell_type": "markdown",
   "metadata": {},
   "source": [
    "### XGBoost using weather predictions"
   ]
  },
  {
   "cell_type": "code",
   "execution_count": null,
   "metadata": {},
   "outputs": [],
   "source": [
    "# Using predicted weather to forecast net energy usage\n",
    "features = ['pred_24h_outdoor_temp_shift', 'pred_24h_outdoor_hum_shift',\n",
    "            'pred_24h_diffuse_solar_W_m2_shift','pred_24h_direct_solar_W_m2_shift', \n",
    "            'time_of_day', 'season', 'holiday', 'workday',\n",
    "            'net_load_kW_lag1', 'net_load_kW_lag24', \n",
    "            'year_sin365','year_cos365', 'year_sin365_2', 'year_cos365_2', \n",
    "            'week_sin365','week_cos365', 'week_sin365_2', 'week_cos365_2',\n",
    "            'hour_sin365','hour_cos365','hour_sin365_2','hour_cos365_2']\n",
    "dummy_features = ['time_of_day', 'season', 'holiday', 'workday']\n",
    "target = 'net_load_kW'\n",
    "\n",
    "# Do train-test split\n",
    "X_train, y_train, X_test, y_test, df_train, df_test = train_test_time_split(\n",
    "                                                        df, features, target, \n",
    "                                                        dummy_features)"
   ]
  },
  {
   "cell_type": "code",
   "execution_count": null,
   "metadata": {},
   "outputs": [],
   "source": [
    "# Forecast using 24h weather predictions \n",
    "y_pred_train = best_model.predict(X_train)\n",
    "y_pred_test = best_model.predict(X_test)\n",
    "\n",
    "df_train['xgboost'] = y_pred_train\n",
    "df_test['xgboost'] = y_pred_test\n",
    "\n",
    "_ = error_metrics(y_train, y_pred_train, y_test, y_pred_test, title=\"Random forest\")"
   ]
  }
 ],
 "metadata": {
  "kernelspec": {
   "display_name": "Python 3.9.8 ('.venv': venv)",
   "language": "python",
   "name": "python3"
  },
  "language_info": {
   "codemirror_mode": {
    "name": "ipython",
    "version": 3
   },
   "file_extension": ".py",
   "mimetype": "text/x-python",
   "name": "python",
   "nbconvert_exporter": "python",
   "pygments_lexer": "ipython3",
   "version": "3.9.8"
  },
  "orig_nbformat": 4,
  "vscode": {
   "interpreter": {
    "hash": "ec687dd807b97788016aa2a8dc46410b9e66b8caf0629350de408a3d76b46c87"
   }
  }
 },
 "nbformat": 4,
 "nbformat_minor": 2
}
