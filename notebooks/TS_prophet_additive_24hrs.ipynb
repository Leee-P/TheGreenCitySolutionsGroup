{
 "cells": [
  {
   "cell_type": "markdown",
   "metadata": {},
   "source": [
    "# TS Prophet\n",
    "## Data split in training and test. The last 365 days are the test data."
   ]
  },
  {
   "cell_type": "code",
   "execution_count": null,
   "metadata": {},
   "outputs": [],
   "source": [
    "from audioop import cross\n",
    "import itertools\n",
    "from matplotlib import units\n",
    "import matplotlib.pyplot as plt\n",
    "import seaborn as sns\n",
    "import numpy as np\n",
    "import pandas as pd\n",
    "\n",
    "from prophet import Prophet\n",
    "from prophet.diagnostics import cross_validation\n",
    "from prophet.diagnostics import performance_metrics\n",
    "from prophet.plot import add_changepoints_to_plot\n",
    "from prophet.plot import plot_cross_validation_metric\n",
    "from prophet.plot import plot_plotly, plot_components_plotly\n",
    "\n",
    "plt.style.use('fivethirtyeight')\n",
    "\n",
    "from sklearn.metrics import mean_absolute_error,mean_squared_error\n",
    "\n",
    "from green_city.utils import metrics_dict, datetime2index, index2datetime\n",
    "\n",
    "# Libraries to reduce Prophet verbose output\n",
    "import warnings\n",
    "import logging\n",
    "import os\n",
    "\n",
    "%matplotlib inline"
   ]
  },
  {
   "cell_type": "code",
   "execution_count": null,
   "metadata": {},
   "outputs": [],
   "source": [
    "## MLFLOW ##\n",
    "import mlflow\n",
    "from green_city.mlflow_config import get_mlflow_config\n",
    "\n",
    "flow_conf = get_mlflow_config()\n",
    "tracking_uri = flow_conf[\"TRACKING_URI\"]\n",
    "mlflow.set_tracking_uri(flow_conf[\"TRACKING_URI\"])\n",
    "mlflow.set_experiment(flow_conf[\"EXPERIMENT_NAME\"]);"
   ]
  },
  {
   "cell_type": "code",
   "execution_count": null,
   "metadata": {},
   "outputs": [],
   "source": [
    "## DB CONNECTION ##\n",
    "from sqlalchemy import create_engine\n",
    "from decouple import Config, RepositoryEnv\n",
    "\n",
    "config = Config(RepositoryEnv(\"../.db_credentials\"))\n",
    "\n",
    "db_connection_credentials = {\n",
    "    \"database\": config('POSTGRES_DB'),\n",
    "    \"user\": config('POSTGRES_USER'),\n",
    "    \"password\": config('POSTGRES_PASSWORD'),\n",
    "    \"host\": config('POSTGRES_HOST'),\n",
    "    \"port\": config('POSTGRES_PORT'),\n",
    "}\n",
    "DB_STRING = \"postgresql://{user}:{password}@{host}:{port}/{database}\".format(**db_connection_credentials)\n",
    "db = create_engine(DB_STRING)"
   ]
  },
  {
   "cell_type": "markdown",
   "metadata": {},
   "source": [
    "### Load data and feature engineering"
   ]
  },
  {
   "cell_type": "code",
   "execution_count": null,
   "metadata": {},
   "outputs": [],
   "source": [
    "building = 5\n",
    "# Load data\n",
    "df_building = pd.read_csv(f\"../data/preprocessed/Building_{building}.csv\").astype({'datetime': 'datetime64'})#.set_index('datetime')"
   ]
  },
  {
   "cell_type": "code",
   "execution_count": null,
   "metadata": {},
   "outputs": [],
   "source": [
    "# df_building['net_load_kWh'].plot()\n"
   ]
  },
  {
   "cell_type": "code",
   "execution_count": null,
   "metadata": {},
   "outputs": [],
   "source": [
    "sns.histplot(df_building['net_load_kWh'], bins=30)"
   ]
  },
  {
   "cell_type": "code",
   "execution_count": null,
   "metadata": {},
   "outputs": [],
   "source": [
    "df_building = df_building.rename(columns={'datetime':'ds',\n",
    "                                    'net_load_kWh':'y'})\n",
    "# df.head(5)"
   ]
  },
  {
   "cell_type": "code",
   "execution_count": null,
   "metadata": {},
   "outputs": [],
   "source": [
    "def is_winter_season(ds):\n",
    "    date = pd.to_datetime(ds)\n",
    "    return(date.month < 4 or date.month > 9)\n",
    "\n",
    "df_building['winter'] = df_building['ds'].apply(is_winter_season)\n",
    "df_building['summer'] = ~df_building['ds'].apply(is_winter_season)"
   ]
  },
  {
   "cell_type": "code",
   "execution_count": null,
   "metadata": {},
   "outputs": [],
   "source": [
    "df_holiday = df_building[['ds','holiday']].query('holiday')\n",
    "df_holiday['holiday'] = 'Holiday'\n",
    "# df_holiday\n",
    "\n",
    "## In the development stage, it was explored to add the workday as part of the  ##\n",
    "## seasonality. It did not had an effect. Including the holiday did.            ##\n",
    "# df_workday = df[['ds','workday']].query('workday')\n",
    "# df_workday['holiday'] = 'Workday'\n",
    "# df_workday = df_workday.drop('workday', axis=1)\n",
    "\n",
    "# df_holidays = pd.concat([df_holiday, df_workday], ignore_index=True)"
   ]
  },
  {
   "cell_type": "code",
   "execution_count": null,
   "metadata": {},
   "outputs": [],
   "source": [
    "# pred_indices = [32135, 33311, 26478, 33357, 30387, 30794, 31800, 28783]\n",
    "pred_indices = [32135]"
   ]
  },
  {
   "cell_type": "markdown",
   "metadata": {},
   "source": [
    "## Prophet model. Full data"
   ]
  },
  {
   "cell_type": "code",
   "execution_count": null,
   "metadata": {},
   "outputs": [],
   "source": [
    "my_model_full = Prophet(interval_width=0.95, seasonality_mode='additive')\n",
    "my_model_full.fit(df_building)"
   ]
  },
  {
   "cell_type": "code",
   "execution_count": null,
   "metadata": {},
   "outputs": [],
   "source": [
    "future_dates = my_model_full.make_future_dataframe(periods = 365)\n",
    "forecast = my_model_full.predict(future_dates)\n"
   ]
  },
  {
   "cell_type": "code",
   "execution_count": null,
   "metadata": {},
   "outputs": [],
   "source": [
    "fig = my_model_full.plot(forecast, uncertainty=True, plot_cap=False)\n",
    "ax = fig.gca()\n",
    "ax.set_xlim(pd.to_datetime(['2008-01-02', '2009-01-01']))"
   ]
  },
  {
   "cell_type": "code",
   "execution_count": null,
   "metadata": {},
   "outputs": [],
   "source": [
    "sns.pointplot(x = 'ds', y='y', data=df_building[:24*365])\n",
    "# sns.lineplot(x = 'ds', y='yhat', data=forecast[:24*365])"
   ]
  },
  {
   "cell_type": "markdown",
   "metadata": {},
   "source": [
    "## Prophet simple model. Three years training"
   ]
  },
  {
   "cell_type": "markdown",
   "metadata": {},
   "source": [
    "### Split data in training and test data"
   ]
  },
  {
   "cell_type": "code",
   "execution_count": null,
   "metadata": {},
   "outputs": [],
   "source": [
    "df_simple_model_train = df_building[:365*3*24]\n",
    "df_simple_model_test = df_building[365*3*24:]"
   ]
  },
  {
   "cell_type": "markdown",
   "metadata": {},
   "source": [
    "### Simple Prophed model. Specify 95% of uncertainty and additive model. (Default 80% and additive model)"
   ]
  },
  {
   "cell_type": "code",
   "execution_count": null,
   "metadata": {},
   "outputs": [],
   "source": [
    "my_model_simple = Prophet(interval_width = 0.95, seasonality_mode=\"additive\")"
   ]
  },
  {
   "cell_type": "code",
   "execution_count": null,
   "metadata": {},
   "outputs": [],
   "source": [
    "my_model_simple.fit(df_simple_model_train)"
   ]
  },
  {
   "cell_type": "code",
   "execution_count": null,
   "metadata": {},
   "outputs": [],
   "source": [
    "for index in pred_indices:\n",
    "    with mlflow.start_run(run_name='Prophet Simple Model') as r:\n",
    "        # print(r.info.run_id)\n",
    "        ### Predict ##\n",
    "        # my_model_simple.fit(df.loc[:index])\n",
    "        df_future = df_building.copy().loc[index+1:index+24]\n",
    "        df_forecast = my_model_simple.predict(df_future)\n",
    "        df_forecast.index = df_future.index\n",
    "        df_forecast.index.name = 'id'\n",
    "        df_forecast['error'] = df_future.y - df_forecast.yhat\n",
    "        df_forecast = df_forecast[['yhat', 'error']]\n",
    "        \n",
    "        ## Evaluate ##\n",
    "        metrics = metrics_dict(df_future.y, df_forecast.yhat, [\"mae\", \"mse\", \"r2_score\"])\n",
    "        print(\"mae: {mae}, mse: {mse}, r2: {r2_score}\".format(**metrics))\n",
    "        mlflow.log_metrics(metrics)\n",
    "\n",
    "        ## Parameters log ##\n",
    "        params = {\n",
    "            'building_nr': building,\n",
    "            'datetime':index2datetime(index)\n",
    "        }\n",
    "        mlflow.log_params(params)\n",
    "\n",
    "        forecasts = df_forecast[['yhat']].assign(run_id = r.info.run_id).rename(columns={\"yhat\": \"prediction\"})\n",
    "        # print(forecasts.head())\n",
    "        # forecasts.to_sql(\"forecast\", con=db, if_exists=\"append\")"
   ]
  },
  {
   "cell_type": "markdown",
   "metadata": {},
   "source": [
    "## Optimize modeling"
   ]
  },
  {
   "cell_type": "code",
   "execution_count": null,
   "metadata": {},
   "outputs": [],
   "source": [
    "def my_prophet_mse(df, all_params):\n",
    "    warnings.simplefilter(\"ignore\", DeprecationWarning)\n",
    "    warnings.simplefilter(\"ignore\", FutureWarning)\n",
    "    logging.getLogger('prophet').setLevel(logging.ERROR) #Notice that i had modified the name from 'fbprophet' to just 'prophet'\n",
    "    mses = []\n",
    "    rmses = []\n",
    "    for params in all_params:\n",
    "        m = Prophet(**params)\n",
    "        m.fit(df)\n",
    "        df_cv = cross_validation(m, horizon='180 days', parallel='processes')\n",
    "        df_p = performance_metrics(df_cv, rolling_window=1)\n",
    "        mses.append(df_p['mse'].values[0])\n",
    "        rmses.append(df_p['rmse'].values[0])\n",
    "    tuning_results = pd.DataFrame(all_params)\n",
    "    tuning_results['mse'] = mses\n",
    "    tuning_results['rmse'] = rmses\n",
    "    print(tuning_results)\n",
    "    best_params=all_params[np.argmin(mses)]\n",
    "    print(best_params)\n",
    "    return best_params, tuning_results\n"
   ]
  },
  {
   "cell_type": "code",
   "execution_count": null,
   "metadata": {},
   "outputs": [],
   "source": [
    "# def my_prophet_rmse(df, all_params):\n",
    "#     # warnings.simplefilter(\"ignore\", DeprecationWarning)\n",
    "#     # warnings.simplefilter(\"ignore\", FutureWarning)\n",
    "#     # logging.getLogger('prophet').setLevel(logging.ERROR) #Notice that i had modified the name from 'fbprophet' to just 'prophet'\n",
    "#     rmses = []\n",
    "#     for params in all_params:\n",
    "#         m = Prophet(**params)\n",
    "#         m.fit(df)\n",
    "#         df_cv = cross_validation(m, horizon='180 days', parallel='processes')\n",
    "#         df_p = performance_metrics(df_cv, rolling_window=1)\n",
    "#         rmses.append(df_p['rmse'].values[0])\n",
    "#     tuning_results = pd.DataFrame(all_params)\n",
    "#     tuning_results['rmse'] = rmses\n",
    "#     print(tuning_results)\n",
    "#     best_params=all_params[np.argmin(rmses)]\n",
    "#     print(best_params)\n",
    "#     return best_params, tuning_results\n"
   ]
  },
  {
   "cell_type": "code",
   "execution_count": null,
   "metadata": {},
   "outputs": [],
   "source": [
    "def my_best_params(df, best_params):\n",
    "    my_model = Prophet(**best_params)\n",
    "    my_model.fit(df)\n",
    "    return my_model"
   ]
  },
  {
   "cell_type": "code",
   "execution_count": null,
   "metadata": {},
   "outputs": [],
   "source": [
    "def my_pred_mse(df,model_name, parameters, pred_index):\n",
    "    ls_best_params = []\n",
    "    ls_publish = []\n",
    "    for index in pred_index:\n",
    "        df_train=df.loc[:index]\n",
    "        df_future = df.loc[index+1:index+24]\n",
    "        with mlflow.start_run(run_name=model_name) as r:\n",
    "            ### Predict ##\n",
    "            best_params, tuning_results = my_prophet_mse(df_train, all_params=parameters)\n",
    "            ls_best_params.append([{'index':index}, best_params, tuning_results])\n",
    "            my_model = my_best_params(df_train, best_params = best_params)\n",
    "            df_forecast = my_model.predict(df_future)\n",
    "            df_forecast.index = df_future.index\n",
    "            df_forecast.index.name = 'id'\n",
    "            df_forecast['error'] = df_future.y - df_forecast.yhat\n",
    "            df_forecast = df_forecast[['yhat', 'error']]\n",
    "            \n",
    "            ## Evaluate ##\n",
    "            metrics = metrics_dict(df_future.y, df_forecast.yhat, [\"mae\", \"mse\", \"r2_score\"])\n",
    "            print(index)\n",
    "            print(\"mae: {mae}, mse: {mse}, r2: {r2_score}\".format(**metrics))\n",
    "            print(ls_best_params)\n",
    "            mlflow.log_metrics(metrics)\n",
    "\n",
    "            ## Parameters log ##\n",
    "            params = {\n",
    "                'building_nr': building,\n",
    "                'datetime':index2datetime(index)\n",
    "            }\n",
    "            mlflow.log_params(params)\n",
    "\n",
    "            forecasts = df_forecast[['yhat']].assign(run_id = r.info.run_id).rename(columns={\"yhat\": \"prediction\"})\n",
    "            # forecasts.to_sql(\"forecast\", con=db, if_exists=\"append\")\n",
    "            ls_publish.append([{'index':index,'metrics':metrics, 'params':params, 'forecast':forecasts}])\n",
    "    return forecasts, ls_best_params, my_model, ls_publish"
   ]
  },
  {
   "cell_type": "code",
   "execution_count": null,
   "metadata": {},
   "outputs": [],
   "source": [
    "# def my_pred_rsme(df,model_name, parameters, pred_index):\n",
    "#     ls_best_params = []\n",
    "#     for index in pred_index:\n",
    "#         with mlflow.start_run(run_name=model_name) as r:\n",
    "#             ### Predict ##\n",
    "#             best_params, tuning_results = my_prophet_rmse(df=df.loc[:index], all_params=parameters)\n",
    "#             ls_best_params.append([{'index':index}, best_params, tuning_results])\n",
    "#             my_model = my_best_params(df=df.loc[:index], best_params = best_params)\n",
    "#             df_future = df.loc[index+1:index+24]\n",
    "#             df_forecast = my_model.predict(df_future)\n",
    "#             df_forecast.index = df_future.index\n",
    "#             df_forecast.index.name = 'id'\n",
    "#             df_forecast['error'] = df_future.y - df_forecast.yhat\n",
    "#             df_forecast = df_forecast[['yhat', 'error']]\n",
    "            \n",
    "#             ## Evaluate ##\n",
    "#             metrics = metrics_dict(df_future.y, df_forecast.yhat, [\"mae\", \"mse\", \"r2_score\"])\n",
    "#             print(index)\n",
    "#             print(\"mae: {mae}, mse: {mse}, r2: {r2_score}\".format(**metrics))\n",
    "#             print(ls_best_params)\n",
    "#             mlflow.log_metrics(metrics)\n",
    "\n",
    "#             ## Parameters log ##\n",
    "#             params = {\n",
    "#                 'building_nr': building,\n",
    "#                 'datetime':index2datetime(index)\n",
    "#             }\n",
    "#             mlflow.log_params(params)\n",
    "\n",
    "#             forecasts = df_forecast[['yhat']].assign(run_id = r.info.run_id).rename(columns={\"yhat\": \"prediction\"})\n",
    "#             # forecasts.to_sql(\"forecast\", con=db, if_exists=\"append\")\n",
    "#     return forecasts, ls_best_params"
   ]
  },
  {
   "cell_type": "code",
   "execution_count": null,
   "metadata": {},
   "outputs": [],
   "source": [
    "# # Use RMSE for tunning \n",
    "# param_grid_simple = {\n",
    "#     'interval_width': [0.95],\n",
    "#     'seasonality_mode':['additive'],\n",
    "#     'changepoint_prior_scale':[0.05],\n",
    "#     'seasonality_prior_scale':[10.0],\n",
    "#     'holidays_prior_scale':[0.01]\n",
    "# }\n",
    "# all_params = [dict(zip(param_grid_simple.keys(), v)) for v in itertools.product(*param_grid_simple.values())]\n",
    "\n",
    "# pred_rmse, ls_best_rmse = my_pred_rsme(df=df_building,\n",
    "#                 model_name='Prophet Simple Model w/Params - Tunning RMSE', \n",
    "#                 parameters=all_params,\n",
    "#                 pred_index=pred_indices)"
   ]
  },
  {
   "cell_type": "code",
   "execution_count": null,
   "metadata": {},
   "outputs": [],
   "source": [
    "# Use MSE for tunning \n",
    "param_grid_simple = {\n",
    "    'interval_width': [0.95],\n",
    "    'seasonality_mode':['additive'],\n",
    "    'changepoint_prior_scale':[0.05],\n",
    "    'seasonality_prior_scale':[10.0],\n",
    "    'holidays_prior_scale':[0.01],\n",
    "    'changepoint_range':[0.8,0.9]\n",
    "}\n",
    "all_params = [dict(zip(param_grid_simple.keys(), v)) for v in itertools.product(*param_grid_simple.values())]\n",
    "\n",
    "pred_mse_simpleMod_Opt, ls_best_mse_simpleMod_Opt, m_mse_simpleMod_Opt, ls_publish_mse_simpleMod_Opt = my_pred_mse(df = df_building,\n",
    "                model_name='Prophet Simple Model w/Params - Tunning MSE', \n",
    "                parameters=all_params,\n",
    "                pred_index=pred_indices)"
   ]
  },
  {
   "cell_type": "markdown",
   "metadata": {},
   "source": [
    "### Parameters that can be tuned\n",
    "\n",
    "**changepoint_prior_scale**: This is probably the most impactful parameter. It determines the flexibility of the trend, and in particular how much the trend changes at the trend changepoints. As described in this documentation, if it is too small, the trend will be underfit and variance that should have been modeled with trend changes will instead end up being handled with the noise term. If it is too large, the trend will overfit and in the most extreme case you can end up with the trend capturing yearly seasonality. The default of 0.05 works for many time series, but this could be tuned; a range of [0.001, 0.5] would likely be about right. Parameters like this (regularization penalties; this is effectively a lasso penalty) are often tuned on a log scale.\n",
    "\n",
    "**seasonality_prior_scale**: This parameter controls the flexibility of the seasonality. Similarly, a large value allows the seasonality to fit large fluctuations, a small value shrinks the magnitude of the seasonality. The default is 10., which applies basically no regularization. That is because we very rarely see overfitting here (there’s inherent regularization with the fact that it is being modeled with a truncated Fourier series, so it’s essentially low-pass filtered). A reasonable range for tuning it would probably be [0.01, 10]; when set to 0.01 you should find that the magnitude of seasonality is forced to be very small. This likely also makes sense on a log scale, since it is effectively an L2 penalty like in ridge regression.\n",
    "\n",
    "**holidays_prior_scale**: This controls flexibility to fit holiday effects. Similar to seasonality_prior_scale, it defaults to 10.0 which applies basically no regularization, since we usually have multiple observations of holidays and can do a good job of estimating their effects. This could also be tuned on a range of [0.01, 10] as with seasonality_prior_scale.\n",
    "\n",
    "**seasonality_mode**: Options are ['additive', 'multiplicative']. Default is 'additive', but many business time series will have multiplicative seasonality. This is best identified just from looking at the time series and seeing if the magnitude of seasonal fluctuations grows with the magnitude of the time series (see the documentation here on multiplicative seasonality), but when that isn’t possible, it could be tuned."
   ]
  },
  {
   "cell_type": "code",
   "execution_count": null,
   "metadata": {},
   "outputs": [],
   "source": [
    "# # Parameter optimization. Tunning CV with RMSE \n",
    "# param_grid = {\n",
    "#     'interval_width': [0.95],\n",
    "#     'seasonality_mode':['additive'],\n",
    "#     'changepoint_prior_scale':[0.0001, 0.01, 0.05, 0.1, 0.5], #Parameters like this (regularization penalties; this is effectively a lasso penalty) are often tuned on a log scale.\n",
    "#     'seasonality_prior_scale':[0.01, 0.1, 1.0, 10.0], #This likely also makes sense on a log scale, since it is effectively an L2 penalty like in ridge regression.\n",
    "#     'holidays_prior_scale':[0.01, 0.1, 1.0, 10.0],\n",
    "#     'changepoint_range':[0.8,0.9]\n",
    "# }\n",
    "# all_params = [dict(zip(param_grid.keys(), v)) for v in itertools.product(*param_grid.values())]\n",
    "\n",
    "# pred_rmse, ls_best_rmse = my_pred_rsme(df = df_building,\n",
    "#         model_name='Prophet Simple Model Optimized Parameters - Tunning with RMSE', \n",
    "#         parameters=all_params,\n",
    "#         pred_index=pred_indices)"
   ]
  },
  {
   "cell_type": "code",
   "execution_count": null,
   "metadata": {},
   "outputs": [],
   "source": [
    "# Parameter optimization. Tunning CV with MSE \n",
    "param_grid = {\n",
    "    'interval_width': [0.95],\n",
    "    'seasonality_mode':['additive'],\n",
    "    'changepoint_prior_scale':[0.0001, 0.01, 0.05, 0.1, 0.5], #Parameters like this (regularization penalties; this is effectively a lasso penalty) are often tuned on a log scale.\n",
    "    'seasonality_prior_scale':[0.01, 0.1, 1.0, 10.0], #This likely also makes sense on a log scale, since it is effectively an L2 penalty like in ridge regression.\n",
    "    'holidays_prior_scale':[0.01, 0.1, 1.0, 10.0],\n",
    "    'changepoint_range':[0.8,0.9]\n",
    "}\n",
    "all_params = [dict(zip(param_grid.keys(), v)) for v in itertools.product(*param_grid.values())]\n",
    "\n",
    "pred_mse_simpleMod_Opt, ls_best_mse_simpleMod_Opt, m_mse_simpleMod_Opt, ls_publish_mse_simpleMod_Opt = my_pred_mse(df = df_building,\n",
    "        model_name='Prophet Simple Model Optimized Parameters - Tunning with MSE', \n",
    "        parameters=all_params,\n",
    "        pred_index=pred_indices)"
   ]
  },
  {
   "cell_type": "markdown",
   "metadata": {},
   "source": [
    "### Comparison between RMSE and MSE for CV assessment in Hyperparmeter selection"
   ]
  },
  {
   "cell_type": "markdown",
   "metadata": {},
   "source": [
    "### Add holidays"
   ]
  },
  {
   "cell_type": "code",
   "execution_count": null,
   "metadata": {},
   "outputs": [],
   "source": [
    "param_grid = {\n",
    "    'interval_width': [0.95],\n",
    "    'seasonality_mode':['additive'],\n",
    "    'changepoint_prior_scale':[0.0001, 0.01, 0.1, 0.5],\n",
    "    'seasonality_prior_scale':[0.01, 0.1, 1.0, 10.0],\n",
    "    'holidays':[df_holiday],\n",
    "    'holidays_prior_scale':[0.01, 0.1, 1.0, 10.0],\n",
    "    'changepoint_range':[0.8,0.9]\n",
    "}\n",
    "all_params = [dict(zip(param_grid.keys(), v)) for v in itertools.product(*param_grid.values())]\n",
    "\n",
    "pred_mse_WkMod_Opt_holidays, ls_best_mse_WkMod_Opt_holidays, m_best_mse_WkMod_Opt_holidays, ls_publish_best_mse_WkMod_Opt_holidays = my_pred_mse(df = df_building,\n",
    "        model_name='Prophet Holidays-Optimized-Parameters - Tunning with MSE', \n",
    "        parameters=all_params,\n",
    "        pred_index=pred_indices)"
   ]
  },
  {
   "cell_type": "markdown",
   "metadata": {},
   "source": [
    "### Assume different weekly sesonalities. Summer vs Winter"
   ]
  },
  {
   "cell_type": "code",
   "execution_count": null,
   "metadata": {},
   "outputs": [],
   "source": [
    "def my_prophet_mse(df, all_params):\n",
    "    warnings.simplefilter(\"ignore\", DeprecationWarning)\n",
    "    warnings.simplefilter(\"ignore\", FutureWarning)\n",
    "    logging.getLogger('prophet').setLevel(logging.ERROR) #Notice that i had modified the name from 'fbprophet' to just 'prophet'\n",
    "    mses = []\n",
    "    rmses = []\n",
    "    for params in all_params:\n",
    "        m = Prophet(**params,\n",
    "        weekly_seasonality=False\n",
    "        )\n",
    "        m.add_seasonality(name='weekly_on_winter', period = 7, fourier_order= 10, condition_name='winter')\n",
    "        m.add_seasonality(name='weekly_on_summer', period = 7, fourier_order= 10, condition_name='summer')\n",
    "        m.fit(df)\n",
    "        df_cv = cross_validation(m, horizon='180 days', parallel='processes')\n",
    "        df_p = performance_metrics(df_cv, rolling_window=1)\n",
    "        mses.append(df_p['mse'].values[0])\n",
    "        rmses.append(df_p['rmse'].values[0])\n",
    "    tuning_results = pd.DataFrame(all_params)\n",
    "    tuning_results['mse'] = mses\n",
    "    tuning_results['rmse'] = rmses\n",
    "    print(tuning_results)\n",
    "    best_params=all_params[np.argmin(rmses)]\n",
    "    print(best_params)\n",
    "    return best_params, tuning_results"
   ]
  },
  {
   "cell_type": "code",
   "execution_count": null,
   "metadata": {},
   "outputs": [],
   "source": [
    "param_grid = {\n",
    "    'interval_width': [0.95],\n",
    "    'seasonality_mode':['additive'],\n",
    "    'changepoint_prior_scale':[0.0001, 0.01, 0.1, 0.5],\n",
    "    'seasonality_prior_scale':[0.01, 0.1, 1.0, 10.0],\n",
    "    'holidays':[df_holiday],\n",
    "    'holidays_prior_scale':[0.01, 0.1, 1.0, 10.0],\n",
    "    'changepoint_range':[0.8,0.9]\n",
    "}\n",
    "all_params = [dict(zip(param_grid.keys(), v)) for v in itertools.product(*param_grid.values())]\n",
    "\n",
    "pred_mse_WkSeasMod_Opt, ls_best_mse_WkSeasMod_Opt, m_best_mse_WkSeasMod_Opt, ls_publish_best_mse_WkSeasMod_Opt = my_pred_mse(df=df_building,\n",
    "        model_name='Prophet Holidays-Winter/Summer-Optimized-Parameters - Tunning with MSE', \n",
    "        parameters=all_params,\n",
    "        pred_index=pred_indices)"
   ]
  },
  {
   "cell_type": "markdown",
   "metadata": {},
   "source": [
    "### Add outdoor temperature and direct solar energy as additional regressor. Include 24h forecast for each feature too. \n",
    "### The temperature and solar energy data is in the original dataset."
   ]
  },
  {
   "cell_type": "code",
   "execution_count": null,
   "metadata": {},
   "outputs": [],
   "source": [
    "def my_prophet_mse(df, all_params):\n",
    "    warnings.simplefilter(\"ignore\", DeprecationWarning)\n",
    "    warnings.simplefilter(\"ignore\", FutureWarning)\n",
    "    logging.getLogger('prophet').setLevel(logging.ERROR) #Notice that i had modified the name from 'fbprophet' to just 'prophet'\n",
    "    mses = []\n",
    "    rmses = []\n",
    "    for params in all_params:\n",
    "        m = Prophet(**params,\n",
    "        weekly_seasonality=False\n",
    "        )\n",
    "        m.add_seasonality(name='weekly_on_winter', period = 7, fourier_order= 10, condition_name='winter')\n",
    "        m.add_seasonality(name='weekly_on_summer', period = 7, fourier_order= 10, condition_name='summer')\n",
    "        m.add_regressor(name='outdoor_temp')\n",
    "        m.add_regressor(name='pred_24h_outdoor_temp')\n",
    "        m.add_regressor(name='direct_solar_W_m2')\n",
    "        m.add_regressor(name='pred_24h_direct_solar_W_m2')\n",
    "        m.fit(df)\n",
    "        df_cv = cross_validation(m, horizon='180 days', parallel='processes')\n",
    "        df_p = performance_metrics(df_cv, rolling_window=1)\n",
    "        mses.append(df_p['mse'].values[0])\n",
    "        rmses.append(df_p['rmse'].values[0])\n",
    "    tuning_results = pd.DataFrame(all_params)\n",
    "    tuning_results['mse'] = mses\n",
    "    tuning_results['rmse'] = rmses\n",
    "    print(tuning_results)\n",
    "    best_params=all_params[np.argmin(rmses)]\n",
    "    print(best_params)\n",
    "    return best_params, tuning_results"
   ]
  },
  {
   "cell_type": "code",
   "execution_count": null,
   "metadata": {},
   "outputs": [],
   "source": [
    "param_grid = {\n",
    "    'interval_width': [0.95],\n",
    "    'seasonality_mode':['additive'],\n",
    "    'changepoint_prior_scale':[0.0001, 0.01, 0.1, 0.5],\n",
    "    'seasonality_prior_scale':[0.01, 0.1, 1.0, 10.0],\n",
    "    'holidays':[df_holiday],\n",
    "    'holidays_prior_scale':[0.01, 0.1, 1.0, 10.0],\n",
    "    'changepoint_range':[0.8,0.9]\n",
    "}\n",
    "all_params = [dict(zip(param_grid.keys(), v)) for v in itertools.product(*param_grid.values())]\n",
    "\n",
    "pred_mse_best_mse_RegMod_Opt, ls_best_mse_best_mse_RegMod_Opt, m_mse_best_mse_RegMod_Opt, ls_publish_mse_best_mse_RegMod_Opt = my_pred_mse(df=df_building,\n",
    "        model_name='Prophet Holidays-Winter/Summer-Regressors-Optimized-Parameters - Tunning with MSE', \n",
    "        parameters=all_params,\n",
    "        pred_index=pred_indices)"
   ]
  }
 ],
 "metadata": {
  "kernelspec": {
   "display_name": "Python 3.9.8 ('.venv': venv)",
   "language": "python",
   "name": "python3"
  },
  "language_info": {
   "codemirror_mode": {
    "name": "ipython",
    "version": 3
   },
   "file_extension": ".py",
   "mimetype": "text/x-python",
   "name": "python",
   "nbconvert_exporter": "python",
   "pygments_lexer": "ipython3",
   "version": "3.9.8"
  },
  "orig_nbformat": 4,
  "vscode": {
   "interpreter": {
    "hash": "936a5df007153d01b3102aafced708416033fa212ee31eb346aae0df437c09f5"
   }
  }
 },
 "nbformat": 4,
 "nbformat_minor": 2
}
