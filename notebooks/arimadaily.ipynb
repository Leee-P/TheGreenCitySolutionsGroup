{
 "cells": [
  {
   "cell_type": "markdown",
   "metadata": {},
   "source": [
    "# Trying out ARIMA\n",
    "\n",
    "## Possible improvements\n",
    "- investigate how seasonalities may change during higher-order seasons, maybe train ARIMA only on the latest part?\n",
    "  (how does ARIMA actually learn the fitting?)\n",
    "- Differentiating\n",
    "- Also include daily seasonality"
   ]
  },
  {
   "cell_type": "code",
   "execution_count": null,
   "metadata": {},
   "outputs": [],
   "source": [
    "import mlflow\n",
    "import pandas as pd\n",
    "import numpy as np\n",
    "import matplotlib.pyplot as plt\n",
    "import seaborn as sns\n",
    "from datetime import datetime, timedelta\n",
    "from sklearn.linear_model import LinearRegression\n",
    "from sklearn.metrics import mean_absolute_error,mean_squared_error\n",
    "from statsmodels.tsa.arima_model import ARIMA\n",
    "from pmdarima.arima import auto_arima\n",
    "from green_city.modelling import fit_tri\n",
    "from green_city.utils import metrics_dict, index2datetime\n",
    "\n",
    "from statsmodels.graphics.tsaplots import plot_acf, plot_pacf"
   ]
  },
  {
   "cell_type": "code",
   "execution_count": null,
   "metadata": {},
   "outputs": [],
   "source": [
    "## MLFLOW ##\n",
    "import mlflow\n",
    "from green_city.mlflow_config import get_mlflow_config\n",
    "\n",
    "flow_conf = get_mlflow_config()\n",
    "tracking_uri = flow_conf[\"TRACKING_URI\"]\n",
    "mlflow.set_tracking_uri(flow_conf[\"TRACKING_URI\"])\n",
    "mlflow.set_experiment(flow_conf[\"EXPERIMENT_NAME\"]);"
   ]
  },
  {
   "cell_type": "code",
   "execution_count": null,
   "metadata": {},
   "outputs": [],
   "source": [
    "## DB CONNECTION ##\n",
    "from sqlalchemy import create_engine\n",
    "from decouple import Config, RepositoryEnv\n",
    "\n",
    "config = Config(RepositoryEnv(\"../.db_credentials\"))\n",
    "\n",
    "db_connection_credentials = {\n",
    "    \"database\": config('POSTGRES_DB'),\n",
    "    \"user\": config('POSTGRES_USER'),\n",
    "    \"password\": config('POSTGRES_PASSWORD'),\n",
    "    \"host\": config('POSTGRES_HOST'),\n",
    "    \"port\": config('POSTGRES_PORT'),\n",
    "}\n",
    "DB_STRING = \"postgresql://{user}:{password}@{host}:{port}/{database}\".format(**db_connection_credentials)\n",
    "db = create_engine(DB_STRING)"
   ]
  },
  {
   "cell_type": "code",
   "execution_count": null,
   "metadata": {},
   "outputs": [],
   "source": [
    "global_params = {\n",
    "    \"feature\": \"net_load_kWh\",\n",
    "    \"building_nr\": 5,\n",
    "    \"resolution\": \"H\",\n",
    "    \"pred_steps\": 24,\n",
    "}"
   ]
  },
  {
   "cell_type": "code",
   "execution_count": null,
   "metadata": {},
   "outputs": [],
   "source": [
    "# Load data for building 5\n",
    "building_nr = 5\n",
    "df = (pd.read_csv(f\"../data/preprocessed/Building_{building_nr}.csv\")\n",
    "      .astype({'datetime': 'datetime64'})[['datetime', 'net_load_kWh']]\n",
    "      .rename(columns={'net_load_kWh': 'actual'})\n",
    ")\n",
    "\n",
    "# Remove yearly season\n",
    "_, approximation_result = fit_tri(df.actual, 4)\n",
    "df[\"season_Y\"] = approximation_result\n",
    "\n",
    "#Remove trend\n",
    "#this is not perfect, but a good placeholder\n",
    "trend = (df.actual.rolling(24*28*3, win_type = 'hamming', center=True, min_periods=1).mean() - df.season_Y).rolling(24*600, center=True, min_periods=1).mean()\n",
    "df[\"trend\"] = trend\n",
    "#df.season_Y.plot()\n",
    "df[\"detrended_Y\"] = df.actual - df.season_Y - df.trend"
   ]
  },
  {
   "cell_type": "code",
   "execution_count": null,
   "metadata": {},
   "outputs": [],
   "source": [
    "# Remove weekly season\n",
    "df['weekday'] = df.datetime.dt.weekday\n",
    "df['daily_rolling'] = df['detrended_Y'].rolling(24, center=True, min_periods=1).mean()\n",
    "df['daily_rolling']\n",
    "nr_weeks = len(df)//(24*7)\n",
    "avg_week = (sum([df['daily_rolling'].shift(-i*24*7) for i in range(nr_weeks)])/nr_weeks)[:24*7]\n",
    "#from three average weeks, do smoothing and select the middle one\n",
    "one_week_season = pd.concat([avg_week]*3, ignore_index=True).rolling(24, center=True).mean()[24*7:2*24*7].reset_index(drop=True)\n",
    "df['season_W'] = df.index.map(lambda x: one_week_season[x%(24*7)])\n",
    "df['deseasoned_W'] = df.actual - df.trend - df.season_Y - df.season_W\n",
    "df['trend_seasons'] =  df.trend + df.season_Y + df.season_W"
   ]
  },
  {
   "cell_type": "markdown",
   "metadata": {},
   "source": [
    "## [Here it would be interesting how the week-seasonality changes in the course of times]"
   ]
  },
  {
   "cell_type": "code",
   "execution_count": null,
   "metadata": {},
   "outputs": [],
   "source": [
    "#try fitting ARIMA with previously doing diff by hand\n",
    "df['diff1'] = df.deseasoned_W.diff(1)\n",
    "aar = auto_arima(df.diff1[1:])\n"
   ]
  },
  {
   "cell_type": "code",
   "execution_count": null,
   "metadata": {},
   "outputs": [],
   "source": [
    "display(aar)\n",
    "#ARIMA(order=(4, 0, 3), scoring_args={}, suppress_warnings=True,\n",
    "#      with_intercept=False)"
   ]
  },
  {
   "cell_type": "code",
   "execution_count": null,
   "metadata": {},
   "outputs": [],
   "source": [
    "#de-season-and-trended + diff + auto arima\n",
    "fitted_model = aar.fit(df.diff1[1:])\n",
    "print(fitted_model.summary())"
   ]
  },
  {
   "cell_type": "code",
   "execution_count": null,
   "metadata": {},
   "outputs": [],
   "source": [
    "plot_acf(df.diff1, lags=20);\n",
    "#plot_acf(df.deseasoned_W.diff(), lags=20);\n",
    "#plot_pacf(df['deseasoned_W'], lags=50);"
   ]
  },
  {
   "cell_type": "code",
   "execution_count": null,
   "metadata": {},
   "outputs": [],
   "source": [
    "\n",
    "plot_acf(df.diff1[2:], lags=20);\n",
    "#plot_acf(df.deseasoned_W.diff(), lags=20);\n",
    "#plot_pacf(df['deseasoned_W'], lags=50);"
   ]
  },
  {
   "cell_type": "code",
   "execution_count": null,
   "metadata": {},
   "outputs": [],
   "source": [
    "from pmdarima.arima import ARIMA\n",
    "#(order,\n",
    "# seasonal_order=(0, 0, 0, 0),\n",
    "# start_params=None,\n",
    "# method='lbfgs',\n",
    "# maxiter=50,\n",
    "# suppress_warnings=False, out_of_sample_size=0, scoring='mse', scoring_args=None, trend=None, with_intercept=True, **sarimax_kwargs)"
   ]
  },
  {
   "cell_type": "code",
   "execution_count": null,
   "metadata": {},
   "outputs": [],
   "source": [
    "train_data = df.deseasoned_W[:365*24*3]\n",
    "test_data = df.deseasoned_W[365*24*3:]\n",
    "\n",
    "def get_auto_arima(X_train):\n",
    "    arima_model = auto_arima(X_train, **arima_params)\n",
    "#arima_params = {\n",
    "#    \"start_p\":5,\n",
    "#    \"start_q\":3,\n",
    "#    \"d\":1,\n",
    "#    \"max_p\":5,\n",
    "#    \"max_q\":3,\n",
    "#    \"seasonal\":False,\n",
    "#    \"with_intercept\": False,\n",
    "#}\n",
    "#2.12\n",
    "\n",
    "#arima_model = auto_arima(train_data, **arima_params)\n",
    "#returns order=(5, 1, 3), scoring_args={}, suppress_warnings=True, with_intercept=False"
   ]
  },
  {
   "cell_type": "code",
   "execution_count": null,
   "metadata": {},
   "outputs": [],
   "source": [
    "pred_indices = [32135, 33311, 26478, 33357, 30387, 30794, 31800, 28783]\n",
    "\n",
    "SMALL_WINDOW = True\n",
    "\n",
    "for index in pred_indices:\n",
    "    actual = df.loc[index+1:index+24, \"actual\"].to_numpy()\n",
    "    correction = df.loc[index+1:index+24, \"trend_seasons\"].to_numpy()\n",
    "\n",
    "    #if True:\n",
    "    with mlflow.start_run(run_name=f\"decompose_and_ARIMA_5_1_3_s\") as r:\n",
    "        params = global_params.copy()\n",
    "        params.update({\n",
    "            \"index\": index,\n",
    "            \"datetime\": index2datetime(index),\n",
    "            \"pred_steps\": 24,\n",
    "            \"model\": \"ARIMA\",\n",
    "            \"seasonalities\": [365*24, 7*24],\n",
    "        })\n",
    "        \n",
    "        arima_model = ARIMA((5,1,3), with_intercept=False, maxiter=200)\n",
    "        if SMALL_WINDOW:\n",
    "            fitted_model = arima_model.fit(df.deseasoned_W[index-(14*24):index+1])\n",
    "        else:\n",
    "            fitted_model = arima_model.fit(train_data)\n",
    "            #print(fitted_model.summary())\n",
    "            fitted_model.fit(df.deseasoned_W[:index+1])\n",
    "        prediction = fitted_model.predict(24) + correction\n",
    "        \n",
    "        #print(actual)\n",
    "        #print(prediction)\n",
    "        \n",
    "        metrics = metrics_dict(actual, prediction, [\"mae\", \"mse\", \"r2_score\"])\n",
    "        print(\"mae: {mae}, mse: {mse}, r2: {r2_score}\".format(**metrics))\n",
    "        \n",
    "        mlflow.log_metrics(metrics)\n",
    "        mlflow.log_params(params)\n",
    "        \n",
    "        ## save result to database ##\n",
    "        #needs to be a table with [\"id\", \"prediction\", \"run_id\"] as columns (which can include the index-column)\n",
    "        forecasts = pd.DataFrame({'prediction': prediction}, index=list(range(index+1, index+25))).assign(run_id = r.info.run_id)\n",
    "        forecasts.index.name = \"id\"\n",
    "        #display(forecasts)\n",
    "\n",
    "        forecasts.to_sql(\"forecast\", con=db, if_exists=\"append\")"
   ]
  },
  {
   "cell_type": "code",
   "execution_count": null,
   "metadata": {},
   "outputs": [],
   "source": [
    "\n",
    "\n",
    "corrected_prediction = prediction + df.trend_seasons[index+1:index+25]\n",
    "plt.plot(corrected_prediction)\n",
    "plt.plot(df.actual[index+1:index+25])\n",
    "\n",
    "print(mean_squared_error(df.actual[index+1:index+25], corrected_prediction))"
   ]
  },
  {
   "cell_type": "markdown",
   "metadata": {},
   "source": [
    "## Checking how the weekly trend is changing"
   ]
  },
  {
   "cell_type": "code",
   "execution_count": null,
   "metadata": {},
   "outputs": [],
   "source": [
    "def normalize_cols(cols):\n",
    "    mini = np.min(cols)\n",
    "    maxi = np.max(cols)\n",
    "    rng = maxi-mini\n",
    "    return (cols - mini)/rng\n",
    "\n",
    "def stdize_cols(cols, scale=True):\n",
    "    mean = np.mean(cols)\n",
    "    if scale:\n",
    "        std = np.std(cols)\n",
    "    else:\n",
    "        std = 1\n",
    "    return (cols - mean)/std\n",
    "\n",
    "def stdize_cols_without_scaling(cols):\n",
    "    return stdize_cols(cols, scale=False)\n",
    "\n",
    "def col_for_each_weekday(s):\n",
    "    #display(s)\n",
    "    value = s.detrended_Y\n",
    "    weekday = int(s.weekday)\n",
    "    rv = np.array([np.nan]*7)\n",
    "    rv[weekday] = value\n",
    "    return rv"
   ]
  },
  {
   "cell_type": "code",
   "execution_count": null,
   "metadata": {},
   "outputs": [],
   "source": [
    "df[\"day_tot\"] = df.index.map(lambda x: x//24)\n",
    "df_ww = (df\n",
    " .groupby(\"day_tot\").mean()\n",
    " .loc[5:1453]\n",
    " .astype({'weekday': 'int'})\n",
    " [[\"detrended_Y\", \"weekday\"]]\n",
    " .assign(d_tot = range(1449))\n",
    " .set_index(\"d_tot\")\n",
    " .assign(w_tot = lambda x: x.index // 7)\n",
    " )\n",
    "df_ww[[f\"a_{i}\" for i in range(7)]] = df_ww.apply(col_for_each_weekday, axis=1, result_type='expand').interpolate()\n",
    "df_ww = df_ww.dropna()\n",
    "df_ww[[f\"a_{i}\" for i in range(7)]] = df_ww[[f\"a_{i}\" for i in range(7)]].rolling(100).mean()\n",
    "\n",
    "df_ww[[f\"a_{i}\" for i in range(7)]] = df_ww[[f\"a_{i}\" for i in range(7)]].apply(stdize_cols_without_scaling, axis=1)\n",
    "\n",
    "plt.rcParams['figure.figsize'] = [25, 8]\n",
    "df_ww[[f\"a_{i}\" for i in range(7)]].plot();"
   ]
  },
  {
   "cell_type": "markdown",
   "metadata": {},
   "source": [
    "## TODO: Could we get the same insight with a simple box plot?"
   ]
  }
 ],
 "metadata": {
  "kernelspec": {
   "display_name": "Python 3.9.8 ('.venv': venv)",
   "language": "python",
   "name": "python3"
  },
  "language_info": {
   "codemirror_mode": {
    "name": "ipython",
    "version": 3
   },
   "file_extension": ".py",
   "mimetype": "text/x-python",
   "name": "python",
   "nbconvert_exporter": "python",
   "pygments_lexer": "ipython3",
   "version": "3.9.8"
  },
  "orig_nbformat": 4,
  "vscode": {
   "interpreter": {
    "hash": "adec6c5f7a7e6b374924807d676c9e580fd19dbf1c8cad640c4c5a1bb48bcada"
   }
  }
 },
 "nbformat": 4,
 "nbformat_minor": 2
}
