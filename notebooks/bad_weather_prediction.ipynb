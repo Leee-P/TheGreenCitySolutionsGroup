{
 "cells": [
  {
   "cell_type": "code",
   "execution_count": null,
   "metadata": {},
   "outputs": [],
   "source": [
    "import pandas as pd\n",
    "import seaborn as sns\n",
    "from sklearn.model_selection import train_test_split\n",
    "from sklearn.linear_model import LinearRegression\n",
    "import matplotlib.pyplot as plt\n",
    "from sklearn.metrics import r2_score\n",
    "from statsmodels.graphics.tsaplots import plot_acf, plot_pacf\n",
    "plt.rcParams['figure.figsize'] = [15, 5]"
   ]
  },
  {
   "cell_type": "code",
   "execution_count": null,
   "metadata": {},
   "outputs": [],
   "source": [
    "df = (pd.read_csv(\"../data/preprocessed/Building_4.csv\")\n",
    "      .astype({'datetime': 'datetime64'})\n",
    "      .set_index('datetime'))"
   ]
  },
  {
   "cell_type": "markdown",
   "metadata": {},
   "source": [
    "# Testing quality of prediction simulation"
   ]
  },
  {
   "cell_type": "code",
   "execution_count": null,
   "metadata": {},
   "outputs": [],
   "source": [
    "#sns.pairplot(difs)\n",
    "pdf = pd.concat([\n",
    "    df[\"outdoor_temp\"],\n",
    "    df[\"pred_6h_outdoor_temp\"].shift(6),\n",
    "    df[\"pred_12h_outdoor_temp\"].shift(12),\n",
    "    df[\"pred_24h_outdoor_temp\"].shift(24),\n",
    "], axis=1).iloc[24:, :]"
   ]
  },
  {
   "cell_type": "code",
   "execution_count": null,
   "metadata": {},
   "outputs": [],
   "source": [
    "pred_temp_cols = [\n",
    "    'pred_6h_outdoor_temp',\n",
    "    'pred_12h_outdoor_temp',\n",
    "    'pred_24h_outdoor_temp'\n",
    "]\n",
    "\n",
    "X = pdf[[\"pred_12h_outdoor_temp\", \"pred_24h_outdoor_temp\"]]\n",
    "y = pdf.outdoor_temp\n",
    "X_train, X_test, y_train, y_test = train_test_split(X, y)"
   ]
  },
  {
   "cell_type": "code",
   "execution_count": null,
   "metadata": {},
   "outputs": [],
   "source": [
    "lr = LinearRegression()\n",
    "lr.fit(X_train, y_train)"
   ]
  },
  {
   "cell_type": "code",
   "execution_count": null,
   "metadata": {},
   "outputs": [],
   "source": [
    "pdf_test = pdf.loc[X_test.index, :].assign(\n",
    "    pred_12h_better_outdoor_temp = lr.predict(X_test),\n",
    "    pred_error = lambda x: x.pred_6h_outdoor_temp - x.outdoor_temp,\n",
    "    pred_better_error = lambda x: x.pred_12h_better_outdoor_temp - x.outdoor_temp,\n",
    ")"
   ]
  },
  {
   "cell_type": "code",
   "execution_count": null,
   "metadata": {},
   "outputs": [],
   "source": [
    "pdf.iloc[2210:2260, :].plot()"
   ]
  },
  {
   "cell_type": "code",
   "execution_count": null,
   "metadata": {},
   "outputs": [],
   "source": [
    "pdf_test[[\"pred_error\", \"pred_better_error\"]].rename(columns={\n",
    "    \"pred_error\": \"error of 6 hour prediction from csv\",\n",
    "    \"pred_better_error\": \"error of my 12 hour prediction\",\n",
    "    }).boxplot()"
   ]
  }
 ],
 "metadata": {
  "kernelspec": {
   "display_name": "Python 3.9.8 ('.venv': venv)",
   "language": "python",
   "name": "python3"
  },
  "language_info": {
   "codemirror_mode": {
    "name": "ipython",
    "version": 3
   },
   "file_extension": ".py",
   "mimetype": "text/x-python",
   "name": "python",
   "nbconvert_exporter": "python",
   "pygments_lexer": "ipython3",
   "version": "3.9.8"
  },
  "orig_nbformat": 4,
  "vscode": {
   "interpreter": {
    "hash": "adec6c5f7a7e6b374924807d676c9e580fd19dbf1c8cad640c4c5a1bb48bcada"
   }
  }
 },
 "nbformat": 4,
 "nbformat_minor": 2
}
