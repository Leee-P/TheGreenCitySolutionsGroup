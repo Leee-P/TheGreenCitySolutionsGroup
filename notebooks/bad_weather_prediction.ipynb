{
 "cells": [
  {
   "cell_type": "code",
   "execution_count": null,
   "metadata": {},
   "outputs": [],
   "source": [
    "import pandas as pd\n",
    "import seaborn as sns\n",
    "from sklearn.model_selection import train_test_split\n",
    "from sklearn.linear_model import LinearRegression\n",
    "import matplotlib.pyplot as plt\n",
    "from sklearn.metrics import r2_score\n",
    "from statsmodels.graphics.tsaplots import plot_acf, plot_pacf\n",
    "plt.rcParams['figure.figsize'] = [15, 5]"
   ]
  },
  {
   "cell_type": "code",
   "execution_count": null,
   "metadata": {},
   "outputs": [],
   "source": [
    "df = (pd.read_csv(\"../data/preprocessed/Building_4.csv\")\n",
    "      .astype({'datetime': 'datetime64'})\n",
    "      .set_index('datetime'))"
   ]
  },
  {
   "cell_type": "markdown",
   "metadata": {},
   "source": [
    "# Testing quality of prediction simulation"
   ]
  },
  {
   "cell_type": "code",
   "execution_count": null,
   "metadata": {},
   "outputs": [],
   "source": [
    "temp = \"outdoor_temp\"\n",
    "hum = \"outdoor_hum\"\n",
    "diffuse_solar = \"diffuse_solar_W_m2\"\n",
    "direct_solar = \"direct_solar_W_m2\"\n",
    "pred_features = [temp, hum, diffuse_solar, direct_solar]\n",
    "\n",
    "###################################\n",
    "# change here which of the four features you want to investigate\n",
    "feature = pred_features[3]\n",
    "###################################\n",
    "\n",
    "display(df.columns)"
   ]
  },
  {
   "cell_type": "code",
   "execution_count": null,
   "metadata": {},
   "outputs": [],
   "source": [
    "#sns.pairplot(difs)\n",
    "pdf = pd.concat([\n",
    "    df[feature],\n",
    "    df[f\"pred_6h_{feature}\"].shift(6),\n",
    "    df[f\"pred_12h_{feature}\"].shift(12),\n",
    "    df[f\"pred_24h_{feature}\"].shift(24),\n",
    "], axis=1).iloc[24:, :]"
   ]
  },
  {
   "cell_type": "code",
   "execution_count": null,
   "metadata": {},
   "outputs": [],
   "source": [
    "pred_temp_cols = [\n",
    "    f'pred_6h_{feature}',\n",
    "    f'pred_12h_{feature}',\n",
    "    f'pred_24h_{feature}'\n",
    "]\n",
    "\n",
    "X = pdf[[f\"pred_12h_{feature}\", f\"pred_24h_{feature}\"]]\n",
    "y = pdf[feature]\n",
    "X_train, X_test, y_train, y_test = train_test_split(X, y)"
   ]
  },
  {
   "cell_type": "code",
   "execution_count": null,
   "metadata": {},
   "outputs": [],
   "source": [
    "lr = LinearRegression()\n",
    "lr.fit(X_train, y_train)"
   ]
  },
  {
   "cell_type": "code",
   "execution_count": null,
   "metadata": {},
   "outputs": [],
   "source": [
    "pdf_test = pdf.loc[X_test.index, :].assign(\n",
    "    pred_12h_better = lr.predict(X_test),\n",
    "    pred_error = lambda x: x[f\"pred_6h_{feature}\"] - x[feature],\n",
    "    pred_better_error = lambda x: x[\"pred_12h_better\"] - x[feature],\n",
    ")"
   ]
  },
  {
   "cell_type": "code",
   "execution_count": null,
   "metadata": {},
   "outputs": [],
   "source": [
    "t = 3354\n",
    "pdf.iloc[t:t+50, :].plot()"
   ]
  },
  {
   "cell_type": "code",
   "execution_count": null,
   "metadata": {},
   "outputs": [],
   "source": [
    "pdf_test[[\"pred_error\", \"pred_better_error\"]].rename(columns={\n",
    "    \"pred_error\": \"error of 6 hour prediction from csv\",\n",
    "    \"pred_better_error\": \"error of my 12 hour prediction\",\n",
    "    }).boxplot()"
   ]
  },
  {
   "cell_type": "code",
   "execution_count": null,
   "metadata": {},
   "outputs": [],
   "source": [
    "print(f\"   csv 24h prediction corr with actual {feature}:\", pdf_test[f\"pred_24h_{feature}\"].corr(pdf[feature]))\n",
    "print(f\"   csv 12h prediction corr with actual {feature}:\", pdf_test[f\"pred_12h_{feature}\"].corr(pdf[feature]))\n",
    "print(f\"   csv  6h prediction corr with actual {feature}:\", pdf_test[f\"pred_6h_{feature}\"].corr(pdf[feature]))\n",
    "print(f\"fitted 12h prediction corr with actual {feature}:\", pdf_test[\"pred_12h_better\"].corr(pdf[feature]))"
   ]
  }
 ],
 "metadata": {
  "kernelspec": {
   "display_name": "Python 3.9.8 ('.venv': venv)",
   "language": "python",
   "name": "python3"
  },
  "language_info": {
   "codemirror_mode": {
    "name": "ipython",
    "version": 3
   },
   "file_extension": ".py",
   "mimetype": "text/x-python",
   "name": "python",
   "nbconvert_exporter": "python",
   "pygments_lexer": "ipython3",
   "version": "3.9.8"
  },
  "orig_nbformat": 4,
  "vscode": {
   "interpreter": {
    "hash": "adec6c5f7a7e6b374924807d676c9e580fd19dbf1c8cad640c4c5a1bb48bcada"
   }
  }
 },
 "nbformat": 4,
 "nbformat_minor": 2
}
