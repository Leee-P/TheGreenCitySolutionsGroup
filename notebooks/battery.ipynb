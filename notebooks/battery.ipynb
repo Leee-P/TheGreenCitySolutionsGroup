{
 "cells": [
  {
   "cell_type": "code",
   "execution_count": null,
   "metadata": {},
   "outputs": [],
   "source": [
    "import pandas as pd\n",
    "import matplotlib.pyplot as plt\n",
    "import json\n",
    "from green_city.utils import span\n",
    "from green_city.plotting import plot_balance\n",
    "from green_city.simulation import Battery\n",
    "\n",
    "plt.rcParams['figure.figsize'] = [15, 5]\n",
    "\n",
    "building_nr = 4"
   ]
  },
  {
   "cell_type": "code",
   "execution_count": null,
   "metadata": {},
   "outputs": [],
   "source": [
    "df = pd.read_csv(f\"../data/preprocessed/Building_{building_nr}.csv\").astype({'datetime': 'datetime64'}).set_index('datetime')\n",
    "with open(\"../data/citylearn_challenge_2021/schema.json\") as schema_file:\n",
    "    schema = json.load(schema_file)\n",
    "\n",
    "building_properties = schema['buildings'][f'Building_{building_nr}']"
   ]
  },
  {
   "cell_type": "markdown",
   "metadata": {},
   "source": [
    "## Energy balance without the use of a battery"
   ]
  },
  {
   "cell_type": "code",
   "execution_count": null,
   "metadata": {},
   "outputs": [],
   "source": [
    "#buiding 4 does not seem to have any heating installed.\n",
    "df[\"dhw_heating_kWh\"].unique()"
   ]
  },
  {
   "cell_type": "code",
   "execution_count": null,
   "metadata": {},
   "outputs": [],
   "source": [
    "timespan = span(\"2009-02-08\", \"2009-02-12\")\n",
    "adding = ['equipment_electric_power_kWh', 'dhw_heating_kWh', 'cooling_load_kWh']\n",
    "substracting = ['solar_generation_kW']\n",
    "plot_balance(timespan, adding, substracting, df)"
   ]
  },
  {
   "cell_type": "code",
   "execution_count": null,
   "metadata": {},
   "outputs": [],
   "source": [
    "df.loc[timespan, substracting].plot.area()\n",
    "df.loc[timespan, adding].plot.area()"
   ]
  },
  {
   "cell_type": "markdown",
   "metadata": {},
   "source": [
    "- the equipment power usage does not look like 'natural' consumption, as this is \"strip mall retail (Building_4),\""
   ]
  },
  {
   "cell_type": "markdown",
   "metadata": {},
   "source": [
    "## Using a battery to manage load"
   ]
  },
  {
   "cell_type": "code",
   "execution_count": null,
   "metadata": {},
   "outputs": [],
   "source": [
    "#trying out the battery model from the CityLearn simulation\n",
    "\n",
    "battery_params = building_properties[\"electrical_storage\"]['attributes']\n",
    "battery_params[\"capacity_loss_coef\"] =  battery_params.pop(\"capacity_loss_coefficient\")\n",
    "battery_params[\"loss_coef\"] =  battery_params.pop(\"loss_coefficient\")\n",
    "\n",
    "battery = Battery(**battery_params)\n",
    "\n",
    "print(\"Charging and discharging the battery\")\n",
    "print(battery._soc, \"initial\")\n",
    "battery.charge(9.3)\n",
    "print(battery._soc, \"after charging 9.3\")\n",
    "battery.charge(0.3)\n",
    "print(battery._soc, \"after charging 0.3\")\n",
    "battery.charge(-0.3)\n",
    "print(battery._soc, \"after discharging 0.3\")"
   ]
  }
 ],
 "metadata": {
  "kernelspec": {
   "display_name": "Python 3.9.8 ('.venv': venv)",
   "language": "python",
   "name": "python3"
  },
  "language_info": {
   "codemirror_mode": {
    "name": "ipython",
    "version": 3
   },
   "file_extension": ".py",
   "mimetype": "text/x-python",
   "name": "python",
   "nbconvert_exporter": "python",
   "pygments_lexer": "ipython3",
   "version": "3.9.8"
  },
  "orig_nbformat": 4,
  "vscode": {
   "interpreter": {
    "hash": "adec6c5f7a7e6b374924807d676c9e580fd19dbf1c8cad640c4c5a1bb48bcada"
   }
  }
 },
 "nbformat": 4,
 "nbformat_minor": 2
}
