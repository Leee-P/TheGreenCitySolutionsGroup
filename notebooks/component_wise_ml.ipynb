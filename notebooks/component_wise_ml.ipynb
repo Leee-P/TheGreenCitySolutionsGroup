{
 "cells": [
  {
   "cell_type": "code",
   "execution_count": null,
   "metadata": {},
   "outputs": [],
   "source": [
    "import pandas as pd\n",
    "import numpy as np\n",
    "import matplotlib.pyplot as plt\n",
    "import seaborn as sns\n",
    "\n",
    "from sklearn.preprocessing import StandardScaler\n",
    "from sklearn.metrics import r2_score\n",
    "from sklearn.metrics import mean_absolute_error, mean_squared_error\n",
    "from sklearn.model_selection import TimeSeriesSplit\n",
    "from sklearn.model_selection import GridSearchCV, RandomizedSearchCV\n",
    "\n",
    "from sklearn.linear_model import Ridge, Lasso\n",
    "from sklearn.ensemble import RandomForestRegressor\n",
    "import xgboost as xgb\n",
    "\n",
    "from green_city.utils import index2datetime\n",
    "from green_city.regression import plot_ts, error_metrics, train_test_time_split\n",
    "from green_city.regression import seasons, time_of_day, forecast_dates\n",
    "\n",
    "#import warnings\n",
    "#warnings.filterwarnings('ignore')\n",
    "\n",
    "RSEED = 42"
   ]
  },
  {
   "cell_type": "code",
   "execution_count": null,
   "metadata": {},
   "outputs": [],
   "source": [
    "#def add_up(cols):\n",
    "#    def add_up_cols(s):\n",
    "#        net = sum([s[col] for col in cols])\n",
    "#        return net\n",
    "#    return add_up_cols\n",
    "\n",
    "def load_external_features():\n",
    "    ex_cols = [\n",
    "        \"outdoor_temp\",\n",
    "        \"outdoor_hum\",\n",
    "        \"diffuse_solar_W_m2\",\n",
    "        \"direct_solar_W_m2\",\n",
    "    ]\n",
    "    pred_ex_cols = [f\"pred_24h_{ec}\" for ec in ex_cols]\n",
    "    \n",
    "    df = (\n",
    "        pd.read_csv(\"../data/preprocessed/Building_1.csv\")\n",
    "        .astype({'datetime': 'datetime64'})\n",
    "        .set_index('datetime')\n",
    "    )\n",
    "    df_external = df[ex_cols]\n",
    "    df_external_p24h = df[pred_ex_cols]\n",
    "\n",
    "    #replacing the values in the last year with the respective predictions:\n",
    "    for col in df_external.columns:\n",
    "        df_external.loc[df_external.index >= pd.Timestamp('2011-01-01'), col] = df_external_p24h[f\"pred_24h_{col}\"]\n",
    "\n",
    "    df_external[\"holiday\"] = df[\"holiday\"]\n",
    "    #add date information\n",
    "    df_external = df_external.assign(\n",
    "        hour =    df_external.index.hour,\n",
    "        month =   df_external.index.month,\n",
    "        weekday = df_external.index.weekday,\n",
    "    )\n",
    "    \n",
    "    df_external['year_sin365'] = np.sin(2 * np.pi * df.index.dayofyear / 365)\n",
    "    df_external['year_cos365'] = np.cos(2 * np.pi * df.index.dayofyear / 365)\n",
    "    df_external['year_sin365_2'] = np.sin(4 * np.pi * df.index.dayofyear / 365)\n",
    "    df_external['year_cos365_2'] = np.cos(4 * np.pi * df.index.dayofyear / 365)\n",
    "    df_external['week_sin365'] = np.sin(2 * np.pi * df.index.dayofweek/7)\n",
    "    df_external['week_cos365'] = np.cos(2 * np.pi * df.index.dayofweek/7)\n",
    "    df_external['week_sin365_2'] = np.sin(4 * np.pi * df.index.dayofweek/7)\n",
    "    df_external['week_cos365_2'] = np.cos(4 * np.pi * df.index.dayofweek/7)\n",
    "    df_external['hour_sin365'] = np.sin(2 * np.pi * df.index.hour/24)\n",
    "    df_external['hour_cos365'] = np.cos(2 * np.pi * df.index.hour/24) \n",
    "    df_external['hour_sin365_2'] = np.sin(4 * np.pi * df.index.hour/24)\n",
    "    df_external['hour_cos365_2'] = np.cos(4 * np.pi * df.index.hour/24)\n",
    "    \n",
    "    #.apply(lambda x: [x.name.hour, x.name.month, x.name.weekday()], axis=1, result_type='expand')\n",
    "    #.rename(columns={0: 'hour', 1: 'month', 2: 'weekday'})\n",
    "    #)\n",
    "    #df_external\n",
    "    \n",
    "    return df_external\n",
    "\n",
    "def load_features(i, energy_usage_cols):\n",
    "    df = (\n",
    "        pd.read_csv(f\"../data/preprocessed/Building_{i+1}.csv\")\n",
    "        .astype({'datetime': 'datetime64'})\n",
    "        .set_index('datetime')\n",
    "        .assign(neg_solar_generation_kW = lambda x: -x.solar_generation_kW,\n",
    "                #my_net = add_up(energy_usage_cols),\n",
    "        )[[*energy_usage_cols]]\n",
    "    )\n",
    "    return df\n",
    "\n",
    "#for the last year we have to replace actual temp and hum with their 24h preds\n",
    "\n",
    "energy_usage_cols = [\n",
    "    'equipment_electric_power_kW',\n",
    "    'dhw_heating_kW',\n",
    "    'neg_solar_generation_kW',\n",
    "    'electric_load_hp_kW',\n",
    "]\n",
    "\n",
    "#df[\"diff\"] = df[\"my_net\"] - df[\"net_load_kW\"] #seems to be correct up to rounding\n",
    "\n",
    "\n",
    "# Load data\n",
    "dfs = [load_features(i, energy_usage_cols) for i in range(9)]\n",
    "\n",
    "all_features = pd.DataFrame({(i, col): dfs[i][col] for i in range(9) for col in energy_usage_cols})\n",
    "external_features = load_external_features()\n",
    "\n",
    "#36 features to individually predict"
   ]
  },
  {
   "cell_type": "markdown",
   "metadata": {},
   "source": [
    "# Create a prediction based on all buildings loads separately\n",
    "- at the end the error can be split up to the individual buildings\n",
    "- and to the individual components (is heating more miss-predicted then solar)?\n",
    "- because\n",
    "  + error_tot = error_1_tot + ... + error_9_tot and\n",
    "  + error_1_tot = error_1_eqp + error_1_solar + error_1_heating + error_1_cooling\n",
    "- The components for each building are:\n",
    "  + `equipment_electric_power_kW + dhw_heating_kW + cooling_load_kW - solar_generation_kW + electric_load_hp_kW`\n",
    "- second step: use weather etc. for predictions"
   ]
  },
  {
   "cell_type": "code",
   "execution_count": null,
   "metadata": {},
   "outputs": [],
   "source": [
    "def predict_target_col(df):\n",
    "    dummy_features = ['hour', 'month', 'holiday', 'weekday']\n",
    "    target = 'target'\n",
    "    \n",
    "    #add shifted columns for the previous day:\n",
    "    #for i in [*list(range(24, 49)), 24*7]:\n",
    "    for i in [24, 24*7]:\n",
    "        df[f\"target_shift_{i}\"]= df.target.shift(i, fill_value=0)\n",
    "    #df['net_load_kW_lag168'] = df['net_load_kW'].shift(24*7)\n",
    "    \n",
    "    features = [c for c in df.columns if not c == target]\n",
    "    \n",
    "    # Do train-test split\n",
    "    X_train, y_train, X_test, y_test, df_train, df_test = train_test_time_split(\n",
    "                                                            df, features, target, \n",
    "                                                            dummy_features)\n",
    "    \n",
    "    # Create the model\n",
    "    rf = RandomForestRegressor(random_state=RSEED)\n",
    "    \n",
    "    # Fit on training data\n",
    "    rf.fit(X_train, y_train)\n",
    "    \n",
    "    # Predict train and test data\n",
    "    y_pred_train = rf.predict(X_train)\n",
    "    y_pred_test = rf.predict(X_test)\n",
    "    df_test['y_pred_test'] = y_pred_test\n",
    "    \n",
    "    # Calculate and print error metrics\n",
    "    _ = error_metrics(y_train, y_pred_train, y_test, y_pred_test, title=\"Random Forest Regressor\")\n",
    "    return y_pred_test                                           "
   ]
  },
  {
   "cell_type": "markdown",
   "metadata": {},
   "source": [
    "# summing up all single components"
   ]
  },
  {
   "cell_type": "code",
   "execution_count": null,
   "metadata": {},
   "outputs": [],
   "source": [
    "predictions_df_dict = {}\n",
    "for (b, f) in all_features.columns:\n",
    "    if not b == 5:\n",
    "        continue\n",
    "    building_nr = b\n",
    "    feature_name = f\n",
    "    target = all_features[(building_nr, feature_name)].rename(\"target\")\n",
    "\n",
    "    input_df = pd.concat([target, external_features], axis=1)\n",
    "\n",
    "    #now we can start predicting\n",
    "    predictions_df_dict[(b, f)] = predict_target_col(input_df)"
   ]
  },
  {
   "cell_type": "code",
   "execution_count": null,
   "metadata": {},
   "outputs": [],
   "source": [
    "new_preds = pd.DataFrame({\n",
    "    'pred': pd.DataFrame(predictions_df_dict).sum(axis=1),\n",
    "    'datetime': pd.date_range('2011-01-01', '2011-12-31 23:00', freq='H'),\n",
    "}).set_index('datetime')\n",
    "\n",
    "total_net = (\n",
    "    pd.read_csv(\"../data/preprocessed/Agg_buildings.csv\")\n",
    "    .astype({'datetime': 'datetime64'})\n",
    "    .set_index('datetime')\n",
    "    [\"net_load_kW\"]\n",
    ")\n",
    "\n",
    "new_preds[\"actual\"] = total_net"
   ]
  },
  {
   "cell_type": "code",
   "execution_count": null,
   "metadata": {},
   "outputs": [],
   "source": [
    "new_preds[[\"actual\", \"pred\"]].plot()\n",
    "mean_absolute_error(new_preds[\"pred\"], new_preds[\"actual\"])"
   ]
  },
  {
   "cell_type": "markdown",
   "metadata": {},
   "source": [
    "# only total net"
   ]
  },
  {
   "cell_type": "code",
   "execution_count": null,
   "metadata": {},
   "outputs": [],
   "source": [
    "#directly predict net usage:\n",
    "input_df = pd.concat([total_net, external_features], axis=1).rename(columns={'net_load_kW': 'target'})\n",
    "\n",
    "#now we can start predicting\n",
    "net_prediction = predict_target_col(input_df)\n",
    "net_pred_df = pd.DataFrame({\n",
    "    'pred': net_prediction,\n",
    "    'datetime': pd.date_range('2011-01-01', '2011-12-31 23:00', freq='H'),\n",
    "}).set_index('datetime')\n",
    "\n",
    "net_pred_df[\"actual\"] = total_net\n",
    "\n",
    "net_pred_df[[\"actual\", \"pred\"]].plot()\n",
    "mean_absolute_error(net_pred_df[\"pred\"], net_pred_df[\"actual\"])"
   ]
  },
  {
   "cell_type": "markdown",
   "metadata": {},
   "source": [
    "# using component predictions as additional inputs\n",
    "- for this I have to predict in the train years as well, where the error may be different."
   ]
  },
  {
   "cell_type": "code",
   "execution_count": null,
   "metadata": {},
   "outputs": [],
   "source": []
  }
 ],
 "metadata": {
  "kernelspec": {
   "display_name": "Python 3.9.8 ('.venv': venv)",
   "language": "python",
   "name": "python3"
  },
  "language_info": {
   "codemirror_mode": {
    "name": "ipython",
    "version": 3
   },
   "file_extension": ".py",
   "mimetype": "text/x-python",
   "name": "python",
   "nbconvert_exporter": "python",
   "pygments_lexer": "ipython3",
   "version": "3.9.8"
  },
  "orig_nbformat": 4,
  "vscode": {
   "interpreter": {
    "hash": "adec6c5f7a7e6b374924807d676c9e580fd19dbf1c8cad640c4c5a1bb48bcada"
   }
  }
 },
 "nbformat": 4,
 "nbformat_minor": 2
}
