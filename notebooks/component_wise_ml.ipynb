{
 "cells": [
  {
   "cell_type": "code",
   "execution_count": 1,
   "metadata": {},
   "outputs": [],
   "source": [
    "import pandas as pd\n",
    "import numpy as np\n",
    "import matplotlib.pyplot as plt\n",
    "import seaborn as sns\n",
    "\n",
    "from sklearn.preprocessing import StandardScaler\n",
    "from sklearn.metrics import r2_score\n",
    "from sklearn.metrics import mean_absolute_error, mean_squared_error\n",
    "from sklearn.model_selection import TimeSeriesSplit\n",
    "from sklearn.model_selection import GridSearchCV, RandomizedSearchCV\n",
    "\n",
    "from sklearn.linear_model import Ridge, Lasso\n",
    "from sklearn.ensemble import RandomForestRegressor\n",
    "import xgboost as xgb\n",
    "\n",
    "from green_city.utils import index2datetime\n",
    "from green_city.regression import plot_ts, error_metrics, train_test_time_split\n",
    "from green_city.regression import seasons, time_of_day, forecast_dates\n",
    "\n",
    "#import warnings\n",
    "#warnings.filterwarnings('ignore')\n",
    "\n",
    "RSEED = 42"
   ]
  },
  {
   "cell_type": "code",
   "execution_count": 2,
   "metadata": {},
   "outputs": [],
   "source": [
    "#def add_up(cols):\n",
    "#    def add_up_cols(s):\n",
    "#        net = sum([s[col] for col in cols])\n",
    "#        return net\n",
    "#    return add_up_cols\n",
    "\n",
    "def load_external_features():\n",
    "    ex_cols = [\n",
    "        \"pred_24h_outdoor_temp\",\n",
    "        \"pred_24h_outdoor_hum\",\n",
    "        \"pred_24h_diffuse_solar_W_m2\",\n",
    "        \"pred_24h_direct_solar_W_m2\",\n",
    "    ]\n",
    "    #pred_ex_cols = [f\"pred_24h_{ec}\" for ec in ex_cols]\n",
    "    \n",
    "    df = (\n",
    "        pd.read_csv(\"../data/preprocessed/Building_1.csv\")\n",
    "        .astype({'datetime': 'datetime64'})\n",
    "        .set_index('datetime')\n",
    "    )\n",
    "    df_external = df[ex_cols].shift(24, fill_value=0)\n",
    "    #df_external_p24h = df[pred_ex_cols]\n",
    "\n",
    "    #replacing the values in the last year with the respective predictions:\n",
    "    ###TODO: currently using actual temp hum usw data\n",
    "    #for col in df_external.columns:\n",
    "    #    df_external.loc[df_external.index >= pd.Timestamp('2011-01-01'), col] = df_external_p24h[f\"pred_24h_{col}\"]\n",
    "\n",
    "    df_external[\"holiday\"] = df[\"holiday\"]\n",
    "    #add date information\n",
    "    df_external = df_external.assign(\n",
    "        hour =    df_external.index.hour,\n",
    "        month =   df_external.index.month,\n",
    "        weekday = df_external.index.weekday,\n",
    "    )\n",
    "    \n",
    "    df_external['year_sin365'] = np.sin(2 * np.pi * df.index.dayofyear / 365)\n",
    "    df_external['year_cos365'] = np.cos(2 * np.pi * df.index.dayofyear / 365)\n",
    "    df_external['year_sin365_2'] = np.sin(4 * np.pi * df.index.dayofyear / 365)\n",
    "    df_external['year_cos365_2'] = np.cos(4 * np.pi * df.index.dayofyear / 365)\n",
    "    df_external['week_sin365'] = np.sin(2 * np.pi * df.index.dayofweek/7)\n",
    "    df_external['week_cos365'] = np.cos(2 * np.pi * df.index.dayofweek/7)\n",
    "    df_external['week_sin365_2'] = np.sin(4 * np.pi * df.index.dayofweek/7)\n",
    "    df_external['week_cos365_2'] = np.cos(4 * np.pi * df.index.dayofweek/7)\n",
    "    df_external['hour_sin365'] = np.sin(2 * np.pi * df.index.hour/24)\n",
    "    df_external['hour_cos365'] = np.cos(2 * np.pi * df.index.hour/24) \n",
    "    df_external['hour_sin365_2'] = np.sin(4 * np.pi * df.index.hour/24)\n",
    "    df_external['hour_cos365_2'] = np.cos(4 * np.pi * df.index.hour/24)\n",
    "    \n",
    "    #.apply(lambda x: [x.name.hour, x.name.month, x.name.weekday()], axis=1, result_type='expand')\n",
    "    #.rename(columns={0: 'hour', 1: 'month', 2: 'weekday'})\n",
    "    #)\n",
    "    #df_external\n",
    "    \n",
    "    return df_external\n",
    "\n",
    "def load_features(i, energy_usage_cols):\n",
    "    df = (\n",
    "        pd.read_csv(f\"../data/preprocessed/Building_{i+1}.csv\")\n",
    "        .astype({'datetime': 'datetime64'})\n",
    "        .set_index('datetime')\n",
    "        .assign(neg_solar_generation_kW = lambda x: -x.solar_generation_kW,\n",
    "                #my_net = add_up(energy_usage_cols),\n",
    "        )[[*energy_usage_cols]]\n",
    "    )\n",
    "    return df\n",
    "\n",
    "#for the last year we have to replace actual temp and hum with their 24h preds\n",
    "\n",
    "energy_usage_cols = [\n",
    "    'equipment_electric_power_kW',\n",
    "    'dhw_heating_kW',\n",
    "    'neg_solar_generation_kW',\n",
    "    'electric_load_hp_kW',\n",
    "]\n",
    "\n",
    "#df[\"diff\"] = df[\"my_net\"] - df[\"net_load_kW\"] #seems to be correct up to rounding\n",
    "\n",
    "\n",
    "# Load data\n",
    "dfs = [load_features(i, energy_usage_cols) for i in range(9)]\n",
    "\n",
    "all_features = pd.DataFrame({(i, col): dfs[i][col] for i in range(9) for col in energy_usage_cols})\n",
    "external_features = load_external_features()\n",
    "\n",
    "#36 features to individually predict"
   ]
  },
  {
   "cell_type": "markdown",
   "metadata": {},
   "source": [
    "# Create a prediction based on all buildings loads separately\n",
    "- at the end the error can be split up to the individual buildings\n",
    "- and to the individual components (is heating more miss-predicted then solar)?\n",
    "- because\n",
    "  + error_tot = error_1_tot + ... + error_9_tot and\n",
    "  + error_1_tot = error_1_eqp + error_1_solar + error_1_heating + error_1_cooling\n",
    "- The components for each building are:\n",
    "  + `equipment_electric_power_kW + dhw_heating_kW + cooling_load_kW - solar_generation_kW + electric_load_hp_kW`\n",
    "- second step: use weather etc. for predictions"
   ]
  },
  {
   "cell_type": "code",
   "execution_count": 3,
   "metadata": {},
   "outputs": [],
   "source": [
    "def predict_target_col(df):\n",
    "    dummy_features = ['hour', 'month', 'holiday', 'weekday']\n",
    "    target = 'target'\n",
    "    \n",
    "    #add shifted columns for the previous day:\n",
    "    #for i in [*list(range(24, 49)), 24*7]:\n",
    "    for i in [24, 24*7]:\n",
    "        df[f\"target_shift_{i}\"]= df.target.shift(i, fill_value=0)\n",
    "    #df['net_load_kW_lag168'] = df['net_load_kW'].shift(24*7)\n",
    "    \n",
    "    features = [c for c in df.columns if not c == target]\n",
    "\n",
    "    print(features)\n",
    "    \n",
    "    # Do train-test split\n",
    "    X_train, y_train, X_test, y_test, df_train, df_test = train_test_time_split(\n",
    "                                                            df, features, target, \n",
    "                                                            dummy_features)\n",
    "    \n",
    "    # Create the model\n",
    "    rf = RandomForestRegressor(random_state=RSEED)\n",
    "    \n",
    "    # Fit on training data\n",
    "    rf.fit(X_train, y_train)\n",
    "    \n",
    "    # Predict train and test data\n",
    "    y_pred_train = rf.predict(X_train)\n",
    "    y_pred_test = rf.predict(X_test)\n",
    "    df_test['y_pred_test'] = y_pred_test\n",
    "    \n",
    "    # Calculate and print error metrics\n",
    "    _ = error_metrics(y_train, y_pred_train, y_test, y_pred_test, title=\"Random Forest Regressor\")\n",
    "    return y_pred_test                                           "
   ]
  },
  {
   "cell_type": "markdown",
   "metadata": {},
   "source": [
    "# summing up all single components"
   ]
  },
  {
   "cell_type": "code",
   "execution_count": 4,
   "metadata": {},
   "outputs": [
    {
     "name": "stdout",
     "output_type": "stream",
     "text": [
      "['pred_24h_outdoor_temp', 'pred_24h_outdoor_hum', 'pred_24h_diffuse_solar_W_m2', 'pred_24h_direct_solar_W_m2', 'holiday', 'hour', 'month', 'weekday', 'year_sin365', 'year_cos365', 'year_sin365_2', 'year_cos365_2', 'week_sin365', 'week_cos365', 'week_sin365_2', 'week_cos365_2', 'hour_sin365', 'hour_cos365', 'hour_sin365_2', 'hour_cos365_2', 'target_shift_24', 'target_shift_168']\n"
     ]
    },
    {
     "name": "stderr",
     "output_type": "stream",
     "text": [
      "/Users/rafaelarndt/capstone/TheGreenCitySolutionsGroup/notebooks/green_city/regression.py:59: SettingWithCopyWarning: \n",
      "A value is trying to be set on a copy of a slice from a DataFrame.\n",
      "Try using .loc[row_indexer,col_indexer] = value instead\n",
      "\n",
      "See the caveats in the documentation: https://pandas.pydata.org/pandas-docs/stable/user_guide/indexing.html#returning-a-view-versus-a-copy\n",
      "  X[col] = X[col].astype('category')\n",
      "/var/folders/_t/s3471w991f75_hmpcmrkm6qm0000gn/T/ipykernel_82214/2737797881.py:29: SettingWithCopyWarning: \n",
      "A value is trying to be set on a copy of a slice from a DataFrame.\n",
      "Try using .loc[row_indexer,col_indexer] = value instead\n",
      "\n",
      "See the caveats in the documentation: https://pandas.pydata.org/pandas-docs/stable/user_guide/indexing.html#returning-a-view-versus-a-copy\n",
      "  df_test['y_pred_test'] = y_pred_test\n",
      "/Users/rafaelarndt/capstone/TheGreenCitySolutionsGroup/notebooks/green_city/regression.py:59: SettingWithCopyWarning: \n",
      "A value is trying to be set on a copy of a slice from a DataFrame.\n",
      "Try using .loc[row_indexer,col_indexer] = value instead\n",
      "\n",
      "See the caveats in the documentation: https://pandas.pydata.org/pandas-docs/stable/user_guide/indexing.html#returning-a-view-versus-a-copy\n",
      "  X[col] = X[col].astype('category')\n"
     ]
    },
    {
     "name": "stdout",
     "output_type": "stream",
     "text": [
      "----------------------------------------\n",
      "Random Forest Regressor\n",
      "----------------------------------------\n",
      "R2 (train): 0.995\n",
      "R2 (test) : 0.805\n",
      "MAE (test): 3.328\n",
      "MSE (test): 49.98\n",
      "RMSE(test): 7.07\n",
      "['pred_24h_outdoor_temp', 'pred_24h_outdoor_hum', 'pred_24h_diffuse_solar_W_m2', 'pred_24h_direct_solar_W_m2', 'holiday', 'hour', 'month', 'weekday', 'year_sin365', 'year_cos365', 'year_sin365_2', 'year_cos365_2', 'week_sin365', 'week_cos365', 'week_sin365_2', 'week_cos365_2', 'hour_sin365', 'hour_cos365', 'hour_sin365_2', 'hour_cos365_2', 'target_shift_24', 'target_shift_168']\n"
     ]
    },
    {
     "name": "stderr",
     "output_type": "stream",
     "text": [
      "/var/folders/_t/s3471w991f75_hmpcmrkm6qm0000gn/T/ipykernel_82214/2737797881.py:29: SettingWithCopyWarning: \n",
      "A value is trying to be set on a copy of a slice from a DataFrame.\n",
      "Try using .loc[row_indexer,col_indexer] = value instead\n",
      "\n",
      "See the caveats in the documentation: https://pandas.pydata.org/pandas-docs/stable/user_guide/indexing.html#returning-a-view-versus-a-copy\n",
      "  df_test['y_pred_test'] = y_pred_test\n",
      "/Users/rafaelarndt/capstone/TheGreenCitySolutionsGroup/notebooks/green_city/regression.py:59: SettingWithCopyWarning: \n",
      "A value is trying to be set on a copy of a slice from a DataFrame.\n",
      "Try using .loc[row_indexer,col_indexer] = value instead\n",
      "\n",
      "See the caveats in the documentation: https://pandas.pydata.org/pandas-docs/stable/user_guide/indexing.html#returning-a-view-versus-a-copy\n",
      "  X[col] = X[col].astype('category')\n"
     ]
    },
    {
     "name": "stdout",
     "output_type": "stream",
     "text": [
      "----------------------------------------\n",
      "Random Forest Regressor\n",
      "----------------------------------------\n",
      "R2 (train): 1.0\n",
      "R2 (test) : 0.921\n",
      "MAE (test): 0.126\n",
      "MSE (test): 0.168\n",
      "RMSE(test): 0.41\n",
      "['pred_24h_outdoor_temp', 'pred_24h_outdoor_hum', 'pred_24h_diffuse_solar_W_m2', 'pred_24h_direct_solar_W_m2', 'holiday', 'hour', 'month', 'weekday', 'year_sin365', 'year_cos365', 'year_sin365_2', 'year_cos365_2', 'week_sin365', 'week_cos365', 'week_sin365_2', 'week_cos365_2', 'hour_sin365', 'hour_cos365', 'hour_sin365_2', 'hour_cos365_2', 'target_shift_24', 'target_shift_168']\n"
     ]
    },
    {
     "name": "stderr",
     "output_type": "stream",
     "text": [
      "/var/folders/_t/s3471w991f75_hmpcmrkm6qm0000gn/T/ipykernel_82214/2737797881.py:29: SettingWithCopyWarning: \n",
      "A value is trying to be set on a copy of a slice from a DataFrame.\n",
      "Try using .loc[row_indexer,col_indexer] = value instead\n",
      "\n",
      "See the caveats in the documentation: https://pandas.pydata.org/pandas-docs/stable/user_guide/indexing.html#returning-a-view-versus-a-copy\n",
      "  df_test['y_pred_test'] = y_pred_test\n",
      "/Users/rafaelarndt/capstone/TheGreenCitySolutionsGroup/notebooks/green_city/regression.py:59: SettingWithCopyWarning: \n",
      "A value is trying to be set on a copy of a slice from a DataFrame.\n",
      "Try using .loc[row_indexer,col_indexer] = value instead\n",
      "\n",
      "See the caveats in the documentation: https://pandas.pydata.org/pandas-docs/stable/user_guide/indexing.html#returning-a-view-versus-a-copy\n",
      "  X[col] = X[col].astype('category')\n"
     ]
    },
    {
     "name": "stdout",
     "output_type": "stream",
     "text": [
      "----------------------------------------\n",
      "Random Forest Regressor\n",
      "----------------------------------------\n",
      "R2 (train): 1.0\n",
      "R2 (test) : 0.996\n",
      "MAE (test): 0.884\n",
      "MSE (test): 3.354\n",
      "RMSE(test): 1.831\n",
      "['pred_24h_outdoor_temp', 'pred_24h_outdoor_hum', 'pred_24h_diffuse_solar_W_m2', 'pred_24h_direct_solar_W_m2', 'holiday', 'hour', 'month', 'weekday', 'year_sin365', 'year_cos365', 'year_sin365_2', 'year_cos365_2', 'week_sin365', 'week_cos365', 'week_sin365_2', 'week_cos365_2', 'hour_sin365', 'hour_cos365', 'hour_sin365_2', 'hour_cos365_2', 'target_shift_24', 'target_shift_168']\n"
     ]
    },
    {
     "name": "stderr",
     "output_type": "stream",
     "text": [
      "/var/folders/_t/s3471w991f75_hmpcmrkm6qm0000gn/T/ipykernel_82214/2737797881.py:29: SettingWithCopyWarning: \n",
      "A value is trying to be set on a copy of a slice from a DataFrame.\n",
      "Try using .loc[row_indexer,col_indexer] = value instead\n",
      "\n",
      "See the caveats in the documentation: https://pandas.pydata.org/pandas-docs/stable/user_guide/indexing.html#returning-a-view-versus-a-copy\n",
      "  df_test['y_pred_test'] = y_pred_test\n",
      "/Users/rafaelarndt/capstone/TheGreenCitySolutionsGroup/notebooks/green_city/regression.py:59: SettingWithCopyWarning: \n",
      "A value is trying to be set on a copy of a slice from a DataFrame.\n",
      "Try using .loc[row_indexer,col_indexer] = value instead\n",
      "\n",
      "See the caveats in the documentation: https://pandas.pydata.org/pandas-docs/stable/user_guide/indexing.html#returning-a-view-versus-a-copy\n",
      "  X[col] = X[col].astype('category')\n"
     ]
    },
    {
     "name": "stdout",
     "output_type": "stream",
     "text": [
      "----------------------------------------\n",
      "Random Forest Regressor\n",
      "----------------------------------------\n",
      "R2 (train): 0.998\n",
      "R2 (test) : 0.841\n",
      "MAE (test): 9.015\n",
      "MSE (test): 344.154\n",
      "RMSE(test): 18.551\n",
      "['pred_24h_outdoor_temp', 'pred_24h_outdoor_hum', 'pred_24h_diffuse_solar_W_m2', 'pred_24h_direct_solar_W_m2', 'holiday', 'hour', 'month', 'weekday', 'year_sin365', 'year_cos365', 'year_sin365_2', 'year_cos365_2', 'week_sin365', 'week_cos365', 'week_sin365_2', 'week_cos365_2', 'hour_sin365', 'hour_cos365', 'hour_sin365_2', 'hour_cos365_2', 'target_shift_24', 'target_shift_168']\n"
     ]
    },
    {
     "name": "stderr",
     "output_type": "stream",
     "text": [
      "/var/folders/_t/s3471w991f75_hmpcmrkm6qm0000gn/T/ipykernel_82214/2737797881.py:29: SettingWithCopyWarning: \n",
      "A value is trying to be set on a copy of a slice from a DataFrame.\n",
      "Try using .loc[row_indexer,col_indexer] = value instead\n",
      "\n",
      "See the caveats in the documentation: https://pandas.pydata.org/pandas-docs/stable/user_guide/indexing.html#returning-a-view-versus-a-copy\n",
      "  df_test['y_pred_test'] = y_pred_test\n",
      "/Users/rafaelarndt/capstone/TheGreenCitySolutionsGroup/notebooks/green_city/regression.py:59: SettingWithCopyWarning: \n",
      "A value is trying to be set on a copy of a slice from a DataFrame.\n",
      "Try using .loc[row_indexer,col_indexer] = value instead\n",
      "\n",
      "See the caveats in the documentation: https://pandas.pydata.org/pandas-docs/stable/user_guide/indexing.html#returning-a-view-versus-a-copy\n",
      "  X[col] = X[col].astype('category')\n"
     ]
    },
    {
     "name": "stdout",
     "output_type": "stream",
     "text": [
      "----------------------------------------\n",
      "Random Forest Regressor\n",
      "----------------------------------------\n",
      "R2 (train): 1.0\n",
      "R2 (test) : 1.0\n",
      "MAE (test): 0.007\n",
      "MSE (test): 0.005\n",
      "RMSE(test): 0.067\n",
      "['pred_24h_outdoor_temp', 'pred_24h_outdoor_hum', 'pred_24h_diffuse_solar_W_m2', 'pred_24h_direct_solar_W_m2', 'holiday', 'hour', 'month', 'weekday', 'year_sin365', 'year_cos365', 'year_sin365_2', 'year_cos365_2', 'week_sin365', 'week_cos365', 'week_sin365_2', 'week_cos365_2', 'hour_sin365', 'hour_cos365', 'hour_sin365_2', 'hour_cos365_2', 'target_shift_24', 'target_shift_168']\n"
     ]
    },
    {
     "name": "stderr",
     "output_type": "stream",
     "text": [
      "/var/folders/_t/s3471w991f75_hmpcmrkm6qm0000gn/T/ipykernel_82214/2737797881.py:29: SettingWithCopyWarning: \n",
      "A value is trying to be set on a copy of a slice from a DataFrame.\n",
      "Try using .loc[row_indexer,col_indexer] = value instead\n",
      "\n",
      "See the caveats in the documentation: https://pandas.pydata.org/pandas-docs/stable/user_guide/indexing.html#returning-a-view-versus-a-copy\n",
      "  df_test['y_pred_test'] = y_pred_test\n",
      "/Users/rafaelarndt/capstone/TheGreenCitySolutionsGroup/notebooks/green_city/regression.py:59: SettingWithCopyWarning: \n",
      "A value is trying to be set on a copy of a slice from a DataFrame.\n",
      "Try using .loc[row_indexer,col_indexer] = value instead\n",
      "\n",
      "See the caveats in the documentation: https://pandas.pydata.org/pandas-docs/stable/user_guide/indexing.html#returning-a-view-versus-a-copy\n",
      "  X[col] = X[col].astype('category')\n",
      "/var/folders/_t/s3471w991f75_hmpcmrkm6qm0000gn/T/ipykernel_82214/2737797881.py:29: SettingWithCopyWarning: \n",
      "A value is trying to be set on a copy of a slice from a DataFrame.\n",
      "Try using .loc[row_indexer,col_indexer] = value instead\n",
      "\n",
      "See the caveats in the documentation: https://pandas.pydata.org/pandas-docs/stable/user_guide/indexing.html#returning-a-view-versus-a-copy\n",
      "  df_test['y_pred_test'] = y_pred_test\n",
      "/Users/rafaelarndt/capstone/TheGreenCitySolutionsGroup/notebooks/green_city/regression.py:59: SettingWithCopyWarning: \n",
      "A value is trying to be set on a copy of a slice from a DataFrame.\n",
      "Try using .loc[row_indexer,col_indexer] = value instead\n",
      "\n",
      "See the caveats in the documentation: https://pandas.pydata.org/pandas-docs/stable/user_guide/indexing.html#returning-a-view-versus-a-copy\n",
      "  X[col] = X[col].astype('category')\n"
     ]
    },
    {
     "name": "stdout",
     "output_type": "stream",
     "text": [
      "----------------------------------------\n",
      "Random Forest Regressor\n",
      "----------------------------------------\n",
      "R2 (train): 0.999\n",
      "R2 (test) : 0.983\n",
      "MAE (test): 0.106\n",
      "MSE (test): 0.279\n",
      "RMSE(test): 0.528\n",
      "['pred_24h_outdoor_temp', 'pred_24h_outdoor_hum', 'pred_24h_diffuse_solar_W_m2', 'pred_24h_direct_solar_W_m2', 'holiday', 'hour', 'month', 'weekday', 'year_sin365', 'year_cos365', 'year_sin365_2', 'year_cos365_2', 'week_sin365', 'week_cos365', 'week_sin365_2', 'week_cos365_2', 'hour_sin365', 'hour_cos365', 'hour_sin365_2', 'hour_cos365_2', 'target_shift_24', 'target_shift_168']\n",
      "----------------------------------------\n",
      "Random Forest Regressor\n",
      "----------------------------------------\n",
      "R2 (train): 1.0\n",
      "R2 (test) : 1.0\n",
      "MAE (test): 0.0\n",
      "MSE (test): 0.0\n",
      "RMSE(test): 0.0\n",
      "['pred_24h_outdoor_temp', 'pred_24h_outdoor_hum', 'pred_24h_diffuse_solar_W_m2', 'pred_24h_direct_solar_W_m2', 'holiday', 'hour', 'month', 'weekday', 'year_sin365', 'year_cos365', 'year_sin365_2', 'year_cos365_2', 'week_sin365', 'week_cos365', 'week_sin365_2', 'week_cos365_2', 'hour_sin365', 'hour_cos365', 'hour_sin365_2', 'hour_cos365_2', 'target_shift_24', 'target_shift_168']\n"
     ]
    },
    {
     "name": "stderr",
     "output_type": "stream",
     "text": [
      "/var/folders/_t/s3471w991f75_hmpcmrkm6qm0000gn/T/ipykernel_82214/2737797881.py:29: SettingWithCopyWarning: \n",
      "A value is trying to be set on a copy of a slice from a DataFrame.\n",
      "Try using .loc[row_indexer,col_indexer] = value instead\n",
      "\n",
      "See the caveats in the documentation: https://pandas.pydata.org/pandas-docs/stable/user_guide/indexing.html#returning-a-view-versus-a-copy\n",
      "  df_test['y_pred_test'] = y_pred_test\n",
      "/Users/rafaelarndt/capstone/TheGreenCitySolutionsGroup/notebooks/green_city/regression.py:59: SettingWithCopyWarning: \n",
      "A value is trying to be set on a copy of a slice from a DataFrame.\n",
      "Try using .loc[row_indexer,col_indexer] = value instead\n",
      "\n",
      "See the caveats in the documentation: https://pandas.pydata.org/pandas-docs/stable/user_guide/indexing.html#returning-a-view-versus-a-copy\n",
      "  X[col] = X[col].astype('category')\n"
     ]
    },
    {
     "name": "stdout",
     "output_type": "stream",
     "text": [
      "----------------------------------------\n",
      "Random Forest Regressor\n",
      "----------------------------------------\n",
      "R2 (train): 0.998\n",
      "R2 (test) : 0.978\n",
      "MAE (test): 0.988\n",
      "MSE (test): 2.639\n",
      "RMSE(test): 1.624\n",
      "['pred_24h_outdoor_temp', 'pred_24h_outdoor_hum', 'pred_24h_diffuse_solar_W_m2', 'pred_24h_direct_solar_W_m2', 'holiday', 'hour', 'month', 'weekday', 'year_sin365', 'year_cos365', 'year_sin365_2', 'year_cos365_2', 'week_sin365', 'week_cos365', 'week_sin365_2', 'week_cos365_2', 'hour_sin365', 'hour_cos365', 'hour_sin365_2', 'hour_cos365_2', 'target_shift_24', 'target_shift_168']\n"
     ]
    },
    {
     "name": "stderr",
     "output_type": "stream",
     "text": [
      "/var/folders/_t/s3471w991f75_hmpcmrkm6qm0000gn/T/ipykernel_82214/2737797881.py:29: SettingWithCopyWarning: \n",
      "A value is trying to be set on a copy of a slice from a DataFrame.\n",
      "Try using .loc[row_indexer,col_indexer] = value instead\n",
      "\n",
      "See the caveats in the documentation: https://pandas.pydata.org/pandas-docs/stable/user_guide/indexing.html#returning-a-view-versus-a-copy\n",
      "  df_test['y_pred_test'] = y_pred_test\n",
      "/Users/rafaelarndt/capstone/TheGreenCitySolutionsGroup/notebooks/green_city/regression.py:59: SettingWithCopyWarning: \n",
      "A value is trying to be set on a copy of a slice from a DataFrame.\n",
      "Try using .loc[row_indexer,col_indexer] = value instead\n",
      "\n",
      "See the caveats in the documentation: https://pandas.pydata.org/pandas-docs/stable/user_guide/indexing.html#returning-a-view-versus-a-copy\n",
      "  X[col] = X[col].astype('category')\n",
      "/var/folders/_t/s3471w991f75_hmpcmrkm6qm0000gn/T/ipykernel_82214/2737797881.py:29: SettingWithCopyWarning: \n",
      "A value is trying to be set on a copy of a slice from a DataFrame.\n",
      "Try using .loc[row_indexer,col_indexer] = value instead\n",
      "\n",
      "See the caveats in the documentation: https://pandas.pydata.org/pandas-docs/stable/user_guide/indexing.html#returning-a-view-versus-a-copy\n",
      "  df_test['y_pred_test'] = y_pred_test\n",
      "/Users/rafaelarndt/capstone/TheGreenCitySolutionsGroup/notebooks/green_city/regression.py:59: SettingWithCopyWarning: \n",
      "A value is trying to be set on a copy of a slice from a DataFrame.\n",
      "Try using .loc[row_indexer,col_indexer] = value instead\n",
      "\n",
      "See the caveats in the documentation: https://pandas.pydata.org/pandas-docs/stable/user_guide/indexing.html#returning-a-view-versus-a-copy\n",
      "  X[col] = X[col].astype('category')\n"
     ]
    },
    {
     "name": "stdout",
     "output_type": "stream",
     "text": [
      "----------------------------------------\n",
      "Random Forest Regressor\n",
      "----------------------------------------\n",
      "R2 (train): 1.0\n",
      "R2 (test) : 0.962\n",
      "MAE (test): 0.297\n",
      "MSE (test): 0.571\n",
      "RMSE(test): 0.756\n",
      "['pred_24h_outdoor_temp', 'pred_24h_outdoor_hum', 'pred_24h_diffuse_solar_W_m2', 'pred_24h_direct_solar_W_m2', 'holiday', 'hour', 'month', 'weekday', 'year_sin365', 'year_cos365', 'year_sin365_2', 'year_cos365_2', 'week_sin365', 'week_cos365', 'week_sin365_2', 'week_cos365_2', 'hour_sin365', 'hour_cos365', 'hour_sin365_2', 'hour_cos365_2', 'target_shift_24', 'target_shift_168']\n",
      "----------------------------------------\n",
      "Random Forest Regressor\n",
      "----------------------------------------\n",
      "R2 (train): 1.0\n",
      "R2 (test) : 1.0\n",
      "MAE (test): 0.0\n",
      "MSE (test): 0.0\n",
      "RMSE(test): 0.0\n",
      "['pred_24h_outdoor_temp', 'pred_24h_outdoor_hum', 'pred_24h_diffuse_solar_W_m2', 'pred_24h_direct_solar_W_m2', 'holiday', 'hour', 'month', 'weekday', 'year_sin365', 'year_cos365', 'year_sin365_2', 'year_cos365_2', 'week_sin365', 'week_cos365', 'week_sin365_2', 'week_cos365_2', 'hour_sin365', 'hour_cos365', 'hour_sin365_2', 'hour_cos365_2', 'target_shift_24', 'target_shift_168']\n"
     ]
    },
    {
     "name": "stderr",
     "output_type": "stream",
     "text": [
      "/var/folders/_t/s3471w991f75_hmpcmrkm6qm0000gn/T/ipykernel_82214/2737797881.py:29: SettingWithCopyWarning: \n",
      "A value is trying to be set on a copy of a slice from a DataFrame.\n",
      "Try using .loc[row_indexer,col_indexer] = value instead\n",
      "\n",
      "See the caveats in the documentation: https://pandas.pydata.org/pandas-docs/stable/user_guide/indexing.html#returning-a-view-versus-a-copy\n",
      "  df_test['y_pred_test'] = y_pred_test\n",
      "/Users/rafaelarndt/capstone/TheGreenCitySolutionsGroup/notebooks/green_city/regression.py:59: SettingWithCopyWarning: \n",
      "A value is trying to be set on a copy of a slice from a DataFrame.\n",
      "Try using .loc[row_indexer,col_indexer] = value instead\n",
      "\n",
      "See the caveats in the documentation: https://pandas.pydata.org/pandas-docs/stable/user_guide/indexing.html#returning-a-view-versus-a-copy\n",
      "  X[col] = X[col].astype('category')\n"
     ]
    },
    {
     "name": "stdout",
     "output_type": "stream",
     "text": [
      "----------------------------------------\n",
      "Random Forest Regressor\n",
      "----------------------------------------\n",
      "R2 (train): 1.0\n",
      "R2 (test) : 1.0\n",
      "MAE (test): 0.0\n",
      "MSE (test): 0.0\n",
      "RMSE(test): 0.0\n",
      "['pred_24h_outdoor_temp', 'pred_24h_outdoor_hum', 'pred_24h_diffuse_solar_W_m2', 'pred_24h_direct_solar_W_m2', 'holiday', 'hour', 'month', 'weekday', 'year_sin365', 'year_cos365', 'year_sin365_2', 'year_cos365_2', 'week_sin365', 'week_cos365', 'week_sin365_2', 'week_cos365_2', 'hour_sin365', 'hour_cos365', 'hour_sin365_2', 'hour_cos365_2', 'target_shift_24', 'target_shift_168']\n"
     ]
    },
    {
     "name": "stderr",
     "output_type": "stream",
     "text": [
      "/var/folders/_t/s3471w991f75_hmpcmrkm6qm0000gn/T/ipykernel_82214/2737797881.py:29: SettingWithCopyWarning: \n",
      "A value is trying to be set on a copy of a slice from a DataFrame.\n",
      "Try using .loc[row_indexer,col_indexer] = value instead\n",
      "\n",
      "See the caveats in the documentation: https://pandas.pydata.org/pandas-docs/stable/user_guide/indexing.html#returning-a-view-versus-a-copy\n",
      "  df_test['y_pred_test'] = y_pred_test\n",
      "/Users/rafaelarndt/capstone/TheGreenCitySolutionsGroup/notebooks/green_city/regression.py:59: SettingWithCopyWarning: \n",
      "A value is trying to be set on a copy of a slice from a DataFrame.\n",
      "Try using .loc[row_indexer,col_indexer] = value instead\n",
      "\n",
      "See the caveats in the documentation: https://pandas.pydata.org/pandas-docs/stable/user_guide/indexing.html#returning-a-view-versus-a-copy\n",
      "  X[col] = X[col].astype('category')\n"
     ]
    },
    {
     "name": "stdout",
     "output_type": "stream",
     "text": [
      "----------------------------------------\n",
      "Random Forest Regressor\n",
      "----------------------------------------\n",
      "R2 (train): 0.998\n",
      "R2 (test) : 0.948\n",
      "MAE (test): 3.55\n",
      "MSE (test): 51.916\n",
      "RMSE(test): 7.205\n",
      "['pred_24h_outdoor_temp', 'pred_24h_outdoor_hum', 'pred_24h_diffuse_solar_W_m2', 'pred_24h_direct_solar_W_m2', 'holiday', 'hour', 'month', 'weekday', 'year_sin365', 'year_cos365', 'year_sin365_2', 'year_cos365_2', 'week_sin365', 'week_cos365', 'week_sin365_2', 'week_cos365_2', 'hour_sin365', 'hour_cos365', 'hour_sin365_2', 'hour_cos365_2', 'target_shift_24', 'target_shift_168']\n"
     ]
    },
    {
     "name": "stderr",
     "output_type": "stream",
     "text": [
      "/var/folders/_t/s3471w991f75_hmpcmrkm6qm0000gn/T/ipykernel_82214/2737797881.py:29: SettingWithCopyWarning: \n",
      "A value is trying to be set on a copy of a slice from a DataFrame.\n",
      "Try using .loc[row_indexer,col_indexer] = value instead\n",
      "\n",
      "See the caveats in the documentation: https://pandas.pydata.org/pandas-docs/stable/user_guide/indexing.html#returning-a-view-versus-a-copy\n",
      "  df_test['y_pred_test'] = y_pred_test\n",
      "/Users/rafaelarndt/capstone/TheGreenCitySolutionsGroup/notebooks/green_city/regression.py:59: SettingWithCopyWarning: \n",
      "A value is trying to be set on a copy of a slice from a DataFrame.\n",
      "Try using .loc[row_indexer,col_indexer] = value instead\n",
      "\n",
      "See the caveats in the documentation: https://pandas.pydata.org/pandas-docs/stable/user_guide/indexing.html#returning-a-view-versus-a-copy\n",
      "  X[col] = X[col].astype('category')\n",
      "/var/folders/_t/s3471w991f75_hmpcmrkm6qm0000gn/T/ipykernel_82214/2737797881.py:29: SettingWithCopyWarning: \n",
      "A value is trying to be set on a copy of a slice from a DataFrame.\n",
      "Try using .loc[row_indexer,col_indexer] = value instead\n",
      "\n",
      "See the caveats in the documentation: https://pandas.pydata.org/pandas-docs/stable/user_guide/indexing.html#returning-a-view-versus-a-copy\n",
      "  df_test['y_pred_test'] = y_pred_test\n",
      "/Users/rafaelarndt/capstone/TheGreenCitySolutionsGroup/notebooks/green_city/regression.py:59: SettingWithCopyWarning: \n",
      "A value is trying to be set on a copy of a slice from a DataFrame.\n",
      "Try using .loc[row_indexer,col_indexer] = value instead\n",
      "\n",
      "See the caveats in the documentation: https://pandas.pydata.org/pandas-docs/stable/user_guide/indexing.html#returning-a-view-versus-a-copy\n",
      "  X[col] = X[col].astype('category')\n"
     ]
    },
    {
     "name": "stdout",
     "output_type": "stream",
     "text": [
      "----------------------------------------\n",
      "Random Forest Regressor\n",
      "----------------------------------------\n",
      "R2 (train): 1.0\n",
      "R2 (test) : 0.965\n",
      "MAE (test): 0.147\n",
      "MSE (test): 0.402\n",
      "RMSE(test): 0.634\n",
      "['pred_24h_outdoor_temp', 'pred_24h_outdoor_hum', 'pred_24h_diffuse_solar_W_m2', 'pred_24h_direct_solar_W_m2', 'holiday', 'hour', 'month', 'weekday', 'year_sin365', 'year_cos365', 'year_sin365_2', 'year_cos365_2', 'week_sin365', 'week_cos365', 'week_sin365_2', 'week_cos365_2', 'hour_sin365', 'hour_cos365', 'hour_sin365_2', 'hour_cos365_2', 'target_shift_24', 'target_shift_168']\n",
      "----------------------------------------\n",
      "Random Forest Regressor\n",
      "----------------------------------------\n",
      "R2 (train): 1.0\n",
      "R2 (test) : 1.0\n",
      "MAE (test): 0.0\n",
      "MSE (test): 0.0\n",
      "RMSE(test): 0.0\n",
      "['pred_24h_outdoor_temp', 'pred_24h_outdoor_hum', 'pred_24h_diffuse_solar_W_m2', 'pred_24h_direct_solar_W_m2', 'holiday', 'hour', 'month', 'weekday', 'year_sin365', 'year_cos365', 'year_sin365_2', 'year_cos365_2', 'week_sin365', 'week_cos365', 'week_sin365_2', 'week_cos365_2', 'hour_sin365', 'hour_cos365', 'hour_sin365_2', 'hour_cos365_2', 'target_shift_24', 'target_shift_168']\n"
     ]
    },
    {
     "name": "stderr",
     "output_type": "stream",
     "text": [
      "/var/folders/_t/s3471w991f75_hmpcmrkm6qm0000gn/T/ipykernel_82214/2737797881.py:29: SettingWithCopyWarning: \n",
      "A value is trying to be set on a copy of a slice from a DataFrame.\n",
      "Try using .loc[row_indexer,col_indexer] = value instead\n",
      "\n",
      "See the caveats in the documentation: https://pandas.pydata.org/pandas-docs/stable/user_guide/indexing.html#returning-a-view-versus-a-copy\n",
      "  df_test['y_pred_test'] = y_pred_test\n",
      "/Users/rafaelarndt/capstone/TheGreenCitySolutionsGroup/notebooks/green_city/regression.py:59: SettingWithCopyWarning: \n",
      "A value is trying to be set on a copy of a slice from a DataFrame.\n",
      "Try using .loc[row_indexer,col_indexer] = value instead\n",
      "\n",
      "See the caveats in the documentation: https://pandas.pydata.org/pandas-docs/stable/user_guide/indexing.html#returning-a-view-versus-a-copy\n",
      "  X[col] = X[col].astype('category')\n"
     ]
    },
    {
     "name": "stdout",
     "output_type": "stream",
     "text": [
      "----------------------------------------\n",
      "Random Forest Regressor\n",
      "----------------------------------------\n",
      "R2 (train): 1.0\n",
      "R2 (test) : 0.996\n",
      "MAE (test): 0.295\n",
      "MSE (test): 0.372\n",
      "RMSE(test): 0.61\n",
      "['pred_24h_outdoor_temp', 'pred_24h_outdoor_hum', 'pred_24h_diffuse_solar_W_m2', 'pred_24h_direct_solar_W_m2', 'holiday', 'hour', 'month', 'weekday', 'year_sin365', 'year_cos365', 'year_sin365_2', 'year_cos365_2', 'week_sin365', 'week_cos365', 'week_sin365_2', 'week_cos365_2', 'hour_sin365', 'hour_cos365', 'hour_sin365_2', 'hour_cos365_2', 'target_shift_24', 'target_shift_168']\n"
     ]
    },
    {
     "name": "stderr",
     "output_type": "stream",
     "text": [
      "/var/folders/_t/s3471w991f75_hmpcmrkm6qm0000gn/T/ipykernel_82214/2737797881.py:29: SettingWithCopyWarning: \n",
      "A value is trying to be set on a copy of a slice from a DataFrame.\n",
      "Try using .loc[row_indexer,col_indexer] = value instead\n",
      "\n",
      "See the caveats in the documentation: https://pandas.pydata.org/pandas-docs/stable/user_guide/indexing.html#returning-a-view-versus-a-copy\n",
      "  df_test['y_pred_test'] = y_pred_test\n",
      "/Users/rafaelarndt/capstone/TheGreenCitySolutionsGroup/notebooks/green_city/regression.py:59: SettingWithCopyWarning: \n",
      "A value is trying to be set on a copy of a slice from a DataFrame.\n",
      "Try using .loc[row_indexer,col_indexer] = value instead\n",
      "\n",
      "See the caveats in the documentation: https://pandas.pydata.org/pandas-docs/stable/user_guide/indexing.html#returning-a-view-versus-a-copy\n",
      "  X[col] = X[col].astype('category')\n"
     ]
    },
    {
     "name": "stdout",
     "output_type": "stream",
     "text": [
      "----------------------------------------\n",
      "Random Forest Regressor\n",
      "----------------------------------------\n",
      "R2 (train): 0.998\n",
      "R2 (test) : 0.962\n",
      "MAE (test): 2.911\n",
      "MSE (test): 42.96\n",
      "RMSE(test): 6.554\n",
      "['pred_24h_outdoor_temp', 'pred_24h_outdoor_hum', 'pred_24h_diffuse_solar_W_m2', 'pred_24h_direct_solar_W_m2', 'holiday', 'hour', 'month', 'weekday', 'year_sin365', 'year_cos365', 'year_sin365_2', 'year_cos365_2', 'week_sin365', 'week_cos365', 'week_sin365_2', 'week_cos365_2', 'hour_sin365', 'hour_cos365', 'hour_sin365_2', 'hour_cos365_2', 'target_shift_24', 'target_shift_168']\n"
     ]
    },
    {
     "name": "stderr",
     "output_type": "stream",
     "text": [
      "/var/folders/_t/s3471w991f75_hmpcmrkm6qm0000gn/T/ipykernel_82214/2737797881.py:29: SettingWithCopyWarning: \n",
      "A value is trying to be set on a copy of a slice from a DataFrame.\n",
      "Try using .loc[row_indexer,col_indexer] = value instead\n",
      "\n",
      "See the caveats in the documentation: https://pandas.pydata.org/pandas-docs/stable/user_guide/indexing.html#returning-a-view-versus-a-copy\n",
      "  df_test['y_pred_test'] = y_pred_test\n",
      "/Users/rafaelarndt/capstone/TheGreenCitySolutionsGroup/notebooks/green_city/regression.py:59: SettingWithCopyWarning: \n",
      "A value is trying to be set on a copy of a slice from a DataFrame.\n",
      "Try using .loc[row_indexer,col_indexer] = value instead\n",
      "\n",
      "See the caveats in the documentation: https://pandas.pydata.org/pandas-docs/stable/user_guide/indexing.html#returning-a-view-versus-a-copy\n",
      "  X[col] = X[col].astype('category')\n"
     ]
    },
    {
     "name": "stdout",
     "output_type": "stream",
     "text": [
      "----------------------------------------\n",
      "Random Forest Regressor\n",
      "----------------------------------------\n",
      "R2 (train): 0.94\n",
      "R2 (test) : 0.58\n",
      "MAE (test): 1.48\n",
      "MSE (test): 3.689\n",
      "RMSE(test): 1.921\n",
      "['pred_24h_outdoor_temp', 'pred_24h_outdoor_hum', 'pred_24h_diffuse_solar_W_m2', 'pred_24h_direct_solar_W_m2', 'holiday', 'hour', 'month', 'weekday', 'year_sin365', 'year_cos365', 'year_sin365_2', 'year_cos365_2', 'week_sin365', 'week_cos365', 'week_sin365_2', 'week_cos365_2', 'hour_sin365', 'hour_cos365', 'hour_sin365_2', 'hour_cos365_2', 'target_shift_24', 'target_shift_168']\n"
     ]
    },
    {
     "name": "stderr",
     "output_type": "stream",
     "text": [
      "/var/folders/_t/s3471w991f75_hmpcmrkm6qm0000gn/T/ipykernel_82214/2737797881.py:29: SettingWithCopyWarning: \n",
      "A value is trying to be set on a copy of a slice from a DataFrame.\n",
      "Try using .loc[row_indexer,col_indexer] = value instead\n",
      "\n",
      "See the caveats in the documentation: https://pandas.pydata.org/pandas-docs/stable/user_guide/indexing.html#returning-a-view-versus-a-copy\n",
      "  df_test['y_pred_test'] = y_pred_test\n",
      "/Users/rafaelarndt/capstone/TheGreenCitySolutionsGroup/notebooks/green_city/regression.py:59: SettingWithCopyWarning: \n",
      "A value is trying to be set on a copy of a slice from a DataFrame.\n",
      "Try using .loc[row_indexer,col_indexer] = value instead\n",
      "\n",
      "See the caveats in the documentation: https://pandas.pydata.org/pandas-docs/stable/user_guide/indexing.html#returning-a-view-versus-a-copy\n",
      "  X[col] = X[col].astype('category')\n"
     ]
    },
    {
     "name": "stdout",
     "output_type": "stream",
     "text": [
      "----------------------------------------\n",
      "Random Forest Regressor\n",
      "----------------------------------------\n",
      "R2 (train): 0.956\n",
      "R2 (test) : 0.686\n",
      "MAE (test): 1.79\n",
      "MSE (test): 7.905\n",
      "RMSE(test): 2.812\n",
      "['pred_24h_outdoor_temp', 'pred_24h_outdoor_hum', 'pred_24h_diffuse_solar_W_m2', 'pred_24h_direct_solar_W_m2', 'holiday', 'hour', 'month', 'weekday', 'year_sin365', 'year_cos365', 'year_sin365_2', 'year_cos365_2', 'week_sin365', 'week_cos365', 'week_sin365_2', 'week_cos365_2', 'hour_sin365', 'hour_cos365', 'hour_sin365_2', 'hour_cos365_2', 'target_shift_24', 'target_shift_168']\n"
     ]
    },
    {
     "name": "stderr",
     "output_type": "stream",
     "text": [
      "/var/folders/_t/s3471w991f75_hmpcmrkm6qm0000gn/T/ipykernel_82214/2737797881.py:29: SettingWithCopyWarning: \n",
      "A value is trying to be set on a copy of a slice from a DataFrame.\n",
      "Try using .loc[row_indexer,col_indexer] = value instead\n",
      "\n",
      "See the caveats in the documentation: https://pandas.pydata.org/pandas-docs/stable/user_guide/indexing.html#returning-a-view-versus-a-copy\n",
      "  df_test['y_pred_test'] = y_pred_test\n",
      "/Users/rafaelarndt/capstone/TheGreenCitySolutionsGroup/notebooks/green_city/regression.py:59: SettingWithCopyWarning: \n",
      "A value is trying to be set on a copy of a slice from a DataFrame.\n",
      "Try using .loc[row_indexer,col_indexer] = value instead\n",
      "\n",
      "See the caveats in the documentation: https://pandas.pydata.org/pandas-docs/stable/user_guide/indexing.html#returning-a-view-versus-a-copy\n",
      "  X[col] = X[col].astype('category')\n"
     ]
    },
    {
     "name": "stdout",
     "output_type": "stream",
     "text": [
      "----------------------------------------\n",
      "Random Forest Regressor\n",
      "----------------------------------------\n",
      "R2 (train): 1.0\n",
      "R2 (test) : 0.996\n",
      "MAE (test): 0.184\n",
      "MSE (test): 0.146\n",
      "RMSE(test): 0.382\n",
      "['pred_24h_outdoor_temp', 'pred_24h_outdoor_hum', 'pred_24h_diffuse_solar_W_m2', 'pred_24h_direct_solar_W_m2', 'holiday', 'hour', 'month', 'weekday', 'year_sin365', 'year_cos365', 'year_sin365_2', 'year_cos365_2', 'week_sin365', 'week_cos365', 'week_sin365_2', 'week_cos365_2', 'hour_sin365', 'hour_cos365', 'hour_sin365_2', 'hour_cos365_2', 'target_shift_24', 'target_shift_168']\n"
     ]
    },
    {
     "name": "stderr",
     "output_type": "stream",
     "text": [
      "/var/folders/_t/s3471w991f75_hmpcmrkm6qm0000gn/T/ipykernel_82214/2737797881.py:29: SettingWithCopyWarning: \n",
      "A value is trying to be set on a copy of a slice from a DataFrame.\n",
      "Try using .loc[row_indexer,col_indexer] = value instead\n",
      "\n",
      "See the caveats in the documentation: https://pandas.pydata.org/pandas-docs/stable/user_guide/indexing.html#returning-a-view-versus-a-copy\n",
      "  df_test['y_pred_test'] = y_pred_test\n",
      "/Users/rafaelarndt/capstone/TheGreenCitySolutionsGroup/notebooks/green_city/regression.py:59: SettingWithCopyWarning: \n",
      "A value is trying to be set on a copy of a slice from a DataFrame.\n",
      "Try using .loc[row_indexer,col_indexer] = value instead\n",
      "\n",
      "See the caveats in the documentation: https://pandas.pydata.org/pandas-docs/stable/user_guide/indexing.html#returning-a-view-versus-a-copy\n",
      "  X[col] = X[col].astype('category')\n"
     ]
    },
    {
     "name": "stdout",
     "output_type": "stream",
     "text": [
      "----------------------------------------\n",
      "Random Forest Regressor\n",
      "----------------------------------------\n",
      "R2 (train): 0.996\n",
      "R2 (test) : 0.965\n",
      "MAE (test): 1.358\n",
      "MSE (test): 3.692\n",
      "RMSE(test): 1.921\n",
      "['pred_24h_outdoor_temp', 'pred_24h_outdoor_hum', 'pred_24h_diffuse_solar_W_m2', 'pred_24h_direct_solar_W_m2', 'holiday', 'hour', 'month', 'weekday', 'year_sin365', 'year_cos365', 'year_sin365_2', 'year_cos365_2', 'week_sin365', 'week_cos365', 'week_sin365_2', 'week_cos365_2', 'hour_sin365', 'hour_cos365', 'hour_sin365_2', 'hour_cos365_2', 'target_shift_24', 'target_shift_168']\n"
     ]
    },
    {
     "name": "stderr",
     "output_type": "stream",
     "text": [
      "/var/folders/_t/s3471w991f75_hmpcmrkm6qm0000gn/T/ipykernel_82214/2737797881.py:29: SettingWithCopyWarning: \n",
      "A value is trying to be set on a copy of a slice from a DataFrame.\n",
      "Try using .loc[row_indexer,col_indexer] = value instead\n",
      "\n",
      "See the caveats in the documentation: https://pandas.pydata.org/pandas-docs/stable/user_guide/indexing.html#returning-a-view-versus-a-copy\n",
      "  df_test['y_pred_test'] = y_pred_test\n",
      "/Users/rafaelarndt/capstone/TheGreenCitySolutionsGroup/notebooks/green_city/regression.py:59: SettingWithCopyWarning: \n",
      "A value is trying to be set on a copy of a slice from a DataFrame.\n",
      "Try using .loc[row_indexer,col_indexer] = value instead\n",
      "\n",
      "See the caveats in the documentation: https://pandas.pydata.org/pandas-docs/stable/user_guide/indexing.html#returning-a-view-versus-a-copy\n",
      "  X[col] = X[col].astype('category')\n"
     ]
    },
    {
     "name": "stdout",
     "output_type": "stream",
     "text": [
      "----------------------------------------\n",
      "Random Forest Regressor\n",
      "----------------------------------------\n",
      "R2 (train): 0.927\n",
      "R2 (test) : 0.482\n",
      "MAE (test): 1.656\n",
      "MSE (test): 4.491\n",
      "RMSE(test): 2.119\n",
      "['pred_24h_outdoor_temp', 'pred_24h_outdoor_hum', 'pred_24h_diffuse_solar_W_m2', 'pred_24h_direct_solar_W_m2', 'holiday', 'hour', 'month', 'weekday', 'year_sin365', 'year_cos365', 'year_sin365_2', 'year_cos365_2', 'week_sin365', 'week_cos365', 'week_sin365_2', 'week_cos365_2', 'hour_sin365', 'hour_cos365', 'hour_sin365_2', 'hour_cos365_2', 'target_shift_24', 'target_shift_168']\n"
     ]
    },
    {
     "name": "stderr",
     "output_type": "stream",
     "text": [
      "/var/folders/_t/s3471w991f75_hmpcmrkm6qm0000gn/T/ipykernel_82214/2737797881.py:29: SettingWithCopyWarning: \n",
      "A value is trying to be set on a copy of a slice from a DataFrame.\n",
      "Try using .loc[row_indexer,col_indexer] = value instead\n",
      "\n",
      "See the caveats in the documentation: https://pandas.pydata.org/pandas-docs/stable/user_guide/indexing.html#returning-a-view-versus-a-copy\n",
      "  df_test['y_pred_test'] = y_pred_test\n",
      "/Users/rafaelarndt/capstone/TheGreenCitySolutionsGroup/notebooks/green_city/regression.py:59: SettingWithCopyWarning: \n",
      "A value is trying to be set on a copy of a slice from a DataFrame.\n",
      "Try using .loc[row_indexer,col_indexer] = value instead\n",
      "\n",
      "See the caveats in the documentation: https://pandas.pydata.org/pandas-docs/stable/user_guide/indexing.html#returning-a-view-versus-a-copy\n",
      "  X[col] = X[col].astype('category')\n"
     ]
    },
    {
     "name": "stdout",
     "output_type": "stream",
     "text": [
      "----------------------------------------\n",
      "Random Forest Regressor\n",
      "----------------------------------------\n",
      "R2 (train): 0.953\n",
      "R2 (test) : 0.667\n",
      "MAE (test): 1.701\n",
      "MSE (test): 6.774\n",
      "RMSE(test): 2.603\n",
      "['pred_24h_outdoor_temp', 'pred_24h_outdoor_hum', 'pred_24h_diffuse_solar_W_m2', 'pred_24h_direct_solar_W_m2', 'holiday', 'hour', 'month', 'weekday', 'year_sin365', 'year_cos365', 'year_sin365_2', 'year_cos365_2', 'week_sin365', 'week_cos365', 'week_sin365_2', 'week_cos365_2', 'hour_sin365', 'hour_cos365', 'hour_sin365_2', 'hour_cos365_2', 'target_shift_24', 'target_shift_168']\n"
     ]
    },
    {
     "name": "stderr",
     "output_type": "stream",
     "text": [
      "/var/folders/_t/s3471w991f75_hmpcmrkm6qm0000gn/T/ipykernel_82214/2737797881.py:29: SettingWithCopyWarning: \n",
      "A value is trying to be set on a copy of a slice from a DataFrame.\n",
      "Try using .loc[row_indexer,col_indexer] = value instead\n",
      "\n",
      "See the caveats in the documentation: https://pandas.pydata.org/pandas-docs/stable/user_guide/indexing.html#returning-a-view-versus-a-copy\n",
      "  df_test['y_pred_test'] = y_pred_test\n",
      "/Users/rafaelarndt/capstone/TheGreenCitySolutionsGroup/notebooks/green_city/regression.py:59: SettingWithCopyWarning: \n",
      "A value is trying to be set on a copy of a slice from a DataFrame.\n",
      "Try using .loc[row_indexer,col_indexer] = value instead\n",
      "\n",
      "See the caveats in the documentation: https://pandas.pydata.org/pandas-docs/stable/user_guide/indexing.html#returning-a-view-versus-a-copy\n",
      "  X[col] = X[col].astype('category')\n"
     ]
    },
    {
     "name": "stdout",
     "output_type": "stream",
     "text": [
      "----------------------------------------\n",
      "Random Forest Regressor\n",
      "----------------------------------------\n",
      "R2 (train): 1.0\n",
      "R2 (test) : 0.996\n",
      "MAE (test): 0.147\n",
      "MSE (test): 0.093\n",
      "RMSE(test): 0.305\n",
      "['pred_24h_outdoor_temp', 'pred_24h_outdoor_hum', 'pred_24h_diffuse_solar_W_m2', 'pred_24h_direct_solar_W_m2', 'holiday', 'hour', 'month', 'weekday', 'year_sin365', 'year_cos365', 'year_sin365_2', 'year_cos365_2', 'week_sin365', 'week_cos365', 'week_sin365_2', 'week_cos365_2', 'hour_sin365', 'hour_cos365', 'hour_sin365_2', 'hour_cos365_2', 'target_shift_24', 'target_shift_168']\n"
     ]
    },
    {
     "name": "stderr",
     "output_type": "stream",
     "text": [
      "/var/folders/_t/s3471w991f75_hmpcmrkm6qm0000gn/T/ipykernel_82214/2737797881.py:29: SettingWithCopyWarning: \n",
      "A value is trying to be set on a copy of a slice from a DataFrame.\n",
      "Try using .loc[row_indexer,col_indexer] = value instead\n",
      "\n",
      "See the caveats in the documentation: https://pandas.pydata.org/pandas-docs/stable/user_guide/indexing.html#returning-a-view-versus-a-copy\n",
      "  df_test['y_pred_test'] = y_pred_test\n",
      "/Users/rafaelarndt/capstone/TheGreenCitySolutionsGroup/notebooks/green_city/regression.py:59: SettingWithCopyWarning: \n",
      "A value is trying to be set on a copy of a slice from a DataFrame.\n",
      "Try using .loc[row_indexer,col_indexer] = value instead\n",
      "\n",
      "See the caveats in the documentation: https://pandas.pydata.org/pandas-docs/stable/user_guide/indexing.html#returning-a-view-versus-a-copy\n",
      "  X[col] = X[col].astype('category')\n"
     ]
    },
    {
     "name": "stdout",
     "output_type": "stream",
     "text": [
      "----------------------------------------\n",
      "Random Forest Regressor\n",
      "----------------------------------------\n",
      "R2 (train): 0.996\n",
      "R2 (test) : 0.961\n",
      "MAE (test): 1.356\n",
      "MSE (test): 3.507\n",
      "RMSE(test): 1.873\n",
      "['pred_24h_outdoor_temp', 'pred_24h_outdoor_hum', 'pred_24h_diffuse_solar_W_m2', 'pred_24h_direct_solar_W_m2', 'holiday', 'hour', 'month', 'weekday', 'year_sin365', 'year_cos365', 'year_sin365_2', 'year_cos365_2', 'week_sin365', 'week_cos365', 'week_sin365_2', 'week_cos365_2', 'hour_sin365', 'hour_cos365', 'hour_sin365_2', 'hour_cos365_2', 'target_shift_24', 'target_shift_168']\n"
     ]
    },
    {
     "name": "stderr",
     "output_type": "stream",
     "text": [
      "/var/folders/_t/s3471w991f75_hmpcmrkm6qm0000gn/T/ipykernel_82214/2737797881.py:29: SettingWithCopyWarning: \n",
      "A value is trying to be set on a copy of a slice from a DataFrame.\n",
      "Try using .loc[row_indexer,col_indexer] = value instead\n",
      "\n",
      "See the caveats in the documentation: https://pandas.pydata.org/pandas-docs/stable/user_guide/indexing.html#returning-a-view-versus-a-copy\n",
      "  df_test['y_pred_test'] = y_pred_test\n",
      "/Users/rafaelarndt/capstone/TheGreenCitySolutionsGroup/notebooks/green_city/regression.py:59: SettingWithCopyWarning: \n",
      "A value is trying to be set on a copy of a slice from a DataFrame.\n",
      "Try using .loc[row_indexer,col_indexer] = value instead\n",
      "\n",
      "See the caveats in the documentation: https://pandas.pydata.org/pandas-docs/stable/user_guide/indexing.html#returning-a-view-versus-a-copy\n",
      "  X[col] = X[col].astype('category')\n"
     ]
    },
    {
     "name": "stdout",
     "output_type": "stream",
     "text": [
      "----------------------------------------\n",
      "Random Forest Regressor\n",
      "----------------------------------------\n",
      "R2 (train): 0.935\n",
      "R2 (test) : 0.552\n",
      "MAE (test): 1.942\n",
      "MSE (test): 5.836\n",
      "RMSE(test): 2.416\n",
      "['pred_24h_outdoor_temp', 'pred_24h_outdoor_hum', 'pred_24h_diffuse_solar_W_m2', 'pred_24h_direct_solar_W_m2', 'holiday', 'hour', 'month', 'weekday', 'year_sin365', 'year_cos365', 'year_sin365_2', 'year_cos365_2', 'week_sin365', 'week_cos365', 'week_sin365_2', 'week_cos365_2', 'hour_sin365', 'hour_cos365', 'hour_sin365_2', 'hour_cos365_2', 'target_shift_24', 'target_shift_168']\n"
     ]
    },
    {
     "name": "stderr",
     "output_type": "stream",
     "text": [
      "/var/folders/_t/s3471w991f75_hmpcmrkm6qm0000gn/T/ipykernel_82214/2737797881.py:29: SettingWithCopyWarning: \n",
      "A value is trying to be set on a copy of a slice from a DataFrame.\n",
      "Try using .loc[row_indexer,col_indexer] = value instead\n",
      "\n",
      "See the caveats in the documentation: https://pandas.pydata.org/pandas-docs/stable/user_guide/indexing.html#returning-a-view-versus-a-copy\n",
      "  df_test['y_pred_test'] = y_pred_test\n",
      "/Users/rafaelarndt/capstone/TheGreenCitySolutionsGroup/notebooks/green_city/regression.py:59: SettingWithCopyWarning: \n",
      "A value is trying to be set on a copy of a slice from a DataFrame.\n",
      "Try using .loc[row_indexer,col_indexer] = value instead\n",
      "\n",
      "See the caveats in the documentation: https://pandas.pydata.org/pandas-docs/stable/user_guide/indexing.html#returning-a-view-versus-a-copy\n",
      "  X[col] = X[col].astype('category')\n",
      "/var/folders/_t/s3471w991f75_hmpcmrkm6qm0000gn/T/ipykernel_82214/2737797881.py:29: SettingWithCopyWarning: \n",
      "A value is trying to be set on a copy of a slice from a DataFrame.\n",
      "Try using .loc[row_indexer,col_indexer] = value instead\n",
      "\n",
      "See the caveats in the documentation: https://pandas.pydata.org/pandas-docs/stable/user_guide/indexing.html#returning-a-view-versus-a-copy\n",
      "  df_test['y_pred_test'] = y_pred_test\n",
      "/Users/rafaelarndt/capstone/TheGreenCitySolutionsGroup/notebooks/green_city/regression.py:59: SettingWithCopyWarning: \n",
      "A value is trying to be set on a copy of a slice from a DataFrame.\n",
      "Try using .loc[row_indexer,col_indexer] = value instead\n",
      "\n",
      "See the caveats in the documentation: https://pandas.pydata.org/pandas-docs/stable/user_guide/indexing.html#returning-a-view-versus-a-copy\n",
      "  X[col] = X[col].astype('category')\n"
     ]
    },
    {
     "name": "stdout",
     "output_type": "stream",
     "text": [
      "----------------------------------------\n",
      "Random Forest Regressor\n",
      "----------------------------------------\n",
      "R2 (train): 0.953\n",
      "R2 (test) : 0.666\n",
      "MAE (test): 1.582\n",
      "MSE (test): 6.168\n",
      "RMSE(test): 2.483\n",
      "['pred_24h_outdoor_temp', 'pred_24h_outdoor_hum', 'pred_24h_diffuse_solar_W_m2', 'pred_24h_direct_solar_W_m2', 'holiday', 'hour', 'month', 'weekday', 'year_sin365', 'year_cos365', 'year_sin365_2', 'year_cos365_2', 'week_sin365', 'week_cos365', 'week_sin365_2', 'week_cos365_2', 'hour_sin365', 'hour_cos365', 'hour_sin365_2', 'hour_cos365_2', 'target_shift_24', 'target_shift_168']\n",
      "----------------------------------------\n",
      "Random Forest Regressor\n",
      "----------------------------------------\n",
      "R2 (train): 1.0\n",
      "R2 (test) : 1.0\n",
      "MAE (test): 0.0\n",
      "MSE (test): 0.0\n",
      "RMSE(test): 0.0\n",
      "['pred_24h_outdoor_temp', 'pred_24h_outdoor_hum', 'pred_24h_diffuse_solar_W_m2', 'pred_24h_direct_solar_W_m2', 'holiday', 'hour', 'month', 'weekday', 'year_sin365', 'year_cos365', 'year_sin365_2', 'year_cos365_2', 'week_sin365', 'week_cos365', 'week_sin365_2', 'week_cos365_2', 'hour_sin365', 'hour_cos365', 'hour_sin365_2', 'hour_cos365_2', 'target_shift_24', 'target_shift_168']\n"
     ]
    },
    {
     "name": "stderr",
     "output_type": "stream",
     "text": [
      "/var/folders/_t/s3471w991f75_hmpcmrkm6qm0000gn/T/ipykernel_82214/2737797881.py:29: SettingWithCopyWarning: \n",
      "A value is trying to be set on a copy of a slice from a DataFrame.\n",
      "Try using .loc[row_indexer,col_indexer] = value instead\n",
      "\n",
      "See the caveats in the documentation: https://pandas.pydata.org/pandas-docs/stable/user_guide/indexing.html#returning-a-view-versus-a-copy\n",
      "  df_test['y_pred_test'] = y_pred_test\n",
      "/Users/rafaelarndt/capstone/TheGreenCitySolutionsGroup/notebooks/green_city/regression.py:59: SettingWithCopyWarning: \n",
      "A value is trying to be set on a copy of a slice from a DataFrame.\n",
      "Try using .loc[row_indexer,col_indexer] = value instead\n",
      "\n",
      "See the caveats in the documentation: https://pandas.pydata.org/pandas-docs/stable/user_guide/indexing.html#returning-a-view-versus-a-copy\n",
      "  X[col] = X[col].astype('category')\n"
     ]
    },
    {
     "name": "stdout",
     "output_type": "stream",
     "text": [
      "----------------------------------------\n",
      "Random Forest Regressor\n",
      "----------------------------------------\n",
      "R2 (train): 0.995\n",
      "R2 (test) : 0.951\n",
      "MAE (test): 1.511\n",
      "MSE (test): 4.189\n",
      "RMSE(test): 2.047\n",
      "['pred_24h_outdoor_temp', 'pred_24h_outdoor_hum', 'pred_24h_diffuse_solar_W_m2', 'pred_24h_direct_solar_W_m2', 'holiday', 'hour', 'month', 'weekday', 'year_sin365', 'year_cos365', 'year_sin365_2', 'year_cos365_2', 'week_sin365', 'week_cos365', 'week_sin365_2', 'week_cos365_2', 'hour_sin365', 'hour_cos365', 'hour_sin365_2', 'hour_cos365_2', 'target_shift_24', 'target_shift_168']\n"
     ]
    },
    {
     "name": "stderr",
     "output_type": "stream",
     "text": [
      "/var/folders/_t/s3471w991f75_hmpcmrkm6qm0000gn/T/ipykernel_82214/2737797881.py:29: SettingWithCopyWarning: \n",
      "A value is trying to be set on a copy of a slice from a DataFrame.\n",
      "Try using .loc[row_indexer,col_indexer] = value instead\n",
      "\n",
      "See the caveats in the documentation: https://pandas.pydata.org/pandas-docs/stable/user_guide/indexing.html#returning-a-view-versus-a-copy\n",
      "  df_test['y_pred_test'] = y_pred_test\n",
      "/Users/rafaelarndt/capstone/TheGreenCitySolutionsGroup/notebooks/green_city/regression.py:59: SettingWithCopyWarning: \n",
      "A value is trying to be set on a copy of a slice from a DataFrame.\n",
      "Try using .loc[row_indexer,col_indexer] = value instead\n",
      "\n",
      "See the caveats in the documentation: https://pandas.pydata.org/pandas-docs/stable/user_guide/indexing.html#returning-a-view-versus-a-copy\n",
      "  X[col] = X[col].astype('category')\n"
     ]
    },
    {
     "name": "stdout",
     "output_type": "stream",
     "text": [
      "----------------------------------------\n",
      "Random Forest Regressor\n",
      "----------------------------------------\n",
      "R2 (train): 0.956\n",
      "R2 (test) : 0.686\n",
      "MAE (test): 1.17\n",
      "MSE (test): 2.794\n",
      "RMSE(test): 1.672\n",
      "['pred_24h_outdoor_temp', 'pred_24h_outdoor_hum', 'pred_24h_diffuse_solar_W_m2', 'pred_24h_direct_solar_W_m2', 'holiday', 'hour', 'month', 'weekday', 'year_sin365', 'year_cos365', 'year_sin365_2', 'year_cos365_2', 'week_sin365', 'week_cos365', 'week_sin365_2', 'week_cos365_2', 'hour_sin365', 'hour_cos365', 'hour_sin365_2', 'hour_cos365_2', 'target_shift_24', 'target_shift_168']\n"
     ]
    },
    {
     "name": "stderr",
     "output_type": "stream",
     "text": [
      "/var/folders/_t/s3471w991f75_hmpcmrkm6qm0000gn/T/ipykernel_82214/2737797881.py:29: SettingWithCopyWarning: \n",
      "A value is trying to be set on a copy of a slice from a DataFrame.\n",
      "Try using .loc[row_indexer,col_indexer] = value instead\n",
      "\n",
      "See the caveats in the documentation: https://pandas.pydata.org/pandas-docs/stable/user_guide/indexing.html#returning-a-view-versus-a-copy\n",
      "  df_test['y_pred_test'] = y_pred_test\n",
      "/Users/rafaelarndt/capstone/TheGreenCitySolutionsGroup/notebooks/green_city/regression.py:59: SettingWithCopyWarning: \n",
      "A value is trying to be set on a copy of a slice from a DataFrame.\n",
      "Try using .loc[row_indexer,col_indexer] = value instead\n",
      "\n",
      "See the caveats in the documentation: https://pandas.pydata.org/pandas-docs/stable/user_guide/indexing.html#returning-a-view-versus-a-copy\n",
      "  X[col] = X[col].astype('category')\n",
      "/var/folders/_t/s3471w991f75_hmpcmrkm6qm0000gn/T/ipykernel_82214/2737797881.py:29: SettingWithCopyWarning: \n",
      "A value is trying to be set on a copy of a slice from a DataFrame.\n",
      "Try using .loc[row_indexer,col_indexer] = value instead\n",
      "\n",
      "See the caveats in the documentation: https://pandas.pydata.org/pandas-docs/stable/user_guide/indexing.html#returning-a-view-versus-a-copy\n",
      "  df_test['y_pred_test'] = y_pred_test\n",
      "/Users/rafaelarndt/capstone/TheGreenCitySolutionsGroup/notebooks/green_city/regression.py:59: SettingWithCopyWarning: \n",
      "A value is trying to be set on a copy of a slice from a DataFrame.\n",
      "Try using .loc[row_indexer,col_indexer] = value instead\n",
      "\n",
      "See the caveats in the documentation: https://pandas.pydata.org/pandas-docs/stable/user_guide/indexing.html#returning-a-view-versus-a-copy\n",
      "  X[col] = X[col].astype('category')\n"
     ]
    },
    {
     "name": "stdout",
     "output_type": "stream",
     "text": [
      "----------------------------------------\n",
      "Random Forest Regressor\n",
      "----------------------------------------\n",
      "R2 (train): 0.95\n",
      "R2 (test) : 0.652\n",
      "MAE (test): 1.596\n",
      "MSE (test): 5.837\n",
      "RMSE(test): 2.416\n",
      "['pred_24h_outdoor_temp', 'pred_24h_outdoor_hum', 'pred_24h_diffuse_solar_W_m2', 'pred_24h_direct_solar_W_m2', 'holiday', 'hour', 'month', 'weekday', 'year_sin365', 'year_cos365', 'year_sin365_2', 'year_cos365_2', 'week_sin365', 'week_cos365', 'week_sin365_2', 'week_cos365_2', 'hour_sin365', 'hour_cos365', 'hour_sin365_2', 'hour_cos365_2', 'target_shift_24', 'target_shift_168']\n",
      "----------------------------------------\n",
      "Random Forest Regressor\n",
      "----------------------------------------\n",
      "R2 (train): 1.0\n",
      "R2 (test) : 1.0\n",
      "MAE (test): 0.0\n",
      "MSE (test): 0.0\n",
      "RMSE(test): 0.0\n",
      "['pred_24h_outdoor_temp', 'pred_24h_outdoor_hum', 'pred_24h_diffuse_solar_W_m2', 'pred_24h_direct_solar_W_m2', 'holiday', 'hour', 'month', 'weekday', 'year_sin365', 'year_cos365', 'year_sin365_2', 'year_cos365_2', 'week_sin365', 'week_cos365', 'week_sin365_2', 'week_cos365_2', 'hour_sin365', 'hour_cos365', 'hour_sin365_2', 'hour_cos365_2', 'target_shift_24', 'target_shift_168']\n"
     ]
    },
    {
     "name": "stderr",
     "output_type": "stream",
     "text": [
      "/var/folders/_t/s3471w991f75_hmpcmrkm6qm0000gn/T/ipykernel_82214/2737797881.py:29: SettingWithCopyWarning: \n",
      "A value is trying to be set on a copy of a slice from a DataFrame.\n",
      "Try using .loc[row_indexer,col_indexer] = value instead\n",
      "\n",
      "See the caveats in the documentation: https://pandas.pydata.org/pandas-docs/stable/user_guide/indexing.html#returning-a-view-versus-a-copy\n",
      "  df_test['y_pred_test'] = y_pred_test\n",
      "/Users/rafaelarndt/capstone/TheGreenCitySolutionsGroup/notebooks/green_city/regression.py:59: SettingWithCopyWarning: \n",
      "A value is trying to be set on a copy of a slice from a DataFrame.\n",
      "Try using .loc[row_indexer,col_indexer] = value instead\n",
      "\n",
      "See the caveats in the documentation: https://pandas.pydata.org/pandas-docs/stable/user_guide/indexing.html#returning-a-view-versus-a-copy\n",
      "  X[col] = X[col].astype('category')\n"
     ]
    },
    {
     "name": "stdout",
     "output_type": "stream",
     "text": [
      "----------------------------------------\n",
      "Random Forest Regressor\n",
      "----------------------------------------\n",
      "R2 (train): 0.995\n",
      "R2 (test) : 0.951\n",
      "MAE (test): 1.285\n",
      "MSE (test): 3.408\n",
      "RMSE(test): 1.846\n",
      "['pred_24h_outdoor_temp', 'pred_24h_outdoor_hum', 'pred_24h_diffuse_solar_W_m2', 'pred_24h_direct_solar_W_m2', 'holiday', 'hour', 'month', 'weekday', 'year_sin365', 'year_cos365', 'year_sin365_2', 'year_cos365_2', 'week_sin365', 'week_cos365', 'week_sin365_2', 'week_cos365_2', 'hour_sin365', 'hour_cos365', 'hour_sin365_2', 'hour_cos365_2', 'target_shift_24', 'target_shift_168']\n"
     ]
    },
    {
     "name": "stderr",
     "output_type": "stream",
     "text": [
      "/var/folders/_t/s3471w991f75_hmpcmrkm6qm0000gn/T/ipykernel_82214/2737797881.py:29: SettingWithCopyWarning: \n",
      "A value is trying to be set on a copy of a slice from a DataFrame.\n",
      "Try using .loc[row_indexer,col_indexer] = value instead\n",
      "\n",
      "See the caveats in the documentation: https://pandas.pydata.org/pandas-docs/stable/user_guide/indexing.html#returning-a-view-versus-a-copy\n",
      "  df_test['y_pred_test'] = y_pred_test\n",
      "/Users/rafaelarndt/capstone/TheGreenCitySolutionsGroup/notebooks/green_city/regression.py:59: SettingWithCopyWarning: \n",
      "A value is trying to be set on a copy of a slice from a DataFrame.\n",
      "Try using .loc[row_indexer,col_indexer] = value instead\n",
      "\n",
      "See the caveats in the documentation: https://pandas.pydata.org/pandas-docs/stable/user_guide/indexing.html#returning-a-view-versus-a-copy\n",
      "  X[col] = X[col].astype('category')\n"
     ]
    },
    {
     "name": "stdout",
     "output_type": "stream",
     "text": [
      "----------------------------------------\n",
      "Random Forest Regressor\n",
      "----------------------------------------\n",
      "R2 (train): 0.967\n",
      "R2 (test) : 0.76\n",
      "MAE (test): 1.299\n",
      "MSE (test): 3.264\n",
      "RMSE(test): 1.807\n",
      "['pred_24h_outdoor_temp', 'pred_24h_outdoor_hum', 'pred_24h_diffuse_solar_W_m2', 'pred_24h_direct_solar_W_m2', 'holiday', 'hour', 'month', 'weekday', 'year_sin365', 'year_cos365', 'year_sin365_2', 'year_cos365_2', 'week_sin365', 'week_cos365', 'week_sin365_2', 'week_cos365_2', 'hour_sin365', 'hour_cos365', 'hour_sin365_2', 'hour_cos365_2', 'target_shift_24', 'target_shift_168']\n"
     ]
    },
    {
     "name": "stderr",
     "output_type": "stream",
     "text": [
      "/var/folders/_t/s3471w991f75_hmpcmrkm6qm0000gn/T/ipykernel_82214/2737797881.py:29: SettingWithCopyWarning: \n",
      "A value is trying to be set on a copy of a slice from a DataFrame.\n",
      "Try using .loc[row_indexer,col_indexer] = value instead\n",
      "\n",
      "See the caveats in the documentation: https://pandas.pydata.org/pandas-docs/stable/user_guide/indexing.html#returning-a-view-versus-a-copy\n",
      "  df_test['y_pred_test'] = y_pred_test\n",
      "/Users/rafaelarndt/capstone/TheGreenCitySolutionsGroup/notebooks/green_city/regression.py:59: SettingWithCopyWarning: \n",
      "A value is trying to be set on a copy of a slice from a DataFrame.\n",
      "Try using .loc[row_indexer,col_indexer] = value instead\n",
      "\n",
      "See the caveats in the documentation: https://pandas.pydata.org/pandas-docs/stable/user_guide/indexing.html#returning-a-view-versus-a-copy\n",
      "  X[col] = X[col].astype('category')\n",
      "/var/folders/_t/s3471w991f75_hmpcmrkm6qm0000gn/T/ipykernel_82214/2737797881.py:29: SettingWithCopyWarning: \n",
      "A value is trying to be set on a copy of a slice from a DataFrame.\n",
      "Try using .loc[row_indexer,col_indexer] = value instead\n",
      "\n",
      "See the caveats in the documentation: https://pandas.pydata.org/pandas-docs/stable/user_guide/indexing.html#returning-a-view-versus-a-copy\n",
      "  df_test['y_pred_test'] = y_pred_test\n",
      "/Users/rafaelarndt/capstone/TheGreenCitySolutionsGroup/notebooks/green_city/regression.py:59: SettingWithCopyWarning: \n",
      "A value is trying to be set on a copy of a slice from a DataFrame.\n",
      "Try using .loc[row_indexer,col_indexer] = value instead\n",
      "\n",
      "See the caveats in the documentation: https://pandas.pydata.org/pandas-docs/stable/user_guide/indexing.html#returning-a-view-versus-a-copy\n",
      "  X[col] = X[col].astype('category')\n"
     ]
    },
    {
     "name": "stdout",
     "output_type": "stream",
     "text": [
      "----------------------------------------\n",
      "Random Forest Regressor\n",
      "----------------------------------------\n",
      "R2 (train): 0.95\n",
      "R2 (test) : 0.655\n",
      "MAE (test): 1.621\n",
      "MSE (test): 5.971\n",
      "RMSE(test): 2.443\n",
      "['pred_24h_outdoor_temp', 'pred_24h_outdoor_hum', 'pred_24h_diffuse_solar_W_m2', 'pred_24h_direct_solar_W_m2', 'holiday', 'hour', 'month', 'weekday', 'year_sin365', 'year_cos365', 'year_sin365_2', 'year_cos365_2', 'week_sin365', 'week_cos365', 'week_sin365_2', 'week_cos365_2', 'hour_sin365', 'hour_cos365', 'hour_sin365_2', 'hour_cos365_2', 'target_shift_24', 'target_shift_168']\n",
      "----------------------------------------\n",
      "Random Forest Regressor\n",
      "----------------------------------------\n",
      "R2 (train): 1.0\n",
      "R2 (test) : 1.0\n",
      "MAE (test): 0.0\n",
      "MSE (test): 0.0\n",
      "RMSE(test): 0.0\n",
      "['pred_24h_outdoor_temp', 'pred_24h_outdoor_hum', 'pred_24h_diffuse_solar_W_m2', 'pred_24h_direct_solar_W_m2', 'holiday', 'hour', 'month', 'weekday', 'year_sin365', 'year_cos365', 'year_sin365_2', 'year_cos365_2', 'week_sin365', 'week_cos365', 'week_sin365_2', 'week_cos365_2', 'hour_sin365', 'hour_cos365', 'hour_sin365_2', 'hour_cos365_2', 'target_shift_24', 'target_shift_168']\n",
      "----------------------------------------\n",
      "Random Forest Regressor\n",
      "----------------------------------------\n",
      "R2 (train): 0.996\n",
      "R2 (test) : 0.954\n",
      "MAE (test): 1.376\n",
      "MSE (test): 3.674\n",
      "RMSE(test): 1.917\n"
     ]
    },
    {
     "name": "stderr",
     "output_type": "stream",
     "text": [
      "/var/folders/_t/s3471w991f75_hmpcmrkm6qm0000gn/T/ipykernel_82214/2737797881.py:29: SettingWithCopyWarning: \n",
      "A value is trying to be set on a copy of a slice from a DataFrame.\n",
      "Try using .loc[row_indexer,col_indexer] = value instead\n",
      "\n",
      "See the caveats in the documentation: https://pandas.pydata.org/pandas-docs/stable/user_guide/indexing.html#returning-a-view-versus-a-copy\n",
      "  df_test['y_pred_test'] = y_pred_test\n"
     ]
    }
   ],
   "source": [
    "predictions_df_dict = {}\n",
    "for (b, f) in all_features.columns:\n",
    "    building_nr = b\n",
    "    feature_name = f\n",
    "    target = all_features[(building_nr, feature_name)].rename(\"target\")\n",
    "\n",
    "    input_df = pd.concat([target, external_features], axis=1)\n",
    "\n",
    "    #now we can start predicting\n",
    "    predictions_df_dict[(b, f)] = predict_target_col(input_df)"
   ]
  },
  {
   "cell_type": "code",
   "execution_count": 5,
   "metadata": {},
   "outputs": [],
   "source": [
    "new_preds = pd.DataFrame({\n",
    "    'pred': pd.DataFrame(predictions_df_dict).sum(axis=1),\n",
    "    'datetime': pd.date_range('2011-01-01', '2011-12-31 23:00', freq='H'),\n",
    "}).set_index('datetime')\n",
    "\n",
    "total_net = (\n",
    "    pd.read_csv(\"../data/preprocessed/Agg_buildings.csv\")\n",
    "    .astype({'datetime': 'datetime64'})\n",
    "    .set_index('datetime')\n",
    "    [\"net_load_kW\"]\n",
    ")\n",
    "\n",
    "new_preds[\"actual\"] = total_net"
   ]
  },
  {
   "cell_type": "code",
   "execution_count": 6,
   "metadata": {},
   "outputs": [
    {
     "data": {
      "text/plain": [
       "22.531417523061794"
      ]
     },
     "execution_count": 6,
     "metadata": {},
     "output_type": "execute_result"
    },
    {
     "data": {
      "image/png": "[encoded data removed]",
      "text/plain": [
       "<Figure size 432x288 with 1 Axes>"
      ]
     },
     "metadata": {
      "needs_background": "light"
     },
     "output_type": "display_data"
    }
   ],
   "source": [
    "new_preds[[\"actual\", \"pred\"]].plot()\n",
    "mean_absolute_error(new_preds[\"pred\"], new_preds[\"actual\"])"
   ]
  },
  {
   "cell_type": "markdown",
   "metadata": {},
   "source": [
    "# only total net"
   ]
  },
  {
   "cell_type": "code",
   "execution_count": 7,
   "metadata": {},
   "outputs": [
    {
     "name": "stdout",
     "output_type": "stream",
     "text": [
      "['pred_24h_outdoor_temp', 'pred_24h_outdoor_hum', 'pred_24h_diffuse_solar_W_m2', 'pred_24h_direct_solar_W_m2', 'holiday', 'hour', 'month', 'weekday', 'year_sin365', 'year_cos365', 'year_sin365_2', 'year_cos365_2', 'week_sin365', 'week_cos365', 'week_sin365_2', 'week_cos365_2', 'hour_sin365', 'hour_cos365', 'hour_sin365_2', 'hour_cos365_2', 'target_shift_24', 'target_shift_168']\n"
     ]
    },
    {
     "name": "stderr",
     "output_type": "stream",
     "text": [
      "/Users/rafaelarndt/capstone/TheGreenCitySolutionsGroup/notebooks/green_city/regression.py:59: SettingWithCopyWarning: \n",
      "A value is trying to be set on a copy of a slice from a DataFrame.\n",
      "Try using .loc[row_indexer,col_indexer] = value instead\n",
      "\n",
      "See the caveats in the documentation: https://pandas.pydata.org/pandas-docs/stable/user_guide/indexing.html#returning-a-view-versus-a-copy\n",
      "  X[col] = X[col].astype('category')\n"
     ]
    },
    {
     "name": "stdout",
     "output_type": "stream",
     "text": [
      "----------------------------------------\n",
      "Random Forest Regressor\n",
      "----------------------------------------\n",
      "R2 (train): 0.997\n",
      "R2 (test) : 0.919\n",
      "MAE (test): 28.402\n",
      "MSE (test): 1966.354\n",
      "RMSE(test): 44.344\n"
     ]
    },
    {
     "name": "stderr",
     "output_type": "stream",
     "text": [
      "/var/folders/_t/s3471w991f75_hmpcmrkm6qm0000gn/T/ipykernel_82214/2737797881.py:29: SettingWithCopyWarning: \n",
      "A value is trying to be set on a copy of a slice from a DataFrame.\n",
      "Try using .loc[row_indexer,col_indexer] = value instead\n",
      "\n",
      "See the caveats in the documentation: https://pandas.pydata.org/pandas-docs/stable/user_guide/indexing.html#returning-a-view-versus-a-copy\n",
      "  df_test['y_pred_test'] = y_pred_test\n"
     ]
    },
    {
     "data": {
      "text/plain": [
       "28.40237531392694"
      ]
     },
     "execution_count": 7,
     "metadata": {},
     "output_type": "execute_result"
    },
    {
     "data": {
      "image/png": "[encoded data removed]",
      "text/plain": [
       "<Figure size 432x288 with 1 Axes>"
      ]
     },
     "metadata": {
      "needs_background": "light"
     },
     "output_type": "display_data"
    }
   ],
   "source": [
    "#directly predict net usage:\n",
    "input_df = pd.concat([total_net, external_features], axis=1).rename(columns={'net_load_kW': 'target'})\n",
    "\n",
    "#now we can start predicting\n",
    "net_prediction = predict_target_col(input_df)\n",
    "net_pred_df = pd.DataFrame({\n",
    "    'pred': net_prediction,\n",
    "    'datetime': pd.date_range('2011-01-01', '2011-12-31 23:00', freq='H'),\n",
    "}).set_index('datetime')\n",
    "\n",
    "net_pred_df[\"actual\"] = total_net\n",
    "\n",
    "net_pred_df[[\"actual\", \"pred\"]].plot()\n",
    "mean_absolute_error(net_pred_df[\"pred\"], net_pred_df[\"actual\"])"
   ]
  },
  {
   "cell_type": "markdown",
   "metadata": {},
   "source": [
    "# using component predictions as additional inputs\n",
    "- for this I have to predict in the train years as well, where the error may be different."
   ]
  },
  {
   "cell_type": "code",
   "execution_count": null,
   "metadata": {},
   "outputs": [],
   "source": []
  }
 ],
 "metadata": {
  "kernelspec": {
   "display_name": "Python 3.9.8 ('.venv': venv)",
   "language": "python",
   "name": "python3"
  },
  "language_info": {
   "codemirror_mode": {
    "name": "ipython",
    "version": 3
   },
   "file_extension": ".py",
   "mimetype": "text/x-python",
   "name": "python",
   "nbconvert_exporter": "python",
   "pygments_lexer": "ipython3",
   "version": "3.9.8"
  },
  "orig_nbformat": 4,
  "vscode": {
   "interpreter": {
    "hash": "adec6c5f7a7e6b374924807d676c9e580fd19dbf1c8cad640c4c5a1bb48bcada"
   }
  }
 },
 "nbformat": 4,
 "nbformat_minor": 2
}
