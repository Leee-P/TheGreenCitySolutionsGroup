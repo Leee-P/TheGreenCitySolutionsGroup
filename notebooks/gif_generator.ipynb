{
 "cells": [
  {
   "cell_type": "code",
   "execution_count": 34,
   "metadata": {},
   "outputs": [],
   "source": [
    "#!pip install ffmpy\n",
    "import ffmpy\n"
   ]
  },
  {
   "cell_type": "code",
   "execution_count": 35,
   "metadata": {},
   "outputs": [
    {
     "name": "stderr",
     "output_type": "stream",
     "text": [
      "[Parsed_palettegen_2 @ 0x143e91770] Duped color: FFFDFDFD\n"
     ]
    },
    {
     "data": {
      "text/plain": [
       "(None, None)"
      ]
     },
     "execution_count": 35,
     "metadata": {},
     "output_type": "execute_result"
    }
   ],
   "source": [
    "# Create video color pallet \n",
    "str_input = \"-v warning -ss 00:01 -t 47\"\n",
    "str_output = \"-vf 'fps=15, scale=1280:-1:flags=lanczos, palettegen' -y \"\n",
    "ff = ffmpy.FFmpeg(\n",
    "\tinputs = {\"../images/dash_video.mov\" : str_input},\n",
    "\toutputs = {\"../images/dash_pallete.png\" : str_output})\n",
    "ff.run()"
   ]
  },
  {
   "cell_type": "code",
   "execution_count": 36,
   "metadata": {},
   "outputs": [
    {
     "data": {
      "text/plain": [
       "(None, None)"
      ]
     },
     "execution_count": 36,
     "metadata": {},
     "output_type": "execute_result"
    }
   ],
   "source": [
    "# Create gif\n",
    "str_input = \"-v warning -ss 00:01 -t 47\"\n",
    "str_output = \"-i ../images/dash_pallete.png -lavfi 'fps=15, scale=1280:-1:flags=lanczos [x]; [x][1:v] paletteuse' -y\"\n",
    "ff = ffmpy.FFmpeg(\n",
    "\tinputs = {\"../images/dash_video.mov\" : str_input},\n",
    "\toutputs = {\"../images/dash.gif\" : str_output})\n",
    "ff.run()"
   ]
  }
 ],
 "metadata": {
  "kernelspec": {
   "display_name": "Python 3.9.8 ('.venv': venv)",
   "language": "python",
   "name": "python3"
  },
  "language_info": {
   "codemirror_mode": {
    "name": "ipython",
    "version": 3
   },
   "file_extension": ".py",
   "mimetype": "text/x-python",
   "name": "python",
   "nbconvert_exporter": "python",
   "pygments_lexer": "ipython3",
   "version": "3.9.8"
  },
  "orig_nbformat": 4,
  "vscode": {
   "interpreter": {
    "hash": "936a5df007153d01b3102aafced708416033fa212ee31eb346aae0df437c09f5"
   }
  }
 },
 "nbformat": 4,
 "nbformat_minor": 2
}
