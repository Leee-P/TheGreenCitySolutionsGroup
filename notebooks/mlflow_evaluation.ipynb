{
 "cells": [
  {
   "cell_type": "code",
   "execution_count": 5,
   "metadata": {},
   "outputs": [],
   "source": [
    "import mlflow\n",
    "import pandas as pd\n",
    "import numpy as np\n",
    "import matplotlib.pyplot as plt\n",
    "from mlflow.tracking import MlflowClient\n",
    "from mlflow.entities import ViewType\n",
    "from datetime import datetime, timedelta\n",
    "from pydash import py_\n",
    "from green_city.utils import datetime2index, index2datetime\n",
    "\n",
    "from green_city.mlflow_config import get_mlflow_config\n",
    "mlflow.set_tracking_uri(get_mlflow_config()[\"TRACKING_URI\"])\n",
    "client = MlflowClient()\n",
    "experiment_id = client.get_experiment_by_name(\"green_city_experiments\").experiment_id\n",
    "\n",
    "## DB CONNECTION ##\n",
    "from sqlalchemy import create_engine\n",
    "from decouple import Config, RepositoryEnv\n",
    "\n",
    "config = Config(RepositoryEnv(\"../.db_credentials\"))\n",
    "\n",
    "db_connection_credentials = {\n",
    "    \"database\": config('POSTGRES_DB'),\n",
    "    \"user\": config('POSTGRES_USER'),\n",
    "    \"password\": config('POSTGRES_PASSWORD'),\n",
    "    \"host\": config('POSTGRES_HOST'),\n",
    "    \"port\": config('POSTGRES_PORT'),\n",
    "}\n",
    "DB_STRING = \"postgresql://{user}:{password}@{host}:{port}/{database}\".format(**db_connection_credentials)\n",
    "db = create_engine(DB_STRING)"
   ]
  },
  {
   "cell_type": "code",
   "execution_count": 6,
   "metadata": {},
   "outputs": [],
   "source": [
    "run_ids = [r.run_id for r in client.list_run_infos(experiment_id, run_view_type=ViewType.ACTIVE_ONLY)]\n",
    "\n",
    "all_runs = {run_id: client.get_run(run_id).to_dictionary() for run_id in run_ids}"
   ]
  },
  {
   "cell_type": "code",
   "execution_count": 7,
   "metadata": {},
   "outputs": [],
   "source": [
    "runs_dict = {}\n",
    "\n",
    "for id, details in all_runs.items():\n",
    "    start_time = py_.get(details, \"info.start_time\")\n",
    "    end_time = py_.get(details, \"info.end_time\")\n",
    "    delta = round(end_time/1000 - start_time/1000, 2)\n",
    "    runs_dict[id] = {\n",
    "        \"time_s\": delta,\n",
    "        **py_.get(details, \"data.metrics\"),\n",
    "        **py_.get(details, \"data.params\")\n",
    "    }"
   ]
  },
  {
   "cell_type": "code",
   "execution_count": 8,
   "metadata": {},
   "outputs": [
    {
     "ename": "ValueError",
     "evalue": "cannot convert float NaN to integer",
     "output_type": "error",
     "traceback": [
      "\u001b[0;31m---------------------------------------------------------------------------\u001b[0m",
      "\u001b[0;31mValueError\u001b[0m                                Traceback (most recent call last)",
      "\u001b[1;32m/Users/rafaelarndt/capstone/TheGreenCitySolutionsGroup/notebooks/mlflow_evaluation.ipynb Cell 4\u001b[0m in \u001b[0;36m<cell line: 1>\u001b[0;34m()\u001b[0m\n\u001b[0;32m----> <a href='vscode-notebook-cell:/Users/rafaelarndt/capstone/TheGreenCitySolutionsGroup/notebooks/mlflow_evaluation.ipynb#ch0000003?line=0'>1</a>\u001b[0m df \u001b[39m=\u001b[39m pd\u001b[39m.\u001b[39;49mDataFrame\u001b[39m.\u001b[39;49mfrom_dict(runs_dict, orient\u001b[39m=\u001b[39;49m\u001b[39m'\u001b[39;49m\u001b[39mindex\u001b[39;49m\u001b[39m'\u001b[39;49m)\u001b[39m.\u001b[39;49mastype({\u001b[39m\"\u001b[39;49m\u001b[39mdatetime\u001b[39;49m\u001b[39m\"\u001b[39;49m: \u001b[39m\"\u001b[39;49m\u001b[39mdatetime64[ns]\u001b[39;49m\u001b[39m\"\u001b[39;49m, \u001b[39m\"\u001b[39;49m\u001b[39mindex\u001b[39;49m\u001b[39m\"\u001b[39;49m: \u001b[39m\"\u001b[39;49m\u001b[39mint\u001b[39;49m\u001b[39m\"\u001b[39;49m, \u001b[39m\"\u001b[39;49m\u001b[39mtrain_steps\u001b[39;49m\u001b[39m\"\u001b[39;49m: \u001b[39m\"\u001b[39;49m\u001b[39mfloat\u001b[39;49m\u001b[39m\"\u001b[39;49m})\n\u001b[1;32m      <a href='vscode-notebook-cell:/Users/rafaelarndt/capstone/TheGreenCitySolutionsGroup/notebooks/mlflow_evaluation.ipynb#ch0000003?line=1'>2</a>\u001b[0m df\u001b[39m.\u001b[39mindex \u001b[39m=\u001b[39m df\u001b[39m.\u001b[39mindex\u001b[39m.\u001b[39mrename(\u001b[39m\"\u001b[39m\u001b[39mrun_id\u001b[39m\u001b[39m\"\u001b[39m)\n\u001b[1;32m      <a href='vscode-notebook-cell:/Users/rafaelarndt/capstone/TheGreenCitySolutionsGroup/notebooks/mlflow_evaluation.ipynb#ch0000003?line=3'>4</a>\u001b[0m plt\u001b[39m.\u001b[39mrcParams[\u001b[39m'\u001b[39m\u001b[39mfigure.figsize\u001b[39m\u001b[39m'\u001b[39m] \u001b[39m=\u001b[39m [\u001b[39m25\u001b[39m, \u001b[39m8\u001b[39m]\n",
      "File \u001b[0;32m~/capstone/TheGreenCitySolutionsGroup/.venv/lib/python3.9/site-packages/pandas/core/generic.py:5799\u001b[0m, in \u001b[0;36mNDFrame.astype\u001b[0;34m(self, dtype, copy, errors)\u001b[0m\n\u001b[1;32m   5796\u001b[0m \u001b[39mfor\u001b[39;00m col_name, col \u001b[39min\u001b[39;00m \u001b[39mself\u001b[39m\u001b[39m.\u001b[39mitems():\n\u001b[1;32m   5797\u001b[0m     \u001b[39mif\u001b[39;00m col_name \u001b[39min\u001b[39;00m dtype:\n\u001b[1;32m   5798\u001b[0m         results\u001b[39m.\u001b[39mappend(\n\u001b[0;32m-> 5799\u001b[0m             col\u001b[39m.\u001b[39;49mastype(dtype\u001b[39m=\u001b[39;49mdtype[col_name], copy\u001b[39m=\u001b[39;49mcopy, errors\u001b[39m=\u001b[39;49merrors)\n\u001b[1;32m   5800\u001b[0m         )\n\u001b[1;32m   5801\u001b[0m     \u001b[39melse\u001b[39;00m:\n\u001b[1;32m   5802\u001b[0m         results\u001b[39m.\u001b[39mappend(col\u001b[39m.\u001b[39mcopy() \u001b[39mif\u001b[39;00m copy \u001b[39melse\u001b[39;00m col)\n",
      "File \u001b[0;32m~/capstone/TheGreenCitySolutionsGroup/.venv/lib/python3.9/site-packages/pandas/core/generic.py:5815\u001b[0m, in \u001b[0;36mNDFrame.astype\u001b[0;34m(self, dtype, copy, errors)\u001b[0m\n\u001b[1;32m   5808\u001b[0m     results \u001b[39m=\u001b[39m [\n\u001b[1;32m   5809\u001b[0m         \u001b[39mself\u001b[39m\u001b[39m.\u001b[39miloc[:, i]\u001b[39m.\u001b[39mastype(dtype, copy\u001b[39m=\u001b[39mcopy)\n\u001b[1;32m   5810\u001b[0m         \u001b[39mfor\u001b[39;00m i \u001b[39min\u001b[39;00m \u001b[39mrange\u001b[39m(\u001b[39mlen\u001b[39m(\u001b[39mself\u001b[39m\u001b[39m.\u001b[39mcolumns))\n\u001b[1;32m   5811\u001b[0m     ]\n\u001b[1;32m   5813\u001b[0m \u001b[39melse\u001b[39;00m:\n\u001b[1;32m   5814\u001b[0m     \u001b[39m# else, only a single dtype is given\u001b[39;00m\n\u001b[0;32m-> 5815\u001b[0m     new_data \u001b[39m=\u001b[39m \u001b[39mself\u001b[39;49m\u001b[39m.\u001b[39;49m_mgr\u001b[39m.\u001b[39;49mastype(dtype\u001b[39m=\u001b[39;49mdtype, copy\u001b[39m=\u001b[39;49mcopy, errors\u001b[39m=\u001b[39;49merrors)\n\u001b[1;32m   5816\u001b[0m     \u001b[39mreturn\u001b[39;00m \u001b[39mself\u001b[39m\u001b[39m.\u001b[39m_constructor(new_data)\u001b[39m.\u001b[39m__finalize__(\u001b[39mself\u001b[39m, method\u001b[39m=\u001b[39m\u001b[39m\"\u001b[39m\u001b[39mastype\u001b[39m\u001b[39m\"\u001b[39m)\n\u001b[1;32m   5818\u001b[0m \u001b[39m# GH 33113: handle empty frame or series\u001b[39;00m\n",
      "File \u001b[0;32m~/capstone/TheGreenCitySolutionsGroup/.venv/lib/python3.9/site-packages/pandas/core/internals/managers.py:418\u001b[0m, in \u001b[0;36mBaseBlockManager.astype\u001b[0;34m(self, dtype, copy, errors)\u001b[0m\n\u001b[1;32m    417\u001b[0m \u001b[39mdef\u001b[39;00m \u001b[39mastype\u001b[39m(\u001b[39mself\u001b[39m: T, dtype, copy: \u001b[39mbool\u001b[39m \u001b[39m=\u001b[39m \u001b[39mFalse\u001b[39;00m, errors: \u001b[39mstr\u001b[39m \u001b[39m=\u001b[39m \u001b[39m\"\u001b[39m\u001b[39mraise\u001b[39m\u001b[39m\"\u001b[39m) \u001b[39m-\u001b[39m\u001b[39m>\u001b[39m T:\n\u001b[0;32m--> 418\u001b[0m     \u001b[39mreturn\u001b[39;00m \u001b[39mself\u001b[39;49m\u001b[39m.\u001b[39;49mapply(\u001b[39m\"\u001b[39;49m\u001b[39mastype\u001b[39;49m\u001b[39m\"\u001b[39;49m, dtype\u001b[39m=\u001b[39;49mdtype, copy\u001b[39m=\u001b[39;49mcopy, errors\u001b[39m=\u001b[39;49merrors)\n",
      "File \u001b[0;32m~/capstone/TheGreenCitySolutionsGroup/.venv/lib/python3.9/site-packages/pandas/core/internals/managers.py:327\u001b[0m, in \u001b[0;36mBaseBlockManager.apply\u001b[0;34m(self, f, align_keys, ignore_failures, **kwargs)\u001b[0m\n\u001b[1;32m    325\u001b[0m         applied \u001b[39m=\u001b[39m b\u001b[39m.\u001b[39mapply(f, \u001b[39m*\u001b[39m\u001b[39m*\u001b[39mkwargs)\n\u001b[1;32m    326\u001b[0m     \u001b[39melse\u001b[39;00m:\n\u001b[0;32m--> 327\u001b[0m         applied \u001b[39m=\u001b[39m \u001b[39mgetattr\u001b[39;49m(b, f)(\u001b[39m*\u001b[39;49m\u001b[39m*\u001b[39;49mkwargs)\n\u001b[1;32m    328\u001b[0m \u001b[39mexcept\u001b[39;00m (\u001b[39mTypeError\u001b[39;00m, \u001b[39mNotImplementedError\u001b[39;00m):\n\u001b[1;32m    329\u001b[0m     \u001b[39mif\u001b[39;00m \u001b[39mnot\u001b[39;00m ignore_failures:\n",
      "File \u001b[0;32m~/capstone/TheGreenCitySolutionsGroup/.venv/lib/python3.9/site-packages/pandas/core/internals/blocks.py:591\u001b[0m, in \u001b[0;36mBlock.astype\u001b[0;34m(self, dtype, copy, errors)\u001b[0m\n\u001b[1;32m    573\u001b[0m \u001b[39m\"\"\"\u001b[39;00m\n\u001b[1;32m    574\u001b[0m \u001b[39mCoerce to the new dtype.\u001b[39;00m\n\u001b[1;32m    575\u001b[0m \n\u001b[0;32m   (...)\u001b[0m\n\u001b[1;32m    587\u001b[0m \u001b[39mBlock\u001b[39;00m\n\u001b[1;32m    588\u001b[0m \u001b[39m\"\"\"\u001b[39;00m\n\u001b[1;32m    589\u001b[0m values \u001b[39m=\u001b[39m \u001b[39mself\u001b[39m\u001b[39m.\u001b[39mvalues\n\u001b[0;32m--> 591\u001b[0m new_values \u001b[39m=\u001b[39m astype_array_safe(values, dtype, copy\u001b[39m=\u001b[39;49mcopy, errors\u001b[39m=\u001b[39;49merrors)\n\u001b[1;32m    593\u001b[0m new_values \u001b[39m=\u001b[39m maybe_coerce_values(new_values)\n\u001b[1;32m    594\u001b[0m newb \u001b[39m=\u001b[39m \u001b[39mself\u001b[39m\u001b[39m.\u001b[39mmake_block(new_values)\n",
      "File \u001b[0;32m~/capstone/TheGreenCitySolutionsGroup/.venv/lib/python3.9/site-packages/pandas/core/dtypes/cast.py:1309\u001b[0m, in \u001b[0;36mastype_array_safe\u001b[0;34m(values, dtype, copy, errors)\u001b[0m\n\u001b[1;32m   1306\u001b[0m dtype \u001b[39m=\u001b[39m pandas_dtype(dtype)\n\u001b[1;32m   1308\u001b[0m \u001b[39mtry\u001b[39;00m:\n\u001b[0;32m-> 1309\u001b[0m     new_values \u001b[39m=\u001b[39m astype_array(values, dtype, copy\u001b[39m=\u001b[39;49mcopy)\n\u001b[1;32m   1310\u001b[0m \u001b[39mexcept\u001b[39;00m (\u001b[39mValueError\u001b[39;00m, \u001b[39mTypeError\u001b[39;00m):\n\u001b[1;32m   1311\u001b[0m     \u001b[39m# e.g. astype_nansafe can fail on object-dtype of strings\u001b[39;00m\n\u001b[1;32m   1312\u001b[0m     \u001b[39m#  trying to convert to float\u001b[39;00m\n\u001b[1;32m   1313\u001b[0m     \u001b[39mif\u001b[39;00m errors \u001b[39m==\u001b[39m \u001b[39m\"\u001b[39m\u001b[39mignore\u001b[39m\u001b[39m\"\u001b[39m:\n",
      "File \u001b[0;32m~/capstone/TheGreenCitySolutionsGroup/.venv/lib/python3.9/site-packages/pandas/core/dtypes/cast.py:1257\u001b[0m, in \u001b[0;36mastype_array\u001b[0;34m(values, dtype, copy)\u001b[0m\n\u001b[1;32m   1254\u001b[0m     values \u001b[39m=\u001b[39m values\u001b[39m.\u001b[39mastype(dtype, copy\u001b[39m=\u001b[39mcopy)\n\u001b[1;32m   1256\u001b[0m \u001b[39melse\u001b[39;00m:\n\u001b[0;32m-> 1257\u001b[0m     values \u001b[39m=\u001b[39m astype_nansafe(values, dtype, copy\u001b[39m=\u001b[39;49mcopy)\n\u001b[1;32m   1259\u001b[0m \u001b[39m# in pandas we don't store numpy str dtypes, so convert to object\u001b[39;00m\n\u001b[1;32m   1260\u001b[0m \u001b[39mif\u001b[39;00m \u001b[39misinstance\u001b[39m(dtype, np\u001b[39m.\u001b[39mdtype) \u001b[39mand\u001b[39;00m \u001b[39missubclass\u001b[39m(values\u001b[39m.\u001b[39mdtype\u001b[39m.\u001b[39mtype, \u001b[39mstr\u001b[39m):\n",
      "File \u001b[0;32m~/capstone/TheGreenCitySolutionsGroup/.venv/lib/python3.9/site-packages/pandas/core/dtypes/cast.py:1174\u001b[0m, in \u001b[0;36mastype_nansafe\u001b[0;34m(arr, dtype, copy, skipna)\u001b[0m\n\u001b[1;32m   1170\u001b[0m \u001b[39melif\u001b[39;00m is_object_dtype(arr):\n\u001b[1;32m   1171\u001b[0m \n\u001b[1;32m   1172\u001b[0m     \u001b[39m# work around NumPy brokenness, #1987\u001b[39;00m\n\u001b[1;32m   1173\u001b[0m     \u001b[39mif\u001b[39;00m np\u001b[39m.\u001b[39missubdtype(dtype\u001b[39m.\u001b[39mtype, np\u001b[39m.\u001b[39minteger):\n\u001b[0;32m-> 1174\u001b[0m         \u001b[39mreturn\u001b[39;00m lib\u001b[39m.\u001b[39;49mastype_intsafe(arr, dtype)\n\u001b[1;32m   1176\u001b[0m     \u001b[39m# if we have a datetime/timedelta array of objects\u001b[39;00m\n\u001b[1;32m   1177\u001b[0m     \u001b[39m# then coerce to a proper dtype and recall astype_nansafe\u001b[39;00m\n\u001b[1;32m   1179\u001b[0m     \u001b[39melif\u001b[39;00m is_datetime64_dtype(dtype):\n",
      "File \u001b[0;32m~/capstone/TheGreenCitySolutionsGroup/.venv/lib/python3.9/site-packages/pandas/_libs/lib.pyx:679\u001b[0m, in \u001b[0;36mpandas._libs.lib.astype_intsafe\u001b[0;34m()\u001b[0m\n",
      "\u001b[0;31mValueError\u001b[0m: cannot convert float NaN to integer"
     ]
    }
   ],
   "source": [
    "df = pd.DataFrame.from_dict(runs_dict, orient='index').astype({\"datetime\": \"datetime64[ns]\", \"index\": \"int\", \"train_steps\": \"float\"})\n",
    "df.index = df.index.rename(\"run_id\")\n",
    "\n",
    "plt.rcParams['figure.figsize'] = [25, 8]\n",
    "df[df.feature==\"net_load_kWh\"].loc[:, [\"mae\", \"mse\", \"r2_score\"]].plot.barh()\n",
    "#df[df.feature==\"net_load_kWh\"].loc[:, [\"time_s\"]].plot.barh()\n",
    "df.to_csv(\"../data/results/evaluation_matrix.csv\")"
   ]
  },
  {
   "cell_type": "code",
   "execution_count": null,
   "metadata": {},
   "outputs": [],
   "source": [
    "plt.rcParams['figure.figsize'] = [12, 4]\n",
    "\n",
    "def steps2str(v):\n",
    "    if np.isnan(v):\n",
    "        return \"\"\n",
    "    return f\"_{str(int(v))}\"\n",
    "    \n",
    "model2color = {\n",
    "    \"baseline\": \"orange\",\n",
    "    \"TBATS\": \"blue\",\n",
    "}\n",
    "\n",
    "indices = [32135, 33311, 26478, 33357, 30387, 30794, 31800, 28783]\n",
    "for index in indices:\n",
    "    fig = plt.figure()\n",
    "    plot_df = (df[df[\"index\"] == index]\n",
    "                .sort_values(\"mse\", ascending=False)\n",
    "                .assign(col = lambda x:x[\"model\"].map(lambda x: model2color.get(x, \"black\")))\n",
    "                #.assign(label = lambda x: f\"{x['model']}{steps2str(x['train_steps'])}\")\n",
    "    )\n",
    "    plot_df['submodel'] = plot_df['train_steps'].map(steps2str)\n",
    "    plot_df['label'] = [''.join(i) for i in zip(plot_df['model'], plot_df['submodel'])]\n",
    "    plot_df.plot.barh(x=\"label\", y=\"mse\", color=plot_df[\"col\"], legend=None)\n",
    "    plt.xlabel(\"Mean squared error\")\n",
    "    plt.ylabel(None)\n",
    "    plt.suptitle(f\"{str(index2datetime(index+1))} to {str(index2datetime(index+24))}\")"
   ]
  },
  {
   "cell_type": "code",
   "execution_count": null,
   "metadata": {},
   "outputs": [],
   "source": [
    "# Load the actual dataset\n",
    "def get_df(building_nr, feature):\n",
    "    df = (\n",
    "    pd.read_csv(f\"../data/preprocessed/Building_{building_nr}.csv\")\n",
    "        .astype({'datetime': 'datetime64'})\n",
    "        [[feature, \"datetime\"]]\n",
    "        .rename(columns={feature: \"actual\"})\n",
    "    )\n",
    "    df.index.name = \"id\"\n",
    "    return df\n",
    "\n",
    "actual_df = get_df(5, \"net_load_kWh\")"
   ]
  },
  {
   "cell_type": "code",
   "execution_count": null,
   "metadata": {},
   "outputs": [],
   "source": [
    "plt.rcParams['figure.figsize'] = [25, 6]\n",
    "\n",
    "index_to_plot = indices[0]\n",
    "plot_df = df[df[\"index\"] == index_to_plot]\n",
    "plot_df\n",
    "\n",
    "y_true = actual_df.loc[index_to_plot+1-50:index_to_plot+24].set_index(\"datetime\")\n",
    "\n",
    "for run_id, run_data in plot_df.iterrows():\n",
    "    query_string = f\"SELECT * FROM forecast WHERE run_id='{run_id}'\" # LIMIT 10\"\n",
    "    run_predictions = pd.read_sql(query_string, db).drop(columns=\"run_id\")\n",
    "    run_predictions[\"datetime\"] = run_predictions[\"id\"].map(index2datetime)#y_true.index\n",
    "    color = model2color[run_data.model]\n",
    "    plt.plot(run_predictions.drop(columns=[\"id\"]).set_index(\"datetime\"), color=color)\n",
    "plt.plot(y_true, color=\"black\");"
   ]
  },
  {
   "cell_type": "code",
   "execution_count": null,
   "metadata": {},
   "outputs": [],
   "source": [
    "query_string = \"SELECT * FROM forecast\" # LIMIT 10\"\n",
    "run_predictions = pd.read_sql(query_string, db)"
   ]
  },
  {
   "cell_type": "code",
   "execution_count": null,
   "metadata": {},
   "outputs": [],
   "source": [
    "len(run_predictions)"
   ]
  },
  {
   "cell_type": "code",
   "execution_count": null,
   "metadata": {},
   "outputs": [],
   "source": [
    "indices = [32135, 33311, 26478, 33357, 30387, 30794, 31800, 28783]\n",
    "times = [(index2datetime(i), i+1, i+24) for i in indices]\n",
    "display(times)"
   ]
  },
  {
   "cell_type": "markdown",
   "metadata": {},
   "source": [
    "# upload building data from csv to database"
   ]
  },
  {
   "cell_type": "code",
   "execution_count": null,
   "metadata": {},
   "outputs": [],
   "source": [
    "if False:\n",
    "    building_nr = 5\n",
    "    df = pd.read_csv(f\"../data/preprocessed/Building_{building_nr}.csv\").astype({'datetime': 'datetime64'})\n",
    "    df.index.name = \"id\"\n",
    "    \n",
    "    df.to_sql(\"building5\", con=db)"
   ]
  }
 ],
 "metadata": {
  "kernelspec": {
   "display_name": "Python 3.9.8 ('.venv': venv)",
   "language": "python",
   "name": "python3"
  },
  "language_info": {
   "codemirror_mode": {
    "name": "ipython",
    "version": 3
   },
   "file_extension": ".py",
   "mimetype": "text/x-python",
   "name": "python",
   "nbconvert_exporter": "python",
   "pygments_lexer": "ipython3",
   "version": "3.9.8"
  },
  "orig_nbformat": 4,
  "vscode": {
   "interpreter": {
    "hash": "adec6c5f7a7e6b374924807d676c9e580fd19dbf1c8cad640c4c5a1bb48bcada"
   }
  }
 },
 "nbformat": 4,
 "nbformat_minor": 2
}
